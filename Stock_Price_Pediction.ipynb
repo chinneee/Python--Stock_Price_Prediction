
        "# **Khai báo các thư viện**"
      ]
    },
    {
      "cell_type": "code",
      "execution_count": null,
      "metadata": {
        "id": "nqqURSFX3vRa"
      },
      "outputs": [],
      "source": [
        "import pandas as pd\n",
        "import numpy as np\n",
        "from vnstock import *\n",
        "\n",
        "from datetime import *\n",
        "from dateutil.relativedelta import relativedelta as reladate\n",
        "\n",
        "from pmdarima import auto_arima\n",
        "from statsmodels.tsa.arima.model import ARIMA\n",
        "\n",
        "from sklearn.metrics import mean_squared_error\n",
        "from sklearn.model_selection import train_test_split\n",
        "\n",
        "import plotly.graph_objects as go\n",
        "from plotly.subplots import make_subplots as msplt\n",
        "import matplotlib.pyplot as plt\n",
        "\n",
        "import warnings\n",
        "warnings.filterwarnings(\"ignore\")"
      ]
    },
    {
      "cell_type": "markdown",
      "metadata": {
        "id": "RV6F-A48e4DF"
      },
      "source": [
        "# **Phần 1: Thu thập và tiền xử lý dữ liệu**"
      ]
    },
    {
      "cell_type": "markdown",
      "metadata": {
        "id": "pCowtTqTgpz5"
      },
      "source": [
        "## **Lựa chọn khoảng thời gian để xây dựng mô hình dự đoán từ 01-01-2021 đến hiện tại**"
      ]
    },
    {
      "cell_type": "code",
      "execution_count": null,
      "metadata": {
        "colab": {
          "base_uri": "https://localhost:8080/"
        },
        "id": "ovzFb78N33YV",
        "outputId": "5f2399f9-b32c-4eec-e7af-c2f23f410641"
      },
      "outputs": [
        {
          "output_type": "stream",
          "name": "stdout",
          "text": [
            "start_date: 2021-01-01\n",
            "end_date: 2024-05-04\n"
          ]
        }
      ],
      "source": [
        "# Tính ngày bắt đầu bằng cách lấy ngày hiện tại và trừ đi một khoảng thời gian ba năm\n",
        "end_date = date.today()\n",
        "start_date = end_date - reladate(years=3)\n",
        "# Đặt ngày bắt đầu thành ngày đầu tiên của năm tương ứng với 'start_date'\n",
        "start_date = date(start_date.year,1,1)\n",
        "# Chuyển đổi cả start_date và end_date thành chuỗi có định dạng (năm-tháng-ngày)\n",
        "end_date = end_date.strftime('%Y-%m-%d')\n",
        "start_date = start_date.strftime('%Y-%m-%d')\n",
        "\n",
        "print(\"start_date: {0}\\nend_date: {1}\".format(start_date, end_date))"
      ]
    },
    {
      "cell_type": "markdown",
      "metadata": {
        "id": "zK8F2bVmhTNK"
      },
      "source": [
        "## **Lấy dữ liệu từ vnstock với mã cổ phiếu là HPG theo thời gian đã chọn**"
      ]
    },
    {
      "cell_type": "code",
      "execution_count": null,
      "metadata": {
        "id": "pI5sUcusDRqm"
      },
      "outputs": [],
      "source": [
        "# Tạo một DataFrame chứa dữ liệu lịch sử của cổ phiếu với ký hiệu scode từ ngày start_date đến ngày end_date\n",
        "df_hpg = stock_historical_data(symbol='HPG', start_date=start_date, end_date=end_date)\n",
        "# Đặt cột 'time' làm chỉ mục của DataFrame\n",
        "df_hpg = df_hpg.set_index('time')\n",
        "# Đặt chỉ mục 'time' thành dạng thời gian\n",
        "df_hpg.index = pd.to_datetime(df_hpg.index)"
      ]
    },
    {
      "cell_type": "code",
      "execution_count": null,
      "metadata": {
        "colab": {
          "base_uri": "https://localhost:8080/",
          "height": 455
        },
        "id": "u2Bho83VK6tX",
        "outputId": "f91f597a-61f7-4a00-b644-12a779b89483"
      },
      "outputs": [
        {
          "output_type": "execute_result",
          "data": {
            "text/plain": [
              "             open   high    low  close    volume ticker\n",
              "time                                                   \n",
              "2021-01-04  23350  23910  23160  23520  15832600    HPG\n",
              "2021-01-05  23240  23800  23190  23550  18634100    HPG\n",
              "2021-01-06  23630  24080  23520  23800  17948600    HPG\n",
              "2021-01-07  23990  24020  23490  23800  21780700    HPG\n",
              "2021-01-08  23850  24080  23690  23770  19978500    HPG\n",
              "...           ...    ...    ...    ...       ...    ...\n",
              "2024-04-24  27900  28950  27750  28800  23052000    HPG\n",
              "2024-04-25  28700  28700  28300  28550  11236400    HPG\n",
              "2024-04-26  28300  28550  28050  28400  18304000    HPG\n",
              "2024-05-02  28400  28400  28050  28350   7322100    HPG\n",
              "2024-05-03  28350  29100  28350  28650  16714800    HPG\n",
              "\n",
              "[829 rows x 6 columns]"
            ],
            "text/html": [
              "\n",
              "  <div id=\"df-f9548971-9257-473e-908c-bf911d8cd8f9\" class=\"colab-df-container\">\n",
              "    <div>\n",
              "<style scoped>\n",
              "    .dataframe tbody tr th:only-of-type {\n",
              "        vertical-align: middle;\n",
              "    }\n",
              "\n",
              "    .dataframe tbody tr th {\n",
              "        vertical-align: top;\n",
              "    }\n",
              "\n",
              "    .dataframe thead th {\n",
              "        text-align: right;\n",
              "    }\n",
              "</style>\n",
              "<table border=\"1\" class=\"dataframe\">\n",
              "  <thead>\n",
              "    <tr style=\"text-align: right;\">\n",
              "      <th></th>\n",
              "      <th>open</th>\n",
              "      <th>high</th>\n",
              "      <th>low</th>\n",
              "      <th>close</th>\n",
              "      <th>volume</th>\n",
              "      <th>ticker</th>\n",
              "    </tr>\n",
              "    <tr>\n",
              "      <th>time</th>\n",
              "      <th></th>\n",
              "      <th></th>\n",
              "      <th></th>\n",
              "      <th></th>\n",
              "      <th></th>\n",
              "      <th></th>\n",
              "    </tr>\n",
              "  </thead>\n",
              "  <tbody>\n",
              "    <tr>\n",
              "      <th>2021-01-04</th>\n",
              "      <td>23350</td>\n",
              "      <td>23910</td>\n",
              "      <td>23160</td>\n",
              "      <td>23520</td>\n",
              "      <td>15832600</td>\n",
              "      <td>HPG</td>\n",
              "    </tr>\n",
              "    <tr>\n",
              "      <th>2021-01-05</th>\n",
              "      <td>23240</td>\n",
              "      <td>23800</td>\n",
              "      <td>23190</td>\n",
              "      <td>23550</td>\n",
              "      <td>18634100</td>\n",
              "      <td>HPG</td>\n",
              "    </tr>\n",
              "    <tr>\n",
              "      <th>2021-01-06</th>\n",
              "      <td>23630</td>\n",
              "      <td>24080</td>\n",
              "      <td>23520</td>\n",
              "      <td>23800</td>\n",
              "      <td>17948600</td>\n",
              "      <td>HPG</td>\n",
              "    </tr>\n",
              "    <tr>\n",
              "      <th>2021-01-07</th>\n",
              "      <td>23990</td>\n",
              "      <td>24020</td>\n",
              "      <td>23490</td>\n",
              "      <td>23800</td>\n",
              "      <td>21780700</td>\n",
              "      <td>HPG</td>\n",
              "    </tr>\n",
              "    <tr>\n",
              "      <th>2021-01-08</th>\n",
              "      <td>23850</td>\n",
              "      <td>24080</td>\n",
              "      <td>23690</td>\n",
              "      <td>23770</td>\n",
              "      <td>19978500</td>\n",
              "      <td>HPG</td>\n",
              "    </tr>\n",
              "    <tr>\n",
              "      <th>...</th>\n",
              "      <td>...</td>\n",
              "      <td>...</td>\n",
              "      <td>...</td>\n",
              "      <td>...</td>\n",
              "      <td>...</td>\n",
              "      <td>...</td>\n",
              "    </tr>\n",
              "    <tr>\n",
              "      <th>2024-04-24</th>\n",
              "      <td>27900</td>\n",
              "      <td>28950</td>\n",
              "      <td>27750</td>\n",
              "      <td>28800</td>\n",
              "      <td>23052000</td>\n",
              "      <td>HPG</td>\n",
              "    </tr>\n",
              "    <tr>\n",
              "      <th>2024-04-25</th>\n",
              "      <td>28700</td>\n",
              "      <td>28700</td>\n",
              "      <td>28300</td>\n",
              "      <td>28550</td>\n",
              "      <td>11236400</td>\n",
              "      <td>HPG</td>\n",
              "    </tr>\n",
              "    <tr>\n",
              "      <th>2024-04-26</th>\n",
              "      <td>28300</td>\n",
              "      <td>28550</td>\n",
              "      <td>28050</td>\n",
              "      <td>28400</td>\n",
              "      <td>18304000</td>\n",
              "      <td>HPG</td>\n",
              "    </tr>\n",
              "    <tr>\n",
              "      <th>2024-05-02</th>\n",
              "      <td>28400</td>\n",
              "      <td>28400</td>\n",
              "      <td>28050</td>\n",
              "      <td>28350</td>\n",
              "      <td>7322100</td>\n",
              "      <td>HPG</td>\n",
              "    </tr>\n",
              "    <tr>\n",
              "      <th>2024-05-03</th>\n",
              "      <td>28350</td>\n",
              "      <td>29100</td>\n",
              "      <td>28350</td>\n",
              "      <td>28650</td>\n",
              "      <td>16714800</td>\n",
              "      <td>HPG</td>\n",
              "    </tr>\n",
              "  </tbody>\n",
              "</table>\n",
              "<p>829 rows × 6 columns</p>\n",
              "</div>\n",
              "    <div class=\"colab-df-buttons\">\n",
              "\n",
              "  <div class=\"colab-df-container\">\n",
              "    <button class=\"colab-df-convert\" onclick=\"convertToInteractive('df-f9548971-9257-473e-908c-bf911d8cd8f9')\"\n",
              "            title=\"Convert this dataframe to an interactive table.\"\n",
              "            style=\"display:none;\">\n",
              "\n",
              "  <svg xmlns=\"http://www.w3.org/2000/svg\" height=\"24px\" viewBox=\"0 -960 960 960\">\n",
              "    <path d=\"M120-120v-720h720v720H120Zm60-500h600v-160H180v160Zm220 220h160v-160H400v160Zm0 220h160v-160H400v160ZM180-400h160v-160H180v160Zm440 0h160v-160H620v160ZM180-180h160v-160H180v160Zm440 0h160v-160H620v160Z\"/>\n",
              "  </svg>\n",
              "    </button>\n",
              "\n",
              "  <style>\n",
              "    .colab-df-container {\n",
              "      display:flex;\n",
              "      gap: 12px;\n",
              "    }\n",
              "\n",
              "    .colab-df-convert {\n",
              "      background-color: #E8F0FE;\n",
              "      border: none;\n",
              "      border-radius: 50%;\n",
              "      cursor: pointer;\n",
              "      display: none;\n",
              "      fill: #1967D2;\n",
              "      height: 32px;\n",
              "      padding: 0 0 0 0;\n",
              "      width: 32px;\n",
              "    }\n",
              "\n",
              "    .colab-df-convert:hover {\n",
              "      background-color: #E2EBFA;\n",
              "      box-shadow: 0px 1px 2px rgba(60, 64, 67, 0.3), 0px 1px 3px 1px rgba(60, 64, 67, 0.15);\n",
              "      fill: #174EA6;\n",
              "    }\n",
              "\n",
              "    .colab-df-buttons div {\n",
              "      margin-bottom: 4px;\n",
              "    }\n",
              "\n",
              "    [theme=dark] .colab-df-convert {\n",
              "      background-color: #3B4455;\n",
              "      fill: #D2E3FC;\n",
              "    }\n",
              "\n",
              "    [theme=dark] .colab-df-convert:hover {\n",
              "      background-color: #434B5C;\n",
              "      box-shadow: 0px 1px 3px 1px rgba(0, 0, 0, 0.15);\n",
              "      filter: drop-shadow(0px 1px 2px rgba(0, 0, 0, 0.3));\n",
              "      fill: #FFFFFF;\n",
              "    }\n",
              "  </style>\n",
              "\n",
              "    <script>\n",
              "      const buttonEl =\n",
              "        document.querySelector('#df-f9548971-9257-473e-908c-bf911d8cd8f9 button.colab-df-convert');\n",
              "      buttonEl.style.display =\n",
              "        google.colab.kernel.accessAllowed ? 'block' : 'none';\n",
              "\n",
              "      async function convertToInteractive(key) {\n",
              "        const element = document.querySelector('#df-f9548971-9257-473e-908c-bf911d8cd8f9');\n",
              "        const dataTable =\n",
              "          await google.colab.kernel.invokeFunction('convertToInteractive',\n",
              "                                                    [key], {});\n",
              "        if (!dataTable) return;\n",
              "\n",
              "        const docLinkHtml = 'Like what you see? Visit the ' +\n",
              "          '<a target=\"_blank\" href=https://colab.research.google.com/notebooks/data_table.ipynb>data table notebook</a>'\n",
              "          + ' to learn more about interactive tables.';\n",
              "        element.innerHTML = '';\n",
              "        dataTable['output_type'] = 'display_data';\n",
              "        await google.colab.output.renderOutput(dataTable, element);\n",
              "        const docLink = document.createElement('div');\n",
              "        docLink.innerHTML = docLinkHtml;\n",
              "        element.appendChild(docLink);\n",
              "      }\n",
              "    </script>\n",
              "  </div>\n",
              "\n",
              "\n",
              "<div id=\"df-75b3ae10-3cff-477e-827d-2a46aa8b6779\">\n",
              "  <button class=\"colab-df-quickchart\" onclick=\"quickchart('df-75b3ae10-3cff-477e-827d-2a46aa8b6779')\"\n",
              "            title=\"Suggest charts\"\n",
              "            style=\"display:none;\">\n",
              "\n",
              "<svg xmlns=\"http://www.w3.org/2000/svg\" height=\"24px\"viewBox=\"0 0 24 24\"\n",
              "     width=\"24px\">\n",
              "    <g>\n",
              "        <path d=\"M19 3H5c-1.1 0-2 .9-2 2v14c0 1.1.9 2 2 2h14c1.1 0 2-.9 2-2V5c0-1.1-.9-2-2-2zM9 17H7v-7h2v7zm4 0h-2V7h2v10zm4 0h-2v-4h2v4z\"/>\n",
              "    </g>\n",
              "</svg>\n",
              "  </button>\n",
              "\n",
              "<style>\n",
              "  .colab-df-quickchart {\n",
              "      --bg-color: #E8F0FE;\n",
              "      --fill-color: #1967D2;\n",
              "      --hover-bg-color: #E2EBFA;\n",
              "      --hover-fill-color: #174EA6;\n",
              "      --disabled-fill-color: #AAA;\n",
              "      --disabled-bg-color: #DDD;\n",
              "  }\n",
              "\n",
              "  [theme=dark] .colab-df-quickchart {\n",
              "      --bg-color: #3B4455;\n",
              "      --fill-color: #D2E3FC;\n",
              "      --hover-bg-color: #434B5C;\n",
              "      --hover-fill-color: #FFFFFF;\n",
              "      --disabled-bg-color: #3B4455;\n",
              "      --disabled-fill-color: #666;\n",
              "  }\n",
              "\n",
              "  .colab-df-quickchart {\n",
              "    background-color: var(--bg-color);\n",
              "    border: none;\n",
              "    border-radius: 50%;\n",
              "    cursor: pointer;\n",
              "    display: none;\n",
              "    fill: var(--fill-color);\n",
              "    height: 32px;\n",
              "    padding: 0;\n",
              "    width: 32px;\n",
              "  }\n",
              "\n",
              "  .colab-df-quickchart:hover {\n",
              "    background-color: var(--hover-bg-color);\n",
              "    box-shadow: 0 1px 2px rgba(60, 64, 67, 0.3), 0 1px 3px 1px rgba(60, 64, 67, 0.15);\n",
              "    fill: var(--button-hover-fill-color);\n",
              "  }\n",
              "\n",
              "  .colab-df-quickchart-complete:disabled,\n",
              "  .colab-df-quickchart-complete:disabled:hover {\n",
              "    background-color: var(--disabled-bg-color);\n",
              "    fill: var(--disabled-fill-color);\n",
              "    box-shadow: none;\n",
              "  }\n",
              "\n",
              "  .colab-df-spinner {\n",
              "    border: 2px solid var(--fill-color);\n",
              "    border-color: transparent;\n",
              "    border-bottom-color: var(--fill-color);\n",
              "    animation:\n",
              "      spin 1s steps(1) infinite;\n",
              "  }\n",
              "\n",
              "  @keyframes spin {\n",
              "    0% {\n",
              "      border-color: transparent;\n",
              "      border-bottom-color: var(--fill-color);\n",
              "      border-left-color: var(--fill-color);\n",
              "    }\n",
              "    20% {\n",
              "      border-color: transparent;\n",
              "      border-left-color: var(--fill-color);\n",
              "      border-top-color: var(--fill-color);\n",
              "    }\n",
              "    30% {\n",
              "      border-color: transparent;\n",
              "      border-left-color: var(--fill-color);\n",
              "      border-top-color: var(--fill-color);\n",
              "      border-right-color: var(--fill-color);\n",
              "    }\n",
              "    40% {\n",
              "      border-color: transparent;\n",
              "      border-right-color: var(--fill-color);\n",
              "      border-top-color: var(--fill-color);\n",
              "    }\n",
              "    60% {\n",
              "      border-color: transparent;\n",
              "      border-right-color: var(--fill-color);\n",
              "    }\n",
              "    80% {\n",
              "      border-color: transparent;\n",
              "      border-right-color: var(--fill-color);\n",
              "      border-bottom-color: var(--fill-color);\n",
              "    }\n",
              "    90% {\n",
              "      border-color: transparent;\n",
              "      border-bottom-color: var(--fill-color);\n",
              "    }\n",
              "  }\n",
              "</style>\n",
              "\n",
              "  <script>\n",
              "    async function quickchart(key) {\n",
              "      const quickchartButtonEl =\n",
              "        document.querySelector('#' + key + ' button');\n",
              "      quickchartButtonEl.disabled = true;  // To prevent multiple clicks.\n",
              "      quickchartButtonEl.classList.add('colab-df-spinner');\n",
              "      try {\n",
              "        const charts = await google.colab.kernel.invokeFunction(\n",
              "            'suggestCharts', [key], {});\n",
              "      } catch (error) {\n",
              "        console.error('Error during call to suggestCharts:', error);\n",
              "      }\n",
              "      quickchartButtonEl.classList.remove('colab-df-spinner');\n",
              "      quickchartButtonEl.classList.add('colab-df-quickchart-complete');\n",
              "    }\n",
              "    (() => {\n",
              "      let quickchartButtonEl =\n",
              "        document.querySelector('#df-75b3ae10-3cff-477e-827d-2a46aa8b6779 button');\n",
              "      quickchartButtonEl.style.display =\n",
              "        google.colab.kernel.accessAllowed ? 'block' : 'none';\n",
              "    })();\n",
              "  </script>\n",
              "</div>\n",
              "\n",
              "  <div id=\"id_40eb8853-735a-4900-810d-a0380165f87d\">\n",
              "    <style>\n",
              "      .colab-df-generate {\n",
              "        background-color: #E8F0FE;\n",
              "        border: none;\n",
              "        border-radius: 50%;\n",
              "        cursor: pointer;\n",
              "        display: none;\n",
              "        fill: #1967D2;\n",
              "        height: 32px;\n",
              "        padding: 0 0 0 0;\n",
              "        width: 32px;\n",
              "      }\n",
              "\n",
              "      .colab-df-generate:hover {\n",
              "        background-color: #E2EBFA;\n",
              "        box-shadow: 0px 1px 2px rgba(60, 64, 67, 0.3), 0px 1px 3px 1px rgba(60, 64, 67, 0.15);\n",
              "        fill: #174EA6;\n",
              "      }\n",
              "\n",
              "      [theme=dark] .colab-df-generate {\n",
              "        background-color: #3B4455;\n",
              "        fill: #D2E3FC;\n",
              "      }\n",
              "\n",
              "      [theme=dark] .colab-df-generate:hover {\n",
              "        background-color: #434B5C;\n",
              "        box-shadow: 0px 1px 3px 1px rgba(0, 0, 0, 0.15);\n",
              "        filter: drop-shadow(0px 1px 2px rgba(0, 0, 0, 0.3));\n",
              "        fill: #FFFFFF;\n",
              "      }\n",
              "    </style>\n",
              "    <button class=\"colab-df-generate\" onclick=\"generateWithVariable('df_hpg')\"\n",
              "            title=\"Generate code using this dataframe.\"\n",
              "            style=\"display:none;\">\n",
              "\n",
              "  <svg xmlns=\"http://www.w3.org/2000/svg\" height=\"24px\"viewBox=\"0 0 24 24\"\n",
              "       width=\"24px\">\n",
              "    <path d=\"M7,19H8.4L18.45,9,17,7.55,7,17.6ZM5,21V16.75L18.45,3.32a2,2,0,0,1,2.83,0l1.4,1.43a1.91,1.91,0,0,1,.58,1.4,1.91,1.91,0,0,1-.58,1.4L9.25,21ZM18.45,9,17,7.55Zm-12,3A5.31,5.31,0,0,0,4.9,8.1,5.31,5.31,0,0,0,1,6.5,5.31,5.31,0,0,0,4.9,4.9,5.31,5.31,0,0,0,6.5,1,5.31,5.31,0,0,0,8.1,4.9,5.31,5.31,0,0,0,12,6.5,5.46,5.46,0,0,0,6.5,12Z\"/>\n",
              "  </svg>\n",
              "    </button>\n",
              "    <script>\n",
              "      (() => {\n",
              "      const buttonEl =\n",
              "        document.querySelector('#id_40eb8853-735a-4900-810d-a0380165f87d button.colab-df-generate');\n",
              "      buttonEl.style.display =\n",
              "        google.colab.kernel.accessAllowed ? 'block' : 'none';\n",
              "\n",
              "      buttonEl.onclick = () => {\n",
              "        google.colab.notebook.generateWithVariable('df_hpg');\n",
              "      }\n",
              "      })();\n",
              "    </script>\n",
              "  </div>\n",
              "\n",
              "    </div>\n",
              "  </div>\n"
            ],
            "application/vnd.google.colaboratory.intrinsic+json": {
              "type": "dataframe",
              "variable_name": "df_hpg",
              "summary": "{\n  \"name\": \"df_hpg\",\n  \"rows\": 829,\n  \"fields\": [\n    {\n      \"column\": \"time\",\n      \"properties\": {\n        \"dtype\": \"date\",\n        \"min\": \"2021-01-04 00:00:00\",\n        \"max\": \"2024-05-03 00:00:00\",\n        \"num_unique_values\": 828,\n        \"samples\": [\n          \"2023-06-15 00:00:00\",\n          \"2022-11-03 00:00:00\",\n          \"2022-03-08 00:00:00\"\n        ],\n        \"semantic_type\": \"\",\n        \"description\": \"\"\n      }\n    },\n    {\n      \"column\": \"open\",\n      \"properties\": {\n        \"dtype\": \"number\",\n        \"std\": 6942,\n        \"min\": 12000,\n        \"max\": 43900,\n        \"num_unique_values\": 439,\n        \"samples\": [\n          23050,\n          36480,\n          21750\n        ],\n        \"semantic_type\": \"\",\n        \"description\": \"\"\n      }\n    },\n    {\n      \"column\": \"high\",\n      \"properties\": {\n        \"dtype\": \"number\",\n        \"std\": 6985,\n        \"min\": 12450,\n        \"max\": 44200,\n        \"num_unique_values\": 447,\n        \"samples\": [\n          19300,\n          28350,\n          37690\n        ],\n        \"semantic_type\": \"\",\n        \"description\": \"\"\n      }\n    },\n    {\n      \"column\": \"low\",\n      \"properties\": {\n        \"dtype\": \"number\",\n        \"std\": 6889,\n        \"min\": 11800,\n        \"max\": 43520,\n        \"num_unique_values\": 466,\n        \"samples\": [\n          29190,\n          31360,\n          25080\n        ],\n        \"semantic_type\": \"\",\n        \"description\": \"\"\n      }\n    },\n    {\n      \"column\": \"close\",\n      \"properties\": {\n        \"dtype\": \"number\",\n        \"std\": 6920,\n        \"min\": 12100,\n        \"max\": 43900,\n        \"num_unique_values\": 448,\n        \"samples\": [\n          23050,\n          18350,\n          33530\n        ],\n        \"semantic_type\": \"\",\n        \"description\": \"\"\n      }\n    },\n    {\n      \"column\": \"volume\",\n      \"properties\": {\n        \"dtype\": \"number\",\n        \"std\": 11776832,\n        \"min\": 6219900,\n        \"max\": 99658800,\n        \"num_unique_values\": 828,\n        \"samples\": [\n          17473300,\n          43889600,\n          40509400\n        ],\n        \"semantic_type\": \"\",\n        \"description\": \"\"\n      }\n    },\n    {\n      \"column\": \"ticker\",\n      \"properties\": {\n        \"dtype\": \"category\",\n        \"num_unique_values\": 1,\n        \"samples\": [\n          \"HPG\"\n        ],\n        \"semantic_type\": \"\",\n        \"description\": \"\"\n      }\n    }\n  ]\n}"
            }
          },
          "metadata": {},
          "execution_count": 7
        }
      ],
      "source": [
        "df_hpg"
      ]
    },
    {
      "cell_type": "markdown",
      "source": [
        "Các dòng dữ liệu trong bảng mô tả một số thông tin về giao dịch cổ phiếu của Công ty cổ phần Tập đoàn Hoà Phát **(HOSE: HPG)** theo thời gian đã chọn. Dưới đây là giải thích cho mỗi cột:\n",
        "\n",
        "- **time**: Đây là cột chỉ mục, chứa các ngày mà dữ liệu giao dịch được thu thập. Mỗi hàng trong bảng tương ứng với một ngày giao dịch.\n",
        "\n",
        "- **open**: Giá mở cửa của cổ phiếu HPG trong ngày tương ứng. Đây là giá mà cổ phiếu được giao dịch lần đầu trong ngày.\n",
        "\n",
        "- **high**: Giá cao nhất mà cổ phiếu HPG đạt được trong ngày tương ứng.\n",
        "\n",
        "- **low**: Giá thấp nhất mà cổ phiếu HPG đạt được trong ngày tương ứng.\n",
        "\n",
        "- **close**: Giá đóng cửa của cổ phiếu HPG trong ngày tương ứng. Đây là giá mà cổ phiếu được giao dịch lần cuối trong ngày.\n",
        "\n",
        "- **volume**: Khối lượng giao dịch của cổ phiếu HPG trong ngày tương ứng. Đây là số lượng cổ phiếu được giao dịch trong ngày đó.\n",
        "\n",
        "- **ticker**: Mã ticker hoặc mã ký hiệu của cổ phiếu, trong trường hợp này, tất cả các giá trị đều là 'HPG'.\n",
        "\n"
      ],
      "metadata": {
        "id": "EF5Uuf4p5PCj"
      }
    },
    {
      "cell_type": "markdown",
      "metadata": {
        "id": "lYMtJybCiDZq"
      },
      "source": [
        "## **Thông tin chi tiết về DataFrame**"
      ]
    },
    {
      "cell_type": "code",
      "execution_count": null,
      "metadata": {
        "colab": {
          "base_uri": "https://localhost:8080/"
        },
        "id": "wIwUQDI3DRqn",
        "outputId": "bf6df487-2f76-424a-c152-fbf8aa7df409"
      },
      "outputs": [
        {
          "output_type": "stream",
          "name": "stdout",
          "text": [
            "<class 'pandas.core.frame.DataFrame'>\n",
            "DatetimeIndex: 829 entries, 2021-01-04 to 2024-05-03\n",
            "Data columns (total 6 columns):\n",
            " #   Column  Non-Null Count  Dtype \n",
            "---  ------  --------------  ----- \n",
            " 0   open    829 non-null    int64 \n",
            " 1   high    829 non-null    int64 \n",
            " 2   low     829 non-null    int64 \n",
            " 3   close   829 non-null    int64 \n",
            " 4   volume  829 non-null    int64 \n",
            " 5   ticker  829 non-null    object\n",
            "dtypes: int64(5), object(1)\n",
            "memory usage: 45.3+ KB\n"
          ]
        }
      ],
      "source": [
        "df_hpg.info()"
      ]
    },
    {
      "cell_type": "markdown",
      "metadata": {
        "id": "shhFd8PaixRP"
      },
      "source": [
        "\n",
        "\n",
        "**Quá trình kiểm tra dữ liệu cho thấy không có giá trị nào bị thiếu và giá cổ phiếu đã được lưu trữ ở định dạng số nguyên. Vì vậy, ta có thể bỏ qua các bước xử lý giá trị thiếu (missing value) và chuẩn hoá dữ liệu (database normalization).**\n",
        "\n",
        "\n"
      ]
    },
    {
      "cell_type": "markdown",
      "metadata": {
        "id": "plxqodS2kdVT"
      },
      "source": [
        "## **Thống kê dữ liệu**"
      ]
    },
    {
      "cell_type": "code",
      "execution_count": null,
      "metadata": {
        "colab": {
          "base_uri": "https://localhost:8080/",
          "height": 300
        },
        "id": "mfCFPja4kxlk",
        "outputId": "878c248d-b253-403c-b93b-d11b069191aa"
      },
      "outputs": [
        {
          "output_type": "execute_result",
          "data": {
            "text/plain": [
              "               open          high           low         close        volume\n",
              "count    829.000000    829.000000    829.000000    829.000000  8.290000e+02\n",
              "mean   28113.061520  28502.049457  27713.856454  28076.896261  2.477622e+07\n",
              "std     6942.111504   6985.321925   6889.145856   6920.121218  1.177683e+07\n",
              "min    12000.000000  12450.000000  11800.000000  12100.000000  6.219900e+06\n",
              "25%    22700.000000  23000.000000  22240.000000  22650.000000  1.664220e+07\n",
              "50%    27300.000000  27550.000000  27050.000000  27200.000000  2.205430e+07\n",
              "75%    34660.000000  35030.000000  34090.000000  34480.000000  3.000270e+07\n",
              "max    43900.000000  44200.000000  43520.000000  43900.000000  9.965880e+07"
            ],
            "text/html": [
              "\n",
              "  <div id=\"df-bd7a656f-fe14-4091-99c6-751a2a087d93\" class=\"colab-df-container\">\n",
              "    <div>\n",
              "<style scoped>\n",
              "    .dataframe tbody tr th:only-of-type {\n",
              "        vertical-align: middle;\n",
              "    }\n",
              "\n",
              "    .dataframe tbody tr th {\n",
              "        vertical-align: top;\n",
              "    }\n",
              "\n",
              "    .dataframe thead th {\n",
              "        text-align: right;\n",
              "    }\n",
              "</style>\n",
              "<table border=\"1\" class=\"dataframe\">\n",
              "  <thead>\n",
              "    <tr style=\"text-align: right;\">\n",
              "      <th></th>\n",
              "      <th>open</th>\n",
              "      <th>high</th>\n",
              "      <th>low</th>\n",
              "      <th>close</th>\n",
              "      <th>volume</th>\n",
              "    </tr>\n",
              "  </thead>\n",
              "  <tbody>\n",
              "    <tr>\n",
              "      <th>count</th>\n",
              "      <td>829.000000</td>\n",
              "      <td>829.000000</td>\n",
              "      <td>829.000000</td>\n",
              "      <td>829.000000</td>\n",
              "      <td>8.290000e+02</td>\n",
              "    </tr>\n",
              "    <tr>\n",
              "      <th>mean</th>\n",
              "      <td>28113.061520</td>\n",
              "      <td>28502.049457</td>\n",
              "      <td>27713.856454</td>\n",
              "      <td>28076.896261</td>\n",
              "      <td>2.477622e+07</td>\n",
              "    </tr>\n",
              "    <tr>\n",
              "      <th>std</th>\n",
              "      <td>6942.111504</td>\n",
              "      <td>6985.321925</td>\n",
              "      <td>6889.145856</td>\n",
              "      <td>6920.121218</td>\n",
              "      <td>1.177683e+07</td>\n",
              "    </tr>\n",
              "    <tr>\n",
              "      <th>min</th>\n",
              "      <td>12000.000000</td>\n",
              "      <td>12450.000000</td>\n",
              "      <td>11800.000000</td>\n",
              "      <td>12100.000000</td>\n",
              "      <td>6.219900e+06</td>\n",
              "    </tr>\n",
              "    <tr>\n",
              "      <th>25%</th>\n",
              "      <td>22700.000000</td>\n",
              "      <td>23000.000000</td>\n",
              "      <td>22240.000000</td>\n",
              "      <td>22650.000000</td>\n",
              "      <td>1.664220e+07</td>\n",
              "    </tr>\n",
              "    <tr>\n",
              "      <th>50%</th>\n",
              "      <td>27300.000000</td>\n",
              "      <td>27550.000000</td>\n",
              "      <td>27050.000000</td>\n",
              "      <td>27200.000000</td>\n",
              "      <td>2.205430e+07</td>\n",
              "    </tr>\n",
              "    <tr>\n",
              "      <th>75%</th>\n",
              "      <td>34660.000000</td>\n",
              "      <td>35030.000000</td>\n",
              "      <td>34090.000000</td>\n",
              "      <td>34480.000000</td>\n",
              "      <td>3.000270e+07</td>\n",
              "    </tr>\n",
              "    <tr>\n",
              "      <th>max</th>\n",
              "      <td>43900.000000</td>\n",
              "      <td>44200.000000</td>\n",
              "      <td>43520.000000</td>\n",
              "      <td>43900.000000</td>\n",
              "      <td>9.965880e+07</td>\n",
              "    </tr>\n",
              "  </tbody>\n",
              "</table>\n",
              "</div>\n",
              "    <div class=\"colab-df-buttons\">\n",
              "\n",
              "  <div class=\"colab-df-container\">\n",
              "    <button class=\"colab-df-convert\" onclick=\"convertToInteractive('df-bd7a656f-fe14-4091-99c6-751a2a087d93')\"\n",
              "            title=\"Convert this dataframe to an interactive table.\"\n",
              "            style=\"display:none;\">\n",
              "\n",
              "  <svg xmlns=\"http://www.w3.org/2000/svg\" height=\"24px\" viewBox=\"0 -960 960 960\">\n",
              "    <path d=\"M120-120v-720h720v720H120Zm60-500h600v-160H180v160Zm220 220h160v-160H400v160Zm0 220h160v-160H400v160ZM180-400h160v-160H180v160Zm440 0h160v-160H620v160ZM180-180h160v-160H180v160Zm440 0h160v-160H620v160Z\"/>\n",
              "  </svg>\n",
              "    </button>\n",
              "\n",
              "  <style>\n",
              "    .colab-df-container {\n",
              "      display:flex;\n",
              "      gap: 12px;\n",
              "    }\n",
              "\n",
              "    .colab-df-convert {\n",
              "      background-color: #E8F0FE;\n",
              "      border: none;\n",
              "      border-radius: 50%;\n",
              "      cursor: pointer;\n",
              "      display: none;\n",
              "      fill: #1967D2;\n",
              "      height: 32px;\n",
              "      padding: 0 0 0 0;\n",
              "      width: 32px;\n",
              "    }\n",
              "\n",
              "    .colab-df-convert:hover {\n",
              "      background-color: #E2EBFA;\n",
              "      box-shadow: 0px 1px 2px rgba(60, 64, 67, 0.3), 0px 1px 3px 1px rgba(60, 64, 67, 0.15);\n",
              "      fill: #174EA6;\n",
              "    }\n",
              "\n",
              "    .colab-df-buttons div {\n",
              "      margin-bottom: 4px;\n",
              "    }\n",
              "\n",
              "    [theme=dark] .colab-df-convert {\n",
              "      background-color: #3B4455;\n",
              "      fill: #D2E3FC;\n",
              "    }\n",
              "\n",
              "    [theme=dark] .colab-df-convert:hover {\n",
              "      background-color: #434B5C;\n",
              "      box-shadow: 0px 1px 3px 1px rgba(0, 0, 0, 0.15);\n",
              "      filter: drop-shadow(0px 1px 2px rgba(0, 0, 0, 0.3));\n",
              "      fill: #FFFFFF;\n",
              "    }\n",
              "  </style>\n",
              "\n",
              "    <script>\n",
              "      const buttonEl =\n",
              "        document.querySelector('#df-bd7a656f-fe14-4091-99c6-751a2a087d93 button.colab-df-convert');\n",
              "      buttonEl.style.display =\n",
              "        google.colab.kernel.accessAllowed ? 'block' : 'none';\n",
              "\n",
              "      async function convertToInteractive(key) {\n",
              "        const element = document.querySelector('#df-bd7a656f-fe14-4091-99c6-751a2a087d93');\n",
              "        const dataTable =\n",
              "          await google.colab.kernel.invokeFunction('convertToInteractive',\n",
              "                                                    [key], {});\n",
              "        if (!dataTable) return;\n",
              "\n",
              "        const docLinkHtml = 'Like what you see? Visit the ' +\n",
              "          '<a target=\"_blank\" href=https://colab.research.google.com/notebooks/data_table.ipynb>data table notebook</a>'\n",
              "          + ' to learn more about interactive tables.';\n",
              "        element.innerHTML = '';\n",
              "        dataTable['output_type'] = 'display_data';\n",
              "        await google.colab.output.renderOutput(dataTable, element);\n",
              "        const docLink = document.createElement('div');\n",
              "        docLink.innerHTML = docLinkHtml;\n",
              "        element.appendChild(docLink);\n",
              "      }\n",
              "    </script>\n",
              "  </div>\n",
              "\n",
              "\n",
              "<div id=\"df-296fcf66-915a-4144-8408-185ca96a952b\">\n",
              "  <button class=\"colab-df-quickchart\" onclick=\"quickchart('df-296fcf66-915a-4144-8408-185ca96a952b')\"\n",
              "            title=\"Suggest charts\"\n",
              "            style=\"display:none;\">\n",
              "\n",
              "<svg xmlns=\"http://www.w3.org/2000/svg\" height=\"24px\"viewBox=\"0 0 24 24\"\n",
              "     width=\"24px\">\n",
              "    <g>\n",
              "        <path d=\"M19 3H5c-1.1 0-2 .9-2 2v14c0 1.1.9 2 2 2h14c1.1 0 2-.9 2-2V5c0-1.1-.9-2-2-2zM9 17H7v-7h2v7zm4 0h-2V7h2v10zm4 0h-2v-4h2v4z\"/>\n",
              "    </g>\n",
              "</svg>\n",
              "  </button>\n",
              "\n",
              "<style>\n",
              "  .colab-df-quickchart {\n",
              "      --bg-color: #E8F0FE;\n",
              "      --fill-color: #1967D2;\n",
              "      --hover-bg-color: #E2EBFA;\n",
              "      --hover-fill-color: #174EA6;\n",
              "      --disabled-fill-color: #AAA;\n",
              "      --disabled-bg-color: #DDD;\n",
              "  }\n",
              "\n",
              "  [theme=dark] .colab-df-quickchart {\n",
              "      --bg-color: #3B4455;\n",
              "      --fill-color: #D2E3FC;\n",
              "      --hover-bg-color: #434B5C;\n",
              "      --hover-fill-color: #FFFFFF;\n",
              "      --disabled-bg-color: #3B4455;\n",
              "      --disabled-fill-color: #666;\n",
              "  }\n",
              "\n",
              "  .colab-df-quickchart {\n",
              "    background-color: var(--bg-color);\n",
              "    border: none;\n",
              "    border-radius: 50%;\n",
              "    cursor: pointer;\n",
              "    display: none;\n",
              "    fill: var(--fill-color);\n",
              "    height: 32px;\n",
              "    padding: 0;\n",
              "    width: 32px;\n",
              "  }\n",
              "\n",
              "  .colab-df-quickchart:hover {\n",
              "    background-color: var(--hover-bg-color);\n",
              "    box-shadow: 0 1px 2px rgba(60, 64, 67, 0.3), 0 1px 3px 1px rgba(60, 64, 67, 0.15);\n",
              "    fill: var(--button-hover-fill-color);\n",
              "  }\n",
              "\n",
              "  .colab-df-quickchart-complete:disabled,\n",
              "  .colab-df-quickchart-complete:disabled:hover {\n",
              "    background-color: var(--disabled-bg-color);\n",
              "    fill: var(--disabled-fill-color);\n",
              "    box-shadow: none;\n",
              "  }\n",
              "\n",
              "  .colab-df-spinner {\n",
              "    border: 2px solid var(--fill-color);\n",
              "    border-color: transparent;\n",
              "    border-bottom-color: var(--fill-color);\n",
              "    animation:\n",
              "      spin 1s steps(1) infinite;\n",
              "  }\n",
              "\n",
              "  @keyframes spin {\n",
              "    0% {\n",
              "      border-color: transparent;\n",
              "      border-bottom-color: var(--fill-color);\n",
              "      border-left-color: var(--fill-color);\n",
              "    }\n",
              "    20% {\n",
              "      border-color: transparent;\n",
              "      border-left-color: var(--fill-color);\n",
              "      border-top-color: var(--fill-color);\n",
              "    }\n",
              "    30% {\n",
              "      border-color: transparent;\n",
              "      border-left-color: var(--fill-color);\n",
              "      border-top-color: var(--fill-color);\n",
              "      border-right-color: var(--fill-color);\n",
              "    }\n",
              "    40% {\n",
              "      border-color: transparent;\n",
              "      border-right-color: var(--fill-color);\n",
              "      border-top-color: var(--fill-color);\n",
              "    }\n",
              "    60% {\n",
              "      border-color: transparent;\n",
              "      border-right-color: var(--fill-color);\n",
              "    }\n",
              "    80% {\n",
              "      border-color: transparent;\n",
              "      border-right-color: var(--fill-color);\n",
              "      border-bottom-color: var(--fill-color);\n",
              "    }\n",
              "    90% {\n",
              "      border-color: transparent;\n",
              "      border-bottom-color: var(--fill-color);\n",
              "    }\n",
              "  }\n",
              "</style>\n",
              "\n",
              "  <script>\n",
              "    async function quickchart(key) {\n",
              "      const quickchartButtonEl =\n",
              "        document.querySelector('#' + key + ' button');\n",
              "      quickchartButtonEl.disabled = true;  // To prevent multiple clicks.\n",
              "      quickchartButtonEl.classList.add('colab-df-spinner');\n",
              "      try {\n",
              "        const charts = await google.colab.kernel.invokeFunction(\n",
              "            'suggestCharts', [key], {});\n",
              "      } catch (error) {\n",
              "        console.error('Error during call to suggestCharts:', error);\n",
              "      }\n",
              "      quickchartButtonEl.classList.remove('colab-df-spinner');\n",
              "      quickchartButtonEl.classList.add('colab-df-quickchart-complete');\n",
              "    }\n",
              "    (() => {\n",
              "      let quickchartButtonEl =\n",
              "        document.querySelector('#df-296fcf66-915a-4144-8408-185ca96a952b button');\n",
              "      quickchartButtonEl.style.display =\n",
              "        google.colab.kernel.accessAllowed ? 'block' : 'none';\n",
              "    })();\n",
              "  </script>\n",
              "</div>\n",
              "\n",
              "    </div>\n",
              "  </div>\n"
            ],
            "application/vnd.google.colaboratory.intrinsic+json": {
              "type": "dataframe",
              "summary": "{\n  \"name\": \"df_hpg\",\n  \"rows\": 8,\n  \"fields\": [\n    {\n      \"column\": \"open\",\n      \"properties\": {\n        \"dtype\": \"number\",\n        \"std\": 14544.324896583843,\n        \"min\": 829.0,\n        \"max\": 43900.0,\n        \"num_unique_values\": 8,\n        \"samples\": [\n          28113.0615199035,\n          27300.0,\n          829.0\n        ],\n        \"semantic_type\": \"\",\n        \"description\": \"\"\n      }\n    },\n    {\n      \"column\": \"high\",\n      \"properties\": {\n        \"dtype\": \"number\",\n        \"std\": 14642.130236070012,\n        \"min\": 829.0,\n        \"max\": 44200.0,\n        \"num_unique_values\": 8,\n        \"samples\": [\n          28502.049457177323,\n          27550.0,\n          829.0\n        ],\n        \"semantic_type\": \"\",\n        \"description\": \"\"\n      }\n    },\n    {\n      \"column\": \"low\",\n      \"properties\": {\n        \"dtype\": \"number\",\n        \"std\": 14380.739761527977,\n        \"min\": 829.0,\n        \"max\": 43520.0,\n        \"num_unique_values\": 8,\n        \"samples\": [\n          27713.856453558503,\n          27050.0,\n          829.0\n        ],\n        \"semantic_type\": \"\",\n        \"description\": \"\"\n      }\n    },\n    {\n      \"column\": \"close\",\n      \"properties\": {\n        \"dtype\": \"number\",\n        \"std\": 14507.990461156052,\n        \"min\": 829.0,\n        \"max\": 43900.0,\n        \"num_unique_values\": 8,\n        \"samples\": [\n          28076.896260554884,\n          27200.0,\n          829.0\n        ],\n        \"semantic_type\": \"\",\n        \"description\": \"\"\n      }\n    },\n    {\n      \"column\": \"volume\",\n      \"properties\": {\n        \"dtype\": \"number\",\n        \"std\": 31201091.49977823,\n        \"min\": 829.0,\n        \"max\": 99658800.0,\n        \"num_unique_values\": 8,\n        \"samples\": [\n          24776220.159227986,\n          22054300.0,\n          829.0\n        ],\n        \"semantic_type\": \"\",\n        \"description\": \"\"\n      }\n    }\n  ]\n}"
            }
          },
          "metadata": {},
          "execution_count": 9
        }
      ],
      "source": [
        "df_hpg.describe()"
      ]
    },
    {
      "cell_type": "markdown",
      "metadata": {
        "id": "cM6F8e0Cl1pi"
      },
      "source": [
        "## **Trực quan sự biến động giá cổ phiếu HPG**"
      ]
    },
    {
      "cell_type": "code",
      "execution_count": null,
      "metadata": {
        "colab": {
          "base_uri": "https://localhost:8080/",
          "height": 542
        },
        "id": "a3prtonVDRqp",
        "outputId": "5dcbfc62-f2e5-4b00-eae6-864aa6c0d105"
      },
      "outputs": [
        {
          "output_type": "display_data",
          "data": {
            "text/html": [
              "<html>\n",
              "<head><meta charset=\"utf-8\" /></head>\n",
              "<body>\n",
              "    <div>            <script src=\"https://cdnjs.cloudflare.com/ajax/libs/mathjax/2.7.5/MathJax.js?config=TeX-AMS-MML_SVG\"></script><script type=\"text/javascript\">if (window.MathJax && window.MathJax.Hub && window.MathJax.Hub.Config) {window.MathJax.Hub.Config({SVG: {font: \"STIX-Web\"}});}</script>                <script type=\"text/javascript\">window.PlotlyConfig = {MathJaxConfig: 'local'};</script>\n",
              "        <script charset=\"utf-8\" src=\"https://cdn.plot.ly/plotly-2.24.1.min.js\"></script>                <div id=\"2f2121a2-a1e4-4c76-9bc3-672782f30fe5\" class=\"plotly-graph-div\" style=\"height:525px; width:100%;\"></div>            <script type=\"text/javascript\">                                    window.PLOTLYENV=window.PLOTLYENV || {};                                    if (document.getElementById(\"2f2121a2-a1e4-4c76-9bc3-672782f30fe5\")) {                    Plotly.newPlot(                        \"2f2121a2-a1e4-4c76-9bc3-672782f30fe5\",                        [{\"name\":\"Price\",\"x\":[\"2021-01-04T00:00:00\",\"2021-01-05T00:00:00\",\"2021-01-06T00:00:00\",\"2021-01-07T00:00:00\",\"2021-01-08T00:00:00\",\"2021-01-11T00:00:00\",\"2021-01-12T00:00:00\",\"2021-01-13T00:00:00\",\"2021-01-14T00:00:00\",\"2021-01-15T00:00:00\",\"2021-01-18T00:00:00\",\"2021-01-19T00:00:00\",\"2021-01-20T00:00:00\",\"2021-01-21T00:00:00\",\"2021-01-22T00:00:00\",\"2021-01-25T00:00:00\",\"2021-01-26T00:00:00\",\"2021-01-27T00:00:00\",\"2021-01-28T00:00:00\",\"2021-01-29T00:00:00\",\"2021-02-01T00:00:00\",\"2021-02-02T00:00:00\",\"2021-02-03T00:00:00\",\"2021-02-04T00:00:00\",\"2021-02-05T00:00:00\",\"2021-02-08T00:00:00\",\"2021-02-09T00:00:00\",\"2021-02-17T00:00:00\",\"2021-02-18T00:00:00\",\"2021-02-19T00:00:00\",\"2021-02-22T00:00:00\",\"2021-02-23T00:00:00\",\"2021-02-24T00:00:00\",\"2021-02-25T00:00:00\",\"2021-02-26T00:00:00\",\"2021-03-01T00:00:00\",\"2021-03-02T00:00:00\",\"2021-03-03T00:00:00\",\"2021-03-04T00:00:00\",\"2021-03-05T00:00:00\",\"2021-03-08T00:00:00\",\"2021-03-09T00:00:00\",\"2021-03-10T00:00:00\",\"2021-03-11T00:00:00\",\"2021-03-12T00:00:00\",\"2021-03-15T00:00:00\",\"2021-03-16T00:00:00\",\"2021-03-17T00:00:00\",\"2021-03-18T00:00:00\",\"2021-03-19T00:00:00\",\"2021-03-22T00:00:00\",\"2021-03-23T00:00:00\",\"2021-03-24T00:00:00\",\"2021-03-25T00:00:00\",\"2021-03-26T00:00:00\",\"2021-03-29T00:00:00\",\"2021-03-30T00:00:00\",\"2021-03-31T00:00:00\",\"2021-04-01T00:00:00\",\"2021-04-02T00:00:00\",\"2021-04-05T00:00:00\",\"2021-04-06T00:00:00\",\"2021-04-07T00:00:00\",\"2021-04-08T00:00:00\",\"2021-04-09T00:00:00\",\"2021-04-12T00:00:00\",\"2021-04-13T00:00:00\",\"2021-04-14T00:00:00\",\"2021-04-15T00:00:00\",\"2021-04-16T00:00:00\",\"2021-04-19T00:00:00\",\"2021-04-20T00:00:00\",\"2021-04-22T00:00:00\",\"2021-04-23T00:00:00\",\"2021-04-26T00:00:00\",\"2021-04-27T00:00:00\",\"2021-04-28T00:00:00\",\"2021-04-29T00:00:00\",\"2021-05-04T00:00:00\",\"2021-05-05T00:00:00\",\"2021-05-06T00:00:00\",\"2021-05-07T00:00:00\",\"2021-05-10T00:00:00\",\"2021-05-11T00:00:00\",\"2021-05-12T00:00:00\",\"2021-05-13T00:00:00\",\"2021-05-14T00:00:00\",\"2021-05-17T00:00:00\",\"2021-05-18T00:00:00\",\"2021-05-19T00:00:00\",\"2021-05-20T00:00:00\",\"2021-05-21T00:00:00\",\"2021-05-24T00:00:00\",\"2021-05-25T00:00:00\",\"2021-05-26T00:00:00\",\"2021-05-27T00:00:00\",\"2021-05-28T00:00:00\",\"2021-05-31T00:00:00\",\"2021-06-01T00:00:00\",\"2021-06-02T00:00:00\",\"2021-06-03T00:00:00\",\"2021-06-04T00:00:00\",\"2021-06-07T00:00:00\",\"2021-06-08T00:00:00\",\"2021-06-09T00:00:00\",\"2021-06-10T00:00:00\",\"2021-06-11T00:00:00\",\"2021-06-14T00:00:00\",\"2021-06-15T00:00:00\",\"2021-06-16T00:00:00\",\"2021-06-17T00:00:00\",\"2021-06-18T00:00:00\",\"2021-06-21T00:00:00\",\"2021-06-22T00:00:00\",\"2021-06-23T00:00:00\",\"2021-06-24T00:00:00\",\"2021-06-25T00:00:00\",\"2021-06-28T00:00:00\",\"2021-06-29T00:00:00\",\"2021-06-30T00:00:00\",\"2021-07-01T00:00:00\",\"2021-07-02T00:00:00\",\"2021-07-05T00:00:00\",\"2021-07-06T00:00:00\",\"2021-07-07T00:00:00\",\"2021-07-08T00:00:00\",\"2021-07-09T00:00:00\",\"2021-07-12T00:00:00\",\"2021-07-13T00:00:00\",\"2021-07-14T00:00:00\",\"2021-07-15T00:00:00\",\"2021-07-16T00:00:00\",\"2021-07-19T00:00:00\",\"2021-07-20T00:00:00\",\"2021-07-21T00:00:00\",\"2021-07-22T00:00:00\",\"2021-07-23T00:00:00\",\"2021-07-26T00:00:00\",\"2021-07-27T00:00:00\",\"2021-07-28T00:00:00\",\"2021-07-29T00:00:00\",\"2021-07-30T00:00:00\",\"2021-08-02T00:00:00\",\"2021-08-03T00:00:00\",\"2021-08-04T00:00:00\",\"2021-08-05T00:00:00\",\"2021-08-06T00:00:00\",\"2021-08-09T00:00:00\",\"2021-08-10T00:00:00\",\"2021-08-11T00:00:00\",\"2021-08-12T00:00:00\",\"2021-08-13T00:00:00\",\"2021-08-16T00:00:00\",\"2021-08-17T00:00:00\",\"2021-08-18T00:00:00\",\"2021-08-19T00:00:00\",\"2021-08-20T00:00:00\",\"2021-08-23T00:00:00\",\"2021-08-24T00:00:00\",\"2021-08-25T00:00:00\",\"2021-08-26T00:00:00\",\"2021-08-27T00:00:00\",\"2021-08-30T00:00:00\",\"2021-08-31T00:00:00\",\"2021-09-01T00:00:00\",\"2021-09-06T00:00:00\",\"2021-09-07T00:00:00\",\"2021-09-08T00:00:00\",\"2021-09-09T00:00:00\",\"2021-09-10T00:00:00\",\"2021-09-13T00:00:00\",\"2021-09-14T00:00:00\",\"2021-09-15T00:00:00\",\"2021-09-16T00:00:00\",\"2021-09-17T00:00:00\",\"2021-09-20T00:00:00\",\"2021-09-21T00:00:00\",\"2021-09-22T00:00:00\",\"2021-09-23T00:00:00\",\"2021-09-24T00:00:00\",\"2021-09-27T00:00:00\",\"2021-09-28T00:00:00\",\"2021-09-29T00:00:00\",\"2021-09-30T00:00:00\",\"2021-10-01T00:00:00\",\"2021-10-04T00:00:00\",\"2021-10-05T00:00:00\",\"2021-10-06T00:00:00\",\"2021-10-07T00:00:00\",\"2021-10-08T00:00:00\",\"2021-10-11T00:00:00\",\"2021-10-12T00:00:00\",\"2021-10-13T00:00:00\",\"2021-10-14T00:00:00\",\"2021-10-15T00:00:00\",\"2021-10-18T00:00:00\",\"2021-10-19T00:00:00\",\"2021-10-20T00:00:00\",\"2021-10-21T00:00:00\",\"2021-10-22T00:00:00\",\"2021-10-25T00:00:00\",\"2021-10-26T00:00:00\",\"2021-10-27T00:00:00\",\"2021-10-28T00:00:00\",\"2021-10-29T00:00:00\",\"2021-11-01T00:00:00\",\"2021-11-02T00:00:00\",\"2021-11-03T00:00:00\",\"2021-11-04T00:00:00\",\"2021-11-05T00:00:00\",\"2021-11-08T00:00:00\",\"2021-11-09T00:00:00\",\"2021-11-10T00:00:00\",\"2021-11-11T00:00:00\",\"2021-11-12T00:00:00\",\"2021-11-15T00:00:00\",\"2021-11-16T00:00:00\",\"2021-11-17T00:00:00\",\"2021-11-18T00:00:00\",\"2021-11-19T00:00:00\",\"2021-11-22T00:00:00\",\"2021-11-23T00:00:00\",\"2021-11-24T00:00:00\",\"2021-11-25T00:00:00\",\"2021-11-26T00:00:00\",\"2021-11-29T00:00:00\",\"2021-11-30T00:00:00\",\"2021-12-01T00:00:00\",\"2021-12-02T00:00:00\",\"2021-12-03T00:00:00\",\"2021-12-06T00:00:00\",\"2021-12-07T00:00:00\",\"2021-12-08T00:00:00\",\"2021-12-09T00:00:00\",\"2021-12-10T00:00:00\",\"2021-12-13T00:00:00\",\"2021-12-14T00:00:00\",\"2021-12-15T00:00:00\",\"2021-12-16T00:00:00\",\"2021-12-17T00:00:00\",\"2021-12-20T00:00:00\",\"2021-12-21T00:00:00\",\"2021-12-22T00:00:00\",\"2021-12-23T00:00:00\",\"2021-12-24T00:00:00\",\"2021-12-27T00:00:00\",\"2021-12-28T00:00:00\",\"2021-12-29T00:00:00\",\"2021-12-30T00:00:00\",\"2021-12-31T00:00:00\",\"2022-01-04T00:00:00\",\"2022-01-05T00:00:00\",\"2022-01-06T00:00:00\",\"2022-01-07T00:00:00\",\"2022-01-10T00:00:00\",\"2022-01-11T00:00:00\",\"2022-01-12T00:00:00\",\"2022-01-13T00:00:00\",\"2022-01-14T00:00:00\",\"2022-01-17T00:00:00\",\"2022-01-18T00:00:00\",\"2022-01-19T00:00:00\",\"2022-01-20T00:00:00\",\"2022-01-21T00:00:00\",\"2022-01-24T00:00:00\",\"2022-01-25T00:00:00\",\"2022-01-26T00:00:00\",\"2022-01-27T00:00:00\",\"2022-01-28T00:00:00\",\"2022-02-07T00:00:00\",\"2022-02-08T00:00:00\",\"2022-02-09T00:00:00\",\"2022-02-10T00:00:00\",\"2022-02-11T00:00:00\",\"2022-02-14T00:00:00\",\"2022-02-15T00:00:00\",\"2022-02-16T00:00:00\",\"2022-02-17T00:00:00\",\"2022-02-18T00:00:00\",\"2022-02-21T00:00:00\",\"2022-02-22T00:00:00\",\"2022-02-23T00:00:00\",\"2022-02-24T00:00:00\",\"2022-02-25T00:00:00\",\"2022-02-28T00:00:00\",\"2022-03-01T00:00:00\",\"2022-03-02T00:00:00\",\"2022-03-03T00:00:00\",\"2022-03-04T00:00:00\",\"2022-03-07T00:00:00\",\"2022-03-08T00:00:00\",\"2022-03-09T00:00:00\",\"2022-03-10T00:00:00\",\"2022-03-11T00:00:00\",\"2022-03-14T00:00:00\",\"2022-03-15T00:00:00\",\"2022-03-16T00:00:00\",\"2022-03-17T00:00:00\",\"2022-03-18T00:00:00\",\"2022-03-21T00:00:00\",\"2022-03-22T00:00:00\",\"2022-03-23T00:00:00\",\"2022-03-24T00:00:00\",\"2022-03-25T00:00:00\",\"2022-03-28T00:00:00\",\"2022-03-29T00:00:00\",\"2022-03-30T00:00:00\",\"2022-03-31T00:00:00\",\"2022-04-01T00:00:00\",\"2022-04-04T00:00:00\",\"2022-04-05T00:00:00\",\"2022-04-06T00:00:00\",\"2022-04-07T00:00:00\",\"2022-04-08T00:00:00\",\"2022-04-12T00:00:00\",\"2022-04-13T00:00:00\",\"2022-04-14T00:00:00\",\"2022-04-15T00:00:00\",\"2022-04-18T00:00:00\",\"2022-04-19T00:00:00\",\"2022-04-20T00:00:00\",\"2022-04-21T00:00:00\",\"2022-04-22T00:00:00\",\"2022-04-25T00:00:00\",\"2022-04-26T00:00:00\",\"2022-04-27T00:00:00\",\"2022-04-28T00:00:00\",\"2022-04-29T00:00:00\",\"2022-05-04T00:00:00\",\"2022-05-05T00:00:00\",\"2022-05-06T00:00:00\",\"2022-05-09T00:00:00\",\"2022-05-10T00:00:00\",\"2022-05-11T00:00:00\",\"2022-05-12T00:00:00\",\"2022-05-13T00:00:00\",\"2022-05-16T00:00:00\",\"2022-05-17T00:00:00\",\"2022-05-18T00:00:00\",\"2022-05-19T00:00:00\",\"2022-05-20T00:00:00\",\"2022-05-23T00:00:00\",\"2022-05-24T00:00:00\",\"2022-05-25T00:00:00\",\"2022-05-26T00:00:00\",\"2022-05-27T00:00:00\",\"2022-05-30T00:00:00\",\"2022-05-31T00:00:00\",\"2022-06-01T00:00:00\",\"2022-06-02T00:00:00\",\"2022-06-03T00:00:00\",\"2022-06-06T00:00:00\",\"2022-06-07T00:00:00\",\"2022-06-08T00:00:00\",\"2022-06-09T00:00:00\",\"2022-06-10T00:00:00\",\"2022-06-13T00:00:00\",\"2022-06-14T00:00:00\",\"2022-06-15T00:00:00\",\"2022-06-16T00:00:00\",\"2022-06-17T00:00:00\",\"2022-06-20T00:00:00\",\"2022-06-21T00:00:00\",\"2022-06-22T00:00:00\",\"2022-06-23T00:00:00\",\"2022-06-24T00:00:00\",\"2022-06-27T00:00:00\",\"2022-06-28T00:00:00\",\"2022-06-29T00:00:00\",\"2022-06-30T00:00:00\",\"2022-07-01T00:00:00\",\"2022-07-04T00:00:00\",\"2022-07-05T00:00:00\",\"2022-07-06T00:00:00\",\"2022-07-07T00:00:00\",\"2022-07-08T00:00:00\",\"2022-07-11T00:00:00\",\"2022-07-12T00:00:00\",\"2022-07-13T00:00:00\",\"2022-07-14T00:00:00\",\"2022-07-15T00:00:00\",\"2022-07-18T00:00:00\",\"2022-07-19T00:00:00\",\"2022-07-20T00:00:00\",\"2022-07-21T00:00:00\",\"2022-07-22T00:00:00\",\"2022-07-25T00:00:00\",\"2022-07-26T00:00:00\",\"2022-07-27T00:00:00\",\"2022-07-28T00:00:00\",\"2022-07-29T00:00:00\",\"2022-08-01T00:00:00\",\"2022-08-02T00:00:00\",\"2022-08-03T00:00:00\",\"2022-08-04T00:00:00\",\"2022-08-05T00:00:00\",\"2022-08-08T00:00:00\",\"2022-08-09T00:00:00\",\"2022-08-10T00:00:00\",\"2022-08-11T00:00:00\",\"2022-08-12T00:00:00\",\"2022-08-15T00:00:00\",\"2022-08-16T00:00:00\",\"2022-08-17T00:00:00\",\"2022-08-18T00:00:00\",\"2022-08-19T00:00:00\",\"2022-08-22T00:00:00\",\"2022-08-23T00:00:00\",\"2022-08-24T00:00:00\",\"2022-08-25T00:00:00\",\"2022-08-26T00:00:00\",\"2022-08-29T00:00:00\",\"2022-08-30T00:00:00\",\"2022-08-31T00:00:00\",\"2022-09-05T00:00:00\",\"2022-09-06T00:00:00\",\"2022-09-07T00:00:00\",\"2022-09-08T00:00:00\",\"2022-09-09T00:00:00\",\"2022-09-12T00:00:00\",\"2022-09-13T00:00:00\",\"2022-09-14T00:00:00\",\"2022-09-15T00:00:00\",\"2022-09-16T00:00:00\",\"2022-09-19T00:00:00\",\"2022-09-20T00:00:00\",\"2022-09-21T00:00:00\",\"2022-09-22T00:00:00\",\"2022-09-23T00:00:00\",\"2022-09-26T00:00:00\",\"2022-09-27T00:00:00\",\"2022-09-28T00:00:00\",\"2022-09-29T00:00:00\",\"2022-09-30T00:00:00\",\"2022-10-03T00:00:00\",\"2022-10-04T00:00:00\",\"2022-10-05T00:00:00\",\"2022-10-06T00:00:00\",\"2022-10-07T00:00:00\",\"2022-10-10T00:00:00\",\"2022-10-11T00:00:00\",\"2022-10-12T00:00:00\",\"2022-10-13T00:00:00\",\"2022-10-14T00:00:00\",\"2022-10-17T00:00:00\",\"2022-10-18T00:00:00\",\"2022-10-19T00:00:00\",\"2022-10-20T00:00:00\",\"2022-10-21T00:00:00\",\"2022-10-24T00:00:00\",\"2022-10-25T00:00:00\",\"2022-10-26T00:00:00\",\"2022-10-27T00:00:00\",\"2022-10-28T00:00:00\",\"2022-10-31T00:00:00\",\"2022-11-01T00:00:00\",\"2022-11-02T00:00:00\",\"2022-11-03T00:00:00\",\"2022-11-04T00:00:00\",\"2022-11-07T00:00:00\",\"2022-11-08T00:00:00\",\"2022-11-09T00:00:00\",\"2022-11-10T00:00:00\",\"2022-11-11T00:00:00\",\"2022-11-14T00:00:00\",\"2022-11-15T00:00:00\",\"2022-11-16T00:00:00\",\"2022-11-17T00:00:00\",\"2022-11-18T00:00:00\",\"2022-11-21T00:00:00\",\"2022-11-22T00:00:00\",\"2022-11-23T00:00:00\",\"2022-11-24T00:00:00\",\"2022-11-25T00:00:00\",\"2022-11-28T00:00:00\",\"2022-11-29T00:00:00\",\"2022-11-30T00:00:00\",\"2022-12-01T00:00:00\",\"2022-12-02T00:00:00\",\"2022-12-05T00:00:00\",\"2022-12-06T00:00:00\",\"2022-12-07T00:00:00\",\"2022-12-08T00:00:00\",\"2022-12-09T00:00:00\",\"2022-12-12T00:00:00\",\"2022-12-13T00:00:00\",\"2022-12-14T00:00:00\",\"2022-12-15T00:00:00\",\"2022-12-16T00:00:00\",\"2022-12-19T00:00:00\",\"2022-12-20T00:00:00\",\"2022-12-21T00:00:00\",\"2022-12-22T00:00:00\",\"2022-12-23T00:00:00\",\"2022-12-26T00:00:00\",\"2022-12-27T00:00:00\",\"2022-12-27T00:00:00\",\"2022-12-28T00:00:00\",\"2022-12-29T00:00:00\",\"2022-12-30T00:00:00\",\"2023-01-03T00:00:00\",\"2023-01-04T00:00:00\",\"2023-01-05T00:00:00\",\"2023-01-06T00:00:00\",\"2023-01-09T00:00:00\",\"2023-01-10T00:00:00\",\"2023-01-11T00:00:00\",\"2023-01-12T00:00:00\",\"2023-01-13T00:00:00\",\"2023-01-16T00:00:00\",\"2023-01-17T00:00:00\",\"2023-01-18T00:00:00\",\"2023-01-19T00:00:00\",\"2023-01-27T00:00:00\",\"2023-01-30T00:00:00\",\"2023-01-31T00:00:00\",\"2023-02-01T00:00:00\",\"2023-02-02T00:00:00\",\"2023-02-03T00:00:00\",\"2023-02-06T00:00:00\",\"2023-02-07T00:00:00\",\"2023-02-08T00:00:00\",\"2023-02-09T00:00:00\",\"2023-02-10T00:00:00\",\"2023-02-13T00:00:00\",\"2023-02-14T00:00:00\",\"2023-02-15T00:00:00\",\"2023-02-16T00:00:00\",\"2023-02-17T00:00:00\",\"2023-02-20T00:00:00\",\"2023-02-21T00:00:00\",\"2023-02-22T00:00:00\",\"2023-02-23T00:00:00\",\"2023-02-24T00:00:00\",\"2023-02-27T00:00:00\",\"2023-02-28T00:00:00\",\"2023-03-01T00:00:00\",\"2023-03-02T00:00:00\",\"2023-03-03T00:00:00\",\"2023-03-06T00:00:00\",\"2023-03-07T00:00:00\",\"2023-03-08T00:00:00\",\"2023-03-09T00:00:00\",\"2023-03-10T00:00:00\",\"2023-03-13T00:00:00\",\"2023-03-14T00:00:00\",\"2023-03-15T00:00:00\",\"2023-03-16T00:00:00\",\"2023-03-17T00:00:00\",\"2023-03-20T00:00:00\",\"2023-03-21T00:00:00\",\"2023-03-22T00:00:00\",\"2023-03-23T00:00:00\",\"2023-03-24T00:00:00\",\"2023-03-27T00:00:00\",\"2023-03-28T00:00:00\",\"2023-03-29T00:00:00\",\"2023-03-30T00:00:00\",\"2023-03-31T00:00:00\",\"2023-04-03T00:00:00\",\"2023-04-04T00:00:00\",\"2023-04-05T00:00:00\",\"2023-04-06T00:00:00\",\"2023-04-07T00:00:00\",\"2023-04-10T00:00:00\",\"2023-04-11T00:00:00\",\"2023-04-12T00:00:00\",\"2023-04-13T00:00:00\",\"2023-04-14T00:00:00\",\"2023-04-17T00:00:00\",\"2023-04-18T00:00:00\",\"2023-04-19T00:00:00\",\"2023-04-20T00:00:00\",\"2023-04-21T00:00:00\",\"2023-04-24T00:00:00\",\"2023-04-25T00:00:00\",\"2023-04-26T00:00:00\",\"2023-04-27T00:00:00\",\"2023-04-28T00:00:00\",\"2023-05-04T00:00:00\",\"2023-05-05T00:00:00\",\"2023-05-08T00:00:00\",\"2023-05-09T00:00:00\",\"2023-05-10T00:00:00\",\"2023-05-11T00:00:00\",\"2023-05-12T00:00:00\",\"2023-05-15T00:00:00\",\"2023-05-16T00:00:00\",\"2023-05-17T00:00:00\",\"2023-05-18T00:00:00\",\"2023-05-19T00:00:00\",\"2023-05-22T00:00:00\",\"2023-05-23T00:00:00\",\"2023-05-24T00:00:00\",\"2023-05-25T00:00:00\",\"2023-05-26T00:00:00\",\"2023-05-29T00:00:00\",\"2023-05-30T00:00:00\",\"2023-05-31T00:00:00\",\"2023-06-01T00:00:00\",\"2023-06-02T00:00:00\",\"2023-06-05T00:00:00\",\"2023-06-06T00:00:00\",\"2023-06-07T00:00:00\",\"2023-06-08T00:00:00\",\"2023-06-09T00:00:00\",\"2023-06-12T00:00:00\",\"2023-06-13T00:00:00\",\"2023-06-14T00:00:00\",\"2023-06-15T00:00:00\",\"2023-06-16T00:00:00\",\"2023-06-19T00:00:00\",\"2023-06-20T00:00:00\",\"2023-06-21T00:00:00\",\"2023-06-22T00:00:00\",\"2023-06-23T00:00:00\",\"2023-06-26T00:00:00\",\"2023-06-27T00:00:00\",\"2023-06-28T00:00:00\",\"2023-06-29T00:00:00\",\"2023-06-30T00:00:00\",\"2023-07-03T00:00:00\",\"2023-07-04T00:00:00\",\"2023-07-05T00:00:00\",\"2023-07-06T00:00:00\",\"2023-07-07T00:00:00\",\"2023-07-10T00:00:00\",\"2023-07-11T00:00:00\",\"2023-07-12T00:00:00\",\"2023-07-13T00:00:00\",\"2023-07-14T00:00:00\",\"2023-07-17T00:00:00\",\"2023-07-18T00:00:00\",\"2023-07-19T00:00:00\",\"2023-07-20T00:00:00\",\"2023-07-21T00:00:00\",\"2023-07-24T00:00:00\",\"2023-07-25T00:00:00\",\"2023-07-26T00:00:00\",\"2023-07-27T00:00:00\",\"2023-07-28T00:00:00\",\"2023-07-31T00:00:00\",\"2023-08-01T00:00:00\",\"2023-08-02T00:00:00\",\"2023-08-03T00:00:00\",\"2023-08-04T00:00:00\",\"2023-08-07T00:00:00\",\"2023-08-08T00:00:00\",\"2023-08-09T00:00:00\",\"2023-08-10T00:00:00\",\"2023-08-11T00:00:00\",\"2023-08-14T00:00:00\",\"2023-08-15T00:00:00\",\"2023-08-16T00:00:00\",\"2023-08-17T00:00:00\",\"2023-08-18T00:00:00\",\"2023-08-21T00:00:00\",\"2023-08-22T00:00:00\",\"2023-08-23T00:00:00\",\"2023-08-24T00:00:00\",\"2023-08-25T00:00:00\",\"2023-08-28T00:00:00\",\"2023-08-29T00:00:00\",\"2023-08-30T00:00:00\",\"2023-08-31T00:00:00\",\"2023-09-05T00:00:00\",\"2023-09-06T00:00:00\",\"2023-09-07T00:00:00\",\"2023-09-08T00:00:00\",\"2023-09-11T00:00:00\",\"2023-09-12T00:00:00\",\"2023-09-13T00:00:00\",\"2023-09-14T00:00:00\",\"2023-09-15T00:00:00\",\"2023-09-18T00:00:00\",\"2023-09-19T00:00:00\",\"2023-09-20T00:00:00\",\"2023-09-21T00:00:00\",\"2023-09-22T00:00:00\",\"2023-09-25T00:00:00\",\"2023-09-26T00:00:00\",\"2023-09-27T00:00:00\",\"2023-09-28T00:00:00\",\"2023-09-29T00:00:00\",\"2023-10-02T00:00:00\",\"2023-10-03T00:00:00\",\"2023-10-04T00:00:00\",\"2023-10-05T00:00:00\",\"2023-10-06T00:00:00\",\"2023-10-09T00:00:00\",\"2023-10-10T00:00:00\",\"2023-10-11T00:00:00\",\"2023-10-12T00:00:00\",\"2023-10-13T00:00:00\",\"2023-10-16T00:00:00\",\"2023-10-17T00:00:00\",\"2023-10-18T00:00:00\",\"2023-10-19T00:00:00\",\"2023-10-20T00:00:00\",\"2023-10-23T00:00:00\",\"2023-10-24T00:00:00\",\"2023-10-25T00:00:00\",\"2023-10-26T00:00:00\",\"2023-10-27T00:00:00\",\"2023-10-30T00:00:00\",\"2023-10-31T00:00:00\",\"2023-11-01T00:00:00\",\"2023-11-02T00:00:00\",\"2023-11-03T00:00:00\",\"2023-11-06T00:00:00\",\"2023-11-07T00:00:00\",\"2023-11-08T00:00:00\",\"2023-11-09T00:00:00\",\"2023-11-10T00:00:00\",\"2023-11-13T00:00:00\",\"2023-11-14T00:00:00\",\"2023-11-15T00:00:00\",\"2023-11-16T00:00:00\",\"2023-11-17T00:00:00\",\"2023-11-20T00:00:00\",\"2023-11-21T00:00:00\",\"2023-11-22T00:00:00\",\"2023-11-23T00:00:00\",\"2023-11-24T00:00:00\",\"2023-11-27T00:00:00\",\"2023-11-28T00:00:00\",\"2023-11-29T00:00:00\",\"2023-11-30T00:00:00\",\"2023-12-01T00:00:00\",\"2023-12-04T00:00:00\",\"2023-12-05T00:00:00\",\"2023-12-06T00:00:00\",\"2023-12-07T00:00:00\",\"2023-12-08T00:00:00\",\"2023-12-11T00:00:00\",\"2023-12-12T00:00:00\",\"2023-12-13T00:00:00\",\"2023-12-14T00:00:00\",\"2023-12-15T00:00:00\",\"2023-12-18T00:00:00\",\"2023-12-19T00:00:00\",\"2023-12-20T00:00:00\",\"2023-12-21T00:00:00\",\"2023-12-22T00:00:00\",\"2023-12-25T00:00:00\",\"2023-12-26T00:00:00\",\"2023-12-27T00:00:00\",\"2023-12-28T00:00:00\",\"2023-12-29T00:00:00\",\"2024-01-02T00:00:00\",\"2024-01-03T00:00:00\",\"2024-01-04T00:00:00\",\"2024-01-05T00:00:00\",\"2024-01-08T00:00:00\",\"2024-01-09T00:00:00\",\"2024-01-10T00:00:00\",\"2024-01-11T00:00:00\",\"2024-01-12T00:00:00\",\"2024-01-15T00:00:00\",\"2024-01-16T00:00:00\",\"2024-01-17T00:00:00\",\"2024-01-18T00:00:00\",\"2024-01-19T00:00:00\",\"2024-01-22T00:00:00\",\"2024-01-23T00:00:00\",\"2024-01-24T00:00:00\",\"2024-01-25T00:00:00\",\"2024-01-26T00:00:00\",\"2024-01-29T00:00:00\",\"2024-01-30T00:00:00\",\"2024-01-31T00:00:00\",\"2024-02-01T00:00:00\",\"2024-02-02T00:00:00\",\"2024-02-05T00:00:00\",\"2024-02-06T00:00:00\",\"2024-02-07T00:00:00\",\"2024-02-15T00:00:00\",\"2024-02-16T00:00:00\",\"2024-02-19T00:00:00\",\"2024-02-20T00:00:00\",\"2024-02-21T00:00:00\",\"2024-02-22T00:00:00\",\"2024-02-23T00:00:00\",\"2024-02-26T00:00:00\",\"2024-02-27T00:00:00\",\"2024-02-28T00:00:00\",\"2024-02-29T00:00:00\",\"2024-03-01T00:00:00\",\"2024-03-04T00:00:00\",\"2024-03-05T00:00:00\",\"2024-03-06T00:00:00\",\"2024-03-07T00:00:00\",\"2024-03-08T00:00:00\",\"2024-03-11T00:00:00\",\"2024-03-12T00:00:00\",\"2024-03-13T00:00:00\",\"2024-03-14T00:00:00\",\"2024-03-15T00:00:00\",\"2024-03-18T00:00:00\",\"2024-03-19T00:00:00\",\"2024-03-20T00:00:00\",\"2024-03-21T00:00:00\",\"2024-03-22T00:00:00\",\"2024-03-25T00:00:00\",\"2024-03-26T00:00:00\",\"2024-03-27T00:00:00\",\"2024-03-28T00:00:00\",\"2024-03-29T00:00:00\",\"2024-04-01T00:00:00\",\"2024-04-02T00:00:00\",\"2024-04-03T00:00:00\",\"2024-04-04T00:00:00\",\"2024-04-05T00:00:00\",\"2024-04-08T00:00:00\",\"2024-04-09T00:00:00\",\"2024-04-10T00:00:00\",\"2024-04-11T00:00:00\",\"2024-04-12T00:00:00\",\"2024-04-15T00:00:00\",\"2024-04-16T00:00:00\",\"2024-04-17T00:00:00\",\"2024-04-19T00:00:00\",\"2024-04-22T00:00:00\",\"2024-04-23T00:00:00\",\"2024-04-24T00:00:00\",\"2024-04-25T00:00:00\",\"2024-04-26T00:00:00\",\"2024-05-02T00:00:00\",\"2024-05-03T00:00:00\"],\"y\":[23520,23550,23800,23800,23770,23940,24970,24860,24720,24740,24800,23130,23190,24580,24270,24300,23520,22410,20850,21770,21320,22520,23350,23240,23630,22740,23240,24160,24380,24160,24130,24080,24240,24550,25360,25690,25970,26020,25520,25580,25750,25500,25360,25800,25830,25860,25630,25750,25910,26220,26000,25910,25270,25020,25690,25750,25830,26020,26970,27270,27410,27470,27500,27440,27550,28470,27860,29470,30310,30360,32140,31810,30580,31360,30640,31310,31140,32310,33250,32970,33030,33810,35030,34480,34860,34200,34140,34420,35250,36760,37030,36480,36370,37480,37700,37140,37310,39880,42000,40870,41100,41250,39880,37840,38070,39050,40190,40570,40260,39200,38900,39430,38750,39130,38900,38300,38370,39660,39200,38980,39960,39580,38750,36330,37770,37080,35800,34020,34440,34060,35190,35380,33530,35800,35380,35720,34660,34510,34970,35340,35650,35800,35760,35760,35950,36930,36630,37610,37390,37050,36630,36820,37420,38140,38140,38520,37080,35950,36140,36630,36100,36020,36860,37310,37240,38750,38370,38830,39280,38980,38450,38070,39050,38830,39200,38830,38450,38520,38600,38450,38450,39810,40340,40040,40410,42000,41850,42460,42080,42160,43290,43140,42990,42990,43370,43820,43290,43060,43290,42910,41700,42610,43820,43900,43210,42160,42000,42080,42610,42840,42990,42760,41850,40870,41320,40570,39350,38900,37800,36330,36820,37500,36820,37270,37120,36630,37050,37080,36780,36100,34620,36020,35720,35650,35190,35230,36100,36180,35950,35340,35500,34890,34130,34020,34850,34740,34660,34660,34590,35120,35380,35420,34890,34660,34660,34130,34970,35340,35000,33830,33300,32920,33300,32770,30800,32729,32880,31900,31940,32580,34470,35800,35570,35680,34970,34810,34810,35190,35610,35310,35120,35340,34810,34740,35720,35500,35500,37920,37690,38670,37420,37730,37200,36020,34660,34930,34970,34780,35190,35460,35500,35420,35120,35120,34740,34700,34440,34130,34590,34700,34890,35760,35230,35120,34130,34210,33980,33450,32280,32770,32689,32810,33150,30840,31180,32170,32619,32770,31790,31820,31640,30240,31110,30760,28950,27170,27470,28910,28910,28680,28490,27810,26410,26070,26490,26830,26830,26260,26000,25090,25280,25200,25130,24900,25580,25430,24070,22930,22250,23460,23200,21600,20800,21500,21800,21800,22900,22500,22750,22300,22400,22000,21900,21450,21750,22450,22050,22300,22300,22200,23200,22600,22150,22350,22700,22200,21900,21650,21250,21400,21500,22800,22950,23750,23650,23300,23600,24100,23800,23400,23950,24000,24550,24300,24150,23750,23350,23650,23500,23850,23500,23000,23050,23000,23900,23550,23000,23100,23800,23800,23700,23700,23600,23000,22650,23000,22900,23000,22700,22400,22400,21800,21650,21200,19750,18850,19200,18000,17600,18350,17500,18700,19500,19450,19250,18850,18400,18100,16900,16400,17100,16900,17400,16800,15650,15000,15350,15200,14650,13700,13150,13000,12100,12300,12200,12500,13350,14250,15100,14950,14800,13800,14350,15300,16350,17400,18400,18200,19450,20000,18600,18250,18900,19200,18600,19000,19200,19350,20400,20000,19000,18900,18900,18350,17100,17400,18250,18200,18000,18000,19250,19400,19800,19400,19600,19800,20200,20050,19950,20250,21650,21700,21150,21500,21750,22100,21100,21300,21100,21150,19750,20850,20600,20500,20200,20600,20800,21300,21000,21900,21600,21200,21500,20800,20100,20000,20900,20600,20350,20400,21100,21200,21200,21300,21100,20300,21300,20850,20400,20000,20450,20400,20350,20400,20800,20700,20750,20800,20800,20950,21000,21500,21550,21200,20700,20800,20700,20450,20650,20850,20950,20850,20900,20750,20650,21100,21850,21700,21550,21450,21500,21600,21850,21750,21800,22300,22150,22050,21900,22000,21800,21950,21700,21300,21200,21100,21450,21350,21200,21400,21600,21650,21750,22600,22800,22900,22950,23400,23100,23150,23450,23350,23650,24600,24850,25400,25200,25800,26600,25800,26150,26200,26250,26950,27000,27450,27700,27300,27000,27050,27500,27300,27200,27400,28200,28400,28250,28250,28400,28400,28300,28200,27500,27500,26850,27350,27550,27200,27800,27350,27700,28150,27950,27950,28100,26500,26200,26150,25650,26300,25950,26850,27000,27200,27600,27800,29000,28650,28750,28000,28750,28400,27800,27600,27600,28150,28400,28400,27300,26000,26200,26500,26600,26300,26200,24800,25250,24900,24950,25500,26000,26200,25800,25750,25000,24800,24000,23700,24350,24000,24000,24050,22800,23350,23000,23000,23950,25250,25100,25750,25800,26950,26700,26500,27200,27000,27000,27200,26500,26650,27050,27200,25850,26400,26300,26700,27000,26550,26900,27500,27250,27600,27600,27700,27500,27950,27350,27050,26800,26600,27200,27200,27200,27050,27450,27800,27750,27950,27950,27450,27800,27750,27800,27850,27700,27350,27500,27150,27100,27800,27650,27650,27800,28300,28350,28250,28250,28350,28000,28000,27750,27850,27900,28000,28050,28150,28700,28600,29200,29200,28800,28550,28400,28800,30350,30600,31000,30850,30800,31150,30800,31000,30300,29900,30200,30800,30350,30100,29600,29800,30000,30250,30550,30200,30550,30600,30550,30250,30100,30400,29950,29600,29450,29600,29900,29650,29900,29950,28500,28350,28000,27800,28000,27600,28800,28550,28400,28350,28650],\"type\":\"scatter\",\"xaxis\":\"x\",\"yaxis\":\"y\"},{\"marker\":{\"color\":\"orange\"},\"name\":\"90 Day MvA\",\"x\":[\"2021-01-04T00:00:00\",\"2021-01-05T00:00:00\",\"2021-01-06T00:00:00\",\"2021-01-07T00:00:00\",\"2021-01-08T00:00:00\",\"2021-01-11T00:00:00\",\"2021-01-12T00:00:00\",\"2021-01-13T00:00:00\",\"2021-01-14T00:00:00\",\"2021-01-15T00:00:00\",\"2021-01-18T00:00:00\",\"2021-01-19T00:00:00\",\"2021-01-20T00:00:00\",\"2021-01-21T00:00:00\",\"2021-01-22T00:00:00\",\"2021-01-25T00:00:00\",\"2021-01-26T00:00:00\",\"2021-01-27T00:00:00\",\"2021-01-28T00:00:00\",\"2021-01-29T00:00:00\",\"2021-02-01T00:00:00\",\"2021-02-02T00:00:00\",\"2021-02-03T00:00:00\",\"2021-02-04T00:00:00\",\"2021-02-05T00:00:00\",\"2021-02-08T00:00:00\",\"2021-02-09T00:00:00\",\"2021-02-17T00:00:00\",\"2021-02-18T00:00:00\",\"2021-02-19T00:00:00\",\"2021-02-22T00:00:00\",\"2021-02-23T00:00:00\",\"2021-02-24T00:00:00\",\"2021-02-25T00:00:00\",\"2021-02-26T00:00:00\",\"2021-03-01T00:00:00\",\"2021-03-02T00:00:00\",\"2021-03-03T00:00:00\",\"2021-03-04T00:00:00\",\"2021-03-05T00:00:00\",\"2021-03-08T00:00:00\",\"2021-03-09T00:00:00\",\"2021-03-10T00:00:00\",\"2021-03-11T00:00:00\",\"2021-03-12T00:00:00\",\"2021-03-15T00:00:00\",\"2021-03-16T00:00:00\",\"2021-03-17T00:00:00\",\"2021-03-18T00:00:00\",\"2021-03-19T00:00:00\",\"2021-03-22T00:00:00\",\"2021-03-23T00:00:00\",\"2021-03-24T00:00:00\",\"2021-03-25T00:00:00\",\"2021-03-26T00:00:00\",\"2021-03-29T00:00:00\",\"2021-03-30T00:00:00\",\"2021-03-31T00:00:00\",\"2021-04-01T00:00:00\",\"2021-04-02T00:00:00\",\"2021-04-05T00:00:00\",\"2021-04-06T00:00:00\",\"2021-04-07T00:00:00\",\"2021-04-08T00:00:00\",\"2021-04-09T00:00:00\",\"2021-04-12T00:00:00\",\"2021-04-13T00:00:00\",\"2021-04-14T00:00:00\",\"2021-04-15T00:00:00\",\"2021-04-16T00:00:00\",\"2021-04-19T00:00:00\",\"2021-04-20T00:00:00\",\"2021-04-22T00:00:00\",\"2021-04-23T00:00:00\",\"2021-04-26T00:00:00\",\"2021-04-27T00:00:00\",\"2021-04-28T00:00:00\",\"2021-04-29T00:00:00\",\"2021-05-04T00:00:00\",\"2021-05-05T00:00:00\",\"2021-05-06T00:00:00\",\"2021-05-07T00:00:00\",\"2021-05-10T00:00:00\",\"2021-05-11T00:00:00\",\"2021-05-12T00:00:00\",\"2021-05-13T00:00:00\",\"2021-05-14T00:00:00\",\"2021-05-17T00:00:00\",\"2021-05-18T00:00:00\",\"2021-05-19T00:00:00\",\"2021-05-20T00:00:00\",\"2021-05-21T00:00:00\",\"2021-05-24T00:00:00\",\"2021-05-25T00:00:00\",\"2021-05-26T00:00:00\",\"2021-05-27T00:00:00\",\"2021-05-28T00:00:00\",\"2021-05-31T00:00:00\",\"2021-06-01T00:00:00\",\"2021-06-02T00:00:00\",\"2021-06-03T00:00:00\",\"2021-06-04T00:00:00\",\"2021-06-07T00:00:00\",\"2021-06-08T00:00:00\",\"2021-06-09T00:00:00\",\"2021-06-10T00:00:00\",\"2021-06-11T00:00:00\",\"2021-06-14T00:00:00\",\"2021-06-15T00:00:00\",\"2021-06-16T00:00:00\",\"2021-06-17T00:00:00\",\"2021-06-18T00:00:00\",\"2021-06-21T00:00:00\",\"2021-06-22T00:00:00\",\"2021-06-23T00:00:00\",\"2021-06-24T00:00:00\",\"2021-06-25T00:00:00\",\"2021-06-28T00:00:00\",\"2021-06-29T00:00:00\",\"2021-06-30T00:00:00\",\"2021-07-01T00:00:00\",\"2021-07-02T00:00:00\",\"2021-07-05T00:00:00\",\"2021-07-06T00:00:00\",\"2021-07-07T00:00:00\",\"2021-07-08T00:00:00\",\"2021-07-09T00:00:00\",\"2021-07-12T00:00:00\",\"2021-07-13T00:00:00\",\"2021-07-14T00:00:00\",\"2021-07-15T00:00:00\",\"2021-07-16T00:00:00\",\"2021-07-19T00:00:00\",\"2021-07-20T00:00:00\",\"2021-07-21T00:00:00\",\"2021-07-22T00:00:00\",\"2021-07-23T00:00:00\",\"2021-07-26T00:00:00\",\"2021-07-27T00:00:00\",\"2021-07-28T00:00:00\",\"2021-07-29T00:00:00\",\"2021-07-30T00:00:00\",\"2021-08-02T00:00:00\",\"2021-08-03T00:00:00\",\"2021-08-04T00:00:00\",\"2021-08-05T00:00:00\",\"2021-08-06T00:00:00\",\"2021-08-09T00:00:00\",\"2021-08-10T00:00:00\",\"2021-08-11T00:00:00\",\"2021-08-12T00:00:00\",\"2021-08-13T00:00:00\",\"2021-08-16T00:00:00\",\"2021-08-17T00:00:00\",\"2021-08-18T00:00:00\",\"2021-08-19T00:00:00\",\"2021-08-20T00:00:00\",\"2021-08-23T00:00:00\",\"2021-08-24T00:00:00\",\"2021-08-25T00:00:00\",\"2021-08-26T00:00:00\",\"2021-08-27T00:00:00\",\"2021-08-30T00:00:00\",\"2021-08-31T00:00:00\",\"2021-09-01T00:00:00\",\"2021-09-06T00:00:00\",\"2021-09-07T00:00:00\",\"2021-09-08T00:00:00\",\"2021-09-09T00:00:00\",\"2021-09-10T00:00:00\",\"2021-09-13T00:00:00\",\"2021-09-14T00:00:00\",\"2021-09-15T00:00:00\",\"2021-09-16T00:00:00\",\"2021-09-17T00:00:00\",\"2021-09-20T00:00:00\",\"2021-09-21T00:00:00\",\"2021-09-22T00:00:00\",\"2021-09-23T00:00:00\",\"2021-09-24T00:00:00\",\"2021-09-27T00:00:00\",\"2021-09-28T00:00:00\",\"2021-09-29T00:00:00\",\"2021-09-30T00:00:00\",\"2021-10-01T00:00:00\",\"2021-10-04T00:00:00\",\"2021-10-05T00:00:00\",\"2021-10-06T00:00:00\",\"2021-10-07T00:00:00\",\"2021-10-08T00:00:00\",\"2021-10-11T00:00:00\",\"2021-10-12T00:00:00\",\"2021-10-13T00:00:00\",\"2021-10-14T00:00:00\",\"2021-10-15T00:00:00\",\"2021-10-18T00:00:00\",\"2021-10-19T00:00:00\",\"2021-10-20T00:00:00\",\"2021-10-21T00:00:00\",\"2021-10-22T00:00:00\",\"2021-10-25T00:00:00\",\"2021-10-26T00:00:00\",\"2021-10-27T00:00:00\",\"2021-10-28T00:00:00\",\"2021-10-29T00:00:00\",\"2021-11-01T00:00:00\",\"2021-11-02T00:00:00\",\"2021-11-03T00:00:00\",\"2021-11-04T00:00:00\",\"2021-11-05T00:00:00\",\"2021-11-08T00:00:00\",\"2021-11-09T00:00:00\",\"2021-11-10T00:00:00\",\"2021-11-11T00:00:00\",\"2021-11-12T00:00:00\",\"2021-11-15T00:00:00\",\"2021-11-16T00:00:00\",\"2021-11-17T00:00:00\",\"2021-11-18T00:00:00\",\"2021-11-19T00:00:00\",\"2021-11-22T00:00:00\",\"2021-11-23T00:00:00\",\"2021-11-24T00:00:00\",\"2021-11-25T00:00:00\",\"2021-11-26T00:00:00\",\"2021-11-29T00:00:00\",\"2021-11-30T00:00:00\",\"2021-12-01T00:00:00\",\"2021-12-02T00:00:00\",\"2021-12-03T00:00:00\",\"2021-12-06T00:00:00\",\"2021-12-07T00:00:00\",\"2021-12-08T00:00:00\",\"2021-12-09T00:00:00\",\"2021-12-10T00:00:00\",\"2021-12-13T00:00:00\",\"2021-12-14T00:00:00\",\"2021-12-15T00:00:00\",\"2021-12-16T00:00:00\",\"2021-12-17T00:00:00\",\"2021-12-20T00:00:00\",\"2021-12-21T00:00:00\",\"2021-12-22T00:00:00\",\"2021-12-23T00:00:00\",\"2021-12-24T00:00:00\",\"2021-12-27T00:00:00\",\"2021-12-28T00:00:00\",\"2021-12-29T00:00:00\",\"2021-12-30T00:00:00\",\"2021-12-31T00:00:00\",\"2022-01-04T00:00:00\",\"2022-01-05T00:00:00\",\"2022-01-06T00:00:00\",\"2022-01-07T00:00:00\",\"2022-01-10T00:00:00\",\"2022-01-11T00:00:00\",\"2022-01-12T00:00:00\",\"2022-01-13T00:00:00\",\"2022-01-14T00:00:00\",\"2022-01-17T00:00:00\",\"2022-01-18T00:00:00\",\"2022-01-19T00:00:00\",\"2022-01-20T00:00:00\",\"2022-01-21T00:00:00\",\"2022-01-24T00:00:00\",\"2022-01-25T00:00:00\",\"2022-01-26T00:00:00\",\"2022-01-27T00:00:00\",\"2022-01-28T00:00:00\",\"2022-02-07T00:00:00\",\"2022-02-08T00:00:00\",\"2022-02-09T00:00:00\",\"2022-02-10T00:00:00\",\"2022-02-11T00:00:00\",\"2022-02-14T00:00:00\",\"2022-02-15T00:00:00\",\"2022-02-16T00:00:00\",\"2022-02-17T00:00:00\",\"2022-02-18T00:00:00\",\"2022-02-21T00:00:00\",\"2022-02-22T00:00:00\",\"2022-02-23T00:00:00\",\"2022-02-24T00:00:00\",\"2022-02-25T00:00:00\",\"2022-02-28T00:00:00\",\"2022-03-01T00:00:00\",\"2022-03-02T00:00:00\",\"2022-03-03T00:00:00\",\"2022-03-04T00:00:00\",\"2022-03-07T00:00:00\",\"2022-03-08T00:00:00\",\"2022-03-09T00:00:00\",\"2022-03-10T00:00:00\",\"2022-03-11T00:00:00\",\"2022-03-14T00:00:00\",\"2022-03-15T00:00:00\",\"2022-03-16T00:00:00\",\"2022-03-17T00:00:00\",\"2022-03-18T00:00:00\",\"2022-03-21T00:00:00\",\"2022-03-22T00:00:00\",\"2022-03-23T00:00:00\",\"2022-03-24T00:00:00\",\"2022-03-25T00:00:00\",\"2022-03-28T00:00:00\",\"2022-03-29T00:00:00\",\"2022-03-30T00:00:00\",\"2022-03-31T00:00:00\",\"2022-04-01T00:00:00\",\"2022-04-04T00:00:00\",\"2022-04-05T00:00:00\",\"2022-04-06T00:00:00\",\"2022-04-07T00:00:00\",\"2022-04-08T00:00:00\",\"2022-04-12T00:00:00\",\"2022-04-13T00:00:00\",\"2022-04-14T00:00:00\",\"2022-04-15T00:00:00\",\"2022-04-18T00:00:00\",\"2022-04-19T00:00:00\",\"2022-04-20T00:00:00\",\"2022-04-21T00:00:00\",\"2022-04-22T00:00:00\",\"2022-04-25T00:00:00\",\"2022-04-26T00:00:00\",\"2022-04-27T00:00:00\",\"2022-04-28T00:00:00\",\"2022-04-29T00:00:00\",\"2022-05-04T00:00:00\",\"2022-05-05T00:00:00\",\"2022-05-06T00:00:00\",\"2022-05-09T00:00:00\",\"2022-05-10T00:00:00\",\"2022-05-11T00:00:00\",\"2022-05-12T00:00:00\",\"2022-05-13T00:00:00\",\"2022-05-16T00:00:00\",\"2022-05-17T00:00:00\",\"2022-05-18T00:00:00\",\"2022-05-19T00:00:00\",\"2022-05-20T00:00:00\",\"2022-05-23T00:00:00\",\"2022-05-24T00:00:00\",\"2022-05-25T00:00:00\",\"2022-05-26T00:00:00\",\"2022-05-27T00:00:00\",\"2022-05-30T00:00:00\",\"2022-05-31T00:00:00\",\"2022-06-01T00:00:00\",\"2022-06-02T00:00:00\",\"2022-06-03T00:00:00\",\"2022-06-06T00:00:00\",\"2022-06-07T00:00:00\",\"2022-06-08T00:00:00\",\"2022-06-09T00:00:00\",\"2022-06-10T00:00:00\",\"2022-06-13T00:00:00\",\"2022-06-14T00:00:00\",\"2022-06-15T00:00:00\",\"2022-06-16T00:00:00\",\"2022-06-17T00:00:00\",\"2022-06-20T00:00:00\",\"2022-06-21T00:00:00\",\"2022-06-22T00:00:00\",\"2022-06-23T00:00:00\",\"2022-06-24T00:00:00\",\"2022-06-27T00:00:00\",\"2022-06-28T00:00:00\",\"2022-06-29T00:00:00\",\"2022-06-30T00:00:00\",\"2022-07-01T00:00:00\",\"2022-07-04T00:00:00\",\"2022-07-05T00:00:00\",\"2022-07-06T00:00:00\",\"2022-07-07T00:00:00\",\"2022-07-08T00:00:00\",\"2022-07-11T00:00:00\",\"2022-07-12T00:00:00\",\"2022-07-13T00:00:00\",\"2022-07-14T00:00:00\",\"2022-07-15T00:00:00\",\"2022-07-18T00:00:00\",\"2022-07-19T00:00:00\",\"2022-07-20T00:00:00\",\"2022-07-21T00:00:00\",\"2022-07-22T00:00:00\",\"2022-07-25T00:00:00\",\"2022-07-26T00:00:00\",\"2022-07-27T00:00:00\",\"2022-07-28T00:00:00\",\"2022-07-29T00:00:00\",\"2022-08-01T00:00:00\",\"2022-08-02T00:00:00\",\"2022-08-03T00:00:00\",\"2022-08-04T00:00:00\",\"2022-08-05T00:00:00\",\"2022-08-08T00:00:00\",\"2022-08-09T00:00:00\",\"2022-08-10T00:00:00\",\"2022-08-11T00:00:00\",\"2022-08-12T00:00:00\",\"2022-08-15T00:00:00\",\"2022-08-16T00:00:00\",\"2022-08-17T00:00:00\",\"2022-08-18T00:00:00\",\"2022-08-19T00:00:00\",\"2022-08-22T00:00:00\",\"2022-08-23T00:00:00\",\"2022-08-24T00:00:00\",\"2022-08-25T00:00:00\",\"2022-08-26T00:00:00\",\"2022-08-29T00:00:00\",\"2022-08-30T00:00:00\",\"2022-08-31T00:00:00\",\"2022-09-05T00:00:00\",\"2022-09-06T00:00:00\",\"2022-09-07T00:00:00\",\"2022-09-08T00:00:00\",\"2022-09-09T00:00:00\",\"2022-09-12T00:00:00\",\"2022-09-13T00:00:00\",\"2022-09-14T00:00:00\",\"2022-09-15T00:00:00\",\"2022-09-16T00:00:00\",\"2022-09-19T00:00:00\",\"2022-09-20T00:00:00\",\"2022-09-21T00:00:00\",\"2022-09-22T00:00:00\",\"2022-09-23T00:00:00\",\"2022-09-26T00:00:00\",\"2022-09-27T00:00:00\",\"2022-09-28T00:00:00\",\"2022-09-29T00:00:00\",\"2022-09-30T00:00:00\",\"2022-10-03T00:00:00\",\"2022-10-04T00:00:00\",\"2022-10-05T00:00:00\",\"2022-10-06T00:00:00\",\"2022-10-07T00:00:00\",\"2022-10-10T00:00:00\",\"2022-10-11T00:00:00\",\"2022-10-12T00:00:00\",\"2022-10-13T00:00:00\",\"2022-10-14T00:00:00\",\"2022-10-17T00:00:00\",\"2022-10-18T00:00:00\",\"2022-10-19T00:00:00\",\"2022-10-20T00:00:00\",\"2022-10-21T00:00:00\",\"2022-10-24T00:00:00\",\"2022-10-25T00:00:00\",\"2022-10-26T00:00:00\",\"2022-10-27T00:00:00\",\"2022-10-28T00:00:00\",\"2022-10-31T00:00:00\",\"2022-11-01T00:00:00\",\"2022-11-02T00:00:00\",\"2022-11-03T00:00:00\",\"2022-11-04T00:00:00\",\"2022-11-07T00:00:00\",\"2022-11-08T00:00:00\",\"2022-11-09T00:00:00\",\"2022-11-10T00:00:00\",\"2022-11-11T00:00:00\",\"2022-11-14T00:00:00\",\"2022-11-15T00:00:00\",\"2022-11-16T00:00:00\",\"2022-11-17T00:00:00\",\"2022-11-18T00:00:00\",\"2022-11-21T00:00:00\",\"2022-11-22T00:00:00\",\"2022-11-23T00:00:00\",\"2022-11-24T00:00:00\",\"2022-11-25T00:00:00\",\"2022-11-28T00:00:00\",\"2022-11-29T00:00:00\",\"2022-11-30T00:00:00\",\"2022-12-01T00:00:00\",\"2022-12-02T00:00:00\",\"2022-12-05T00:00:00\",\"2022-12-06T00:00:00\",\"2022-12-07T00:00:00\",\"2022-12-08T00:00:00\",\"2022-12-09T00:00:00\",\"2022-12-12T00:00:00\",\"2022-12-13T00:00:00\",\"2022-12-14T00:00:00\",\"2022-12-15T00:00:00\",\"2022-12-16T00:00:00\",\"2022-12-19T00:00:00\",\"2022-12-20T00:00:00\",\"2022-12-21T00:00:00\",\"2022-12-22T00:00:00\",\"2022-12-23T00:00:00\",\"2022-12-26T00:00:00\",\"2022-12-27T00:00:00\",\"2022-12-27T00:00:00\",\"2022-12-28T00:00:00\",\"2022-12-29T00:00:00\",\"2022-12-30T00:00:00\",\"2023-01-03T00:00:00\",\"2023-01-04T00:00:00\",\"2023-01-05T00:00:00\",\"2023-01-06T00:00:00\",\"2023-01-09T00:00:00\",\"2023-01-10T00:00:00\",\"2023-01-11T00:00:00\",\"2023-01-12T00:00:00\",\"2023-01-13T00:00:00\",\"2023-01-16T00:00:00\",\"2023-01-17T00:00:00\",\"2023-01-18T00:00:00\",\"2023-01-19T00:00:00\",\"2023-01-27T00:00:00\",\"2023-01-30T00:00:00\",\"2023-01-31T00:00:00\",\"2023-02-01T00:00:00\",\"2023-02-02T00:00:00\",\"2023-02-03T00:00:00\",\"2023-02-06T00:00:00\",\"2023-02-07T00:00:00\",\"2023-02-08T00:00:00\",\"2023-02-09T00:00:00\",\"2023-02-10T00:00:00\",\"2023-02-13T00:00:00\",\"2023-02-14T00:00:00\",\"2023-02-15T00:00:00\",\"2023-02-16T00:00:00\",\"2023-02-17T00:00:00\",\"2023-02-20T00:00:00\",\"2023-02-21T00:00:00\",\"2023-02-22T00:00:00\",\"2023-02-23T00:00:00\",\"2023-02-24T00:00:00\",\"2023-02-27T00:00:00\",\"2023-02-28T00:00:00\",\"2023-03-01T00:00:00\",\"2023-03-02T00:00:00\",\"2023-03-03T00:00:00\",\"2023-03-06T00:00:00\",\"2023-03-07T00:00:00\",\"2023-03-08T00:00:00\",\"2023-03-09T00:00:00\",\"2023-03-10T00:00:00\",\"2023-03-13T00:00:00\",\"2023-03-14T00:00:00\",\"2023-03-15T00:00:00\",\"2023-03-16T00:00:00\",\"2023-03-17T00:00:00\",\"2023-03-20T00:00:00\",\"2023-03-21T00:00:00\",\"2023-03-22T00:00:00\",\"2023-03-23T00:00:00\",\"2023-03-24T00:00:00\",\"2023-03-27T00:00:00\",\"2023-03-28T00:00:00\",\"2023-03-29T00:00:00\",\"2023-03-30T00:00:00\",\"2023-03-31T00:00:00\",\"2023-04-03T00:00:00\",\"2023-04-04T00:00:00\",\"2023-04-05T00:00:00\",\"2023-04-06T00:00:00\",\"2023-04-07T00:00:00\",\"2023-04-10T00:00:00\",\"2023-04-11T00:00:00\",\"2023-04-12T00:00:00\",\"2023-04-13T00:00:00\",\"2023-04-14T00:00:00\",\"2023-04-17T00:00:00\",\"2023-04-18T00:00:00\",\"2023-04-19T00:00:00\",\"2023-04-20T00:00:00\",\"2023-04-21T00:00:00\",\"2023-04-24T00:00:00\",\"2023-04-25T00:00:00\",\"2023-04-26T00:00:00\",\"2023-04-27T00:00:00\",\"2023-04-28T00:00:00\",\"2023-05-04T00:00:00\",\"2023-05-05T00:00:00\",\"2023-05-08T00:00:00\",\"2023-05-09T00:00:00\",\"2023-05-10T00:00:00\",\"2023-05-11T00:00:00\",\"2023-05-12T00:00:00\",\"2023-05-15T00:00:00\",\"2023-05-16T00:00:00\",\"2023-05-17T00:00:00\",\"2023-05-18T00:00:00\",\"2023-05-19T00:00:00\",\"2023-05-22T00:00:00\",\"2023-05-23T00:00:00\",\"2023-05-24T00:00:00\",\"2023-05-25T00:00:00\",\"2023-05-26T00:00:00\",\"2023-05-29T00:00:00\",\"2023-05-30T00:00:00\",\"2023-05-31T00:00:00\",\"2023-06-01T00:00:00\",\"2023-06-02T00:00:00\",\"2023-06-05T00:00:00\",\"2023-06-06T00:00:00\",\"2023-06-07T00:00:00\",\"2023-06-08T00:00:00\",\"2023-06-09T00:00:00\",\"2023-06-12T00:00:00\",\"2023-06-13T00:00:00\",\"2023-06-14T00:00:00\",\"2023-06-15T00:00:00\",\"2023-06-16T00:00:00\",\"2023-06-19T00:00:00\",\"2023-06-20T00:00:00\",\"2023-06-21T00:00:00\",\"2023-06-22T00:00:00\",\"2023-06-23T00:00:00\",\"2023-06-26T00:00:00\",\"2023-06-27T00:00:00\",\"2023-06-28T00:00:00\",\"2023-06-29T00:00:00\",\"2023-06-30T00:00:00\",\"2023-07-03T00:00:00\",\"2023-07-04T00:00:00\",\"2023-07-05T00:00:00\",\"2023-07-06T00:00:00\",\"2023-07-07T00:00:00\",\"2023-07-10T00:00:00\",\"2023-07-11T00:00:00\",\"2023-07-12T00:00:00\",\"2023-07-13T00:00:00\",\"2023-07-14T00:00:00\",\"2023-07-17T00:00:00\",\"2023-07-18T00:00:00\",\"2023-07-19T00:00:00\",\"2023-07-20T00:00:00\",\"2023-07-21T00:00:00\",\"2023-07-24T00:00:00\",\"2023-07-25T00:00:00\",\"2023-07-26T00:00:00\",\"2023-07-27T00:00:00\",\"2023-07-28T00:00:00\",\"2023-07-31T00:00:00\",\"2023-08-01T00:00:00\",\"2023-08-02T00:00:00\",\"2023-08-03T00:00:00\",\"2023-08-04T00:00:00\",\"2023-08-07T00:00:00\",\"2023-08-08T00:00:00\",\"2023-08-09T00:00:00\",\"2023-08-10T00:00:00\",\"2023-08-11T00:00:00\",\"2023-08-14T00:00:00\",\"2023-08-15T00:00:00\",\"2023-08-16T00:00:00\",\"2023-08-17T00:00:00\",\"2023-08-18T00:00:00\",\"2023-08-21T00:00:00\",\"2023-08-22T00:00:00\",\"2023-08-23T00:00:00\",\"2023-08-24T00:00:00\",\"2023-08-25T00:00:00\",\"2023-08-28T00:00:00\",\"2023-08-29T00:00:00\",\"2023-08-30T00:00:00\",\"2023-08-31T00:00:00\",\"2023-09-05T00:00:00\",\"2023-09-06T00:00:00\",\"2023-09-07T00:00:00\",\"2023-09-08T00:00:00\",\"2023-09-11T00:00:00\",\"2023-09-12T00:00:00\",\"2023-09-13T00:00:00\",\"2023-09-14T00:00:00\",\"2023-09-15T00:00:00\",\"2023-09-18T00:00:00\",\"2023-09-19T00:00:00\",\"2023-09-20T00:00:00\",\"2023-09-21T00:00:00\",\"2023-09-22T00:00:00\",\"2023-09-25T00:00:00\",\"2023-09-26T00:00:00\",\"2023-09-27T00:00:00\",\"2023-09-28T00:00:00\",\"2023-09-29T00:00:00\",\"2023-10-02T00:00:00\",\"2023-10-03T00:00:00\",\"2023-10-04T00:00:00\",\"2023-10-05T00:00:00\",\"2023-10-06T00:00:00\",\"2023-10-09T00:00:00\",\"2023-10-10T00:00:00\",\"2023-10-11T00:00:00\",\"2023-10-12T00:00:00\",\"2023-10-13T00:00:00\",\"2023-10-16T00:00:00\",\"2023-10-17T00:00:00\",\"2023-10-18T00:00:00\",\"2023-10-19T00:00:00\",\"2023-10-20T00:00:00\",\"2023-10-23T00:00:00\",\"2023-10-24T00:00:00\",\"2023-10-25T00:00:00\",\"2023-10-26T00:00:00\",\"2023-10-27T00:00:00\",\"2023-10-30T00:00:00\",\"2023-10-31T00:00:00\",\"2023-11-01T00:00:00\",\"2023-11-02T00:00:00\",\"2023-11-03T00:00:00\",\"2023-11-06T00:00:00\",\"2023-11-07T00:00:00\",\"2023-11-08T00:00:00\",\"2023-11-09T00:00:00\",\"2023-11-10T00:00:00\",\"2023-11-13T00:00:00\",\"2023-11-14T00:00:00\",\"2023-11-15T00:00:00\",\"2023-11-16T00:00:00\",\"2023-11-17T00:00:00\",\"2023-11-20T00:00:00\",\"2023-11-21T00:00:00\",\"2023-11-22T00:00:00\",\"2023-11-23T00:00:00\",\"2023-11-24T00:00:00\",\"2023-11-27T00:00:00\",\"2023-11-28T00:00:00\",\"2023-11-29T00:00:00\",\"2023-11-30T00:00:00\",\"2023-12-01T00:00:00\",\"2023-12-04T00:00:00\",\"2023-12-05T00:00:00\",\"2023-12-06T00:00:00\",\"2023-12-07T00:00:00\",\"2023-12-08T00:00:00\",\"2023-12-11T00:00:00\",\"2023-12-12T00:00:00\",\"2023-12-13T00:00:00\",\"2023-12-14T00:00:00\",\"2023-12-15T00:00:00\",\"2023-12-18T00:00:00\",\"2023-12-19T00:00:00\",\"2023-12-20T00:00:00\",\"2023-12-21T00:00:00\",\"2023-12-22T00:00:00\",\"2023-12-25T00:00:00\",\"2023-12-26T00:00:00\",\"2023-12-27T00:00:00\",\"2023-12-28T00:00:00\",\"2023-12-29T00:00:00\",\"2024-01-02T00:00:00\",\"2024-01-03T00:00:00\",\"2024-01-04T00:00:00\",\"2024-01-05T00:00:00\",\"2024-01-08T00:00:00\",\"2024-01-09T00:00:00\",\"2024-01-10T00:00:00\",\"2024-01-11T00:00:00\",\"2024-01-12T00:00:00\",\"2024-01-15T00:00:00\",\"2024-01-16T00:00:00\",\"2024-01-17T00:00:00\",\"2024-01-18T00:00:00\",\"2024-01-19T00:00:00\",\"2024-01-22T00:00:00\",\"2024-01-23T00:00:00\",\"2024-01-24T00:00:00\",\"2024-01-25T00:00:00\",\"2024-01-26T00:00:00\",\"2024-01-29T00:00:00\",\"2024-01-30T00:00:00\",\"2024-01-31T00:00:00\",\"2024-02-01T00:00:00\",\"2024-02-02T00:00:00\",\"2024-02-05T00:00:00\",\"2024-02-06T00:00:00\",\"2024-02-07T00:00:00\",\"2024-02-15T00:00:00\",\"2024-02-16T00:00:00\",\"2024-02-19T00:00:00\",\"2024-02-20T00:00:00\",\"2024-02-21T00:00:00\",\"2024-02-22T00:00:00\",\"2024-02-23T00:00:00\",\"2024-02-26T00:00:00\",\"2024-02-27T00:00:00\",\"2024-02-28T00:00:00\",\"2024-02-29T00:00:00\",\"2024-03-01T00:00:00\",\"2024-03-04T00:00:00\",\"2024-03-05T00:00:00\",\"2024-03-06T00:00:00\",\"2024-03-07T00:00:00\",\"2024-03-08T00:00:00\",\"2024-03-11T00:00:00\",\"2024-03-12T00:00:00\",\"2024-03-13T00:00:00\",\"2024-03-14T00:00:00\",\"2024-03-15T00:00:00\",\"2024-03-18T00:00:00\",\"2024-03-19T00:00:00\",\"2024-03-20T00:00:00\",\"2024-03-21T00:00:00\",\"2024-03-22T00:00:00\",\"2024-03-25T00:00:00\",\"2024-03-26T00:00:00\",\"2024-03-27T00:00:00\",\"2024-03-28T00:00:00\",\"2024-03-29T00:00:00\",\"2024-04-01T00:00:00\",\"2024-04-02T00:00:00\",\"2024-04-03T00:00:00\",\"2024-04-04T00:00:00\",\"2024-04-05T00:00:00\",\"2024-04-08T00:00:00\",\"2024-04-09T00:00:00\",\"2024-04-10T00:00:00\",\"2024-04-11T00:00:00\",\"2024-04-12T00:00:00\",\"2024-04-15T00:00:00\",\"2024-04-16T00:00:00\",\"2024-04-17T00:00:00\",\"2024-04-19T00:00:00\",\"2024-04-22T00:00:00\",\"2024-04-23T00:00:00\",\"2024-04-24T00:00:00\",\"2024-04-25T00:00:00\",\"2024-04-26T00:00:00\",\"2024-05-02T00:00:00\",\"2024-05-03T00:00:00\"],\"y\":[null,null,null,null,null,null,null,null,null,null,null,null,null,null,null,null,null,null,null,null,null,null,null,null,null,null,null,null,null,null,null,null,null,null,null,null,null,null,null,null,null,null,null,null,null,null,null,null,null,null,null,null,null,null,null,null,null,null,null,null,null,null,null,null,null,null,null,null,null,null,null,null,null,null,null,null,null,null,null,null,null,null,null,null,null,null,null,null,null,26922.666666666668,27072.777777777777,27216.444444444445,27356.11111111111,27508.11111111111,27662.88888888889,27809.555555555555,27946.666666666668,28113.555555555555,28305.555555555555,28484.777777777777,28665.88888888889,28867.222222222223,29052.666666666668,29200.0,29353.333333333332,29517.222222222223,29702.444444444445,29904.222222222223,30119.88888888889,30313.555555555555,30508.88888888889,30696.777777777777,30867.88888888889,31044.444444444445,31214.11111111111,31387.0,31555.11111111111,31727.333333333332,31892.0,32056.666666666668,32232.555555555555,32404.777777777777,32566.0,32696.88888888889,32834.77777777778,32961.333333333336,33070.555555555555,33159.444444444445,33258.555555555555,33352.77777777778,33457.666666666664,33567.444444444445,33658.22222222222,33769.333333333336,33875.444444444445,33985.0,34085.333333333336,34182.666666666664,34283.333333333336,34384.666666666664,34491.88888888889,34601.77777777778,34718.333333333336,34837.666666666664,34951.666666666664,35075.88888888889,35195.88888888889,35324.666666666664,35440.444444444445,35549.11111111111,35651.555555555555,35755.444444444445,35865.666666666664,35984.555555555555,36102.22222222222,36213.88888888889,36316.333333333336,36388.333333333336,36453.11111111111,36522.77777777778,36566.77777777778,36613.555555555555,36683.333333333336,36749.444444444445,36822.77777777778,36905.444444444445,36985.77777777778,37058.22222222222,37125.22222222222,37192.0,37252.22222222222,37299.555555555555,37344.22222222222,37392.555555555555,37440.77777777778,37492.22222222222,37540.11111111111,37585.666666666664,37622.88888888889,37641.666666666664,37657.444444444445,37694.444444444445,37738.555555555555,37767.0,37797.11111111111,37851.11111111111,37901.555555555555,37930.22222222222,37931.11111111111,37945.444444444445,37969.77777777778,37990.77777777778,38025.333333333336,38082.555555555555,38141.444444444445,38194.444444444445,38228.88888888889,38256.555555555555,38290.22222222222,38331.444444444445,38362.555555555555,38397.88888888889,38454.22222222222,38507.22222222222,38555.11111111111,38598.0,38638.333333333336,38665.22222222222,38703.11111111111,38746.0,38779.666666666664,38815.0,38849.444444444445,38899.88888888889,38939.333333333336,38978.11111111111,39017.555555555555,39071.77777777778,39109.11111111111,39134.333333333336,39152.444444444445,39176.0,39212.555555555555,39228.88888888889,39248.22222222222,39258.333333333336,39284.88888888889,39313.444444444445,39333.555555555555,39342.0,39330.555555555555,39333.0,39332.555555555555,39331.333333333336,39322.88888888889,39304.0,39298.11111111111,39282.22222222222,39266.22222222222,39247.22222222222,39234.666666666664,39213.22222222222,39176.666666666664,39130.88888888889,39094.333333333336,39052.333333333336,39025.444444444445,39011.11111111111,38993.88888888889,38977.11111111111,38969.11111111111,38962.444444444445,38940.555555555555,38911.11111111111,38882.444444444445,38831.11111111111,38793.333333333336,38754.555555555555,38707.0,38649.77777777778,38592.555555555555,38535.333333333336,38471.444444444445,38404.11111111111,38310.77777777778,38242.98888888889,38181.1,38107.544444444444,38033.544444444444,37968.322222222225,37924.1,37879.544444444444,37826.544444444444,37778.1,37717.65555555555,37637.76666666667,37559.544444444444,37478.76666666667,37406.87777777778,37330.76666666667,37239.98888888889,37153.322222222225,37062.433333333334,36970.76666666667,36885.76666666667,36793.322222222225,36706.76666666667,36649.65555555555,36587.433333333334,36540.322222222225,36492.76666666667,36438.544444444444,36364.98888888889,36277.433333333334,36182.433333333334,36102.1,36023.98888888889,35942.87777777778,35860.433333333334,35778.433333333334,35695.21111111111,35613.65555555555,35538.87777777778,35474.98888888889,35401.87777777778,35336.65555555555,35282.1,35229.1,35193.433333333334,35175.322222222225,35153.87777777778,35134.544444444444,35116.87777777778,35092.98888888889,35059.76666666667,35032.87777777778,34998.76666666667,34958.433333333334,34908.433333333334,34871.433333333334,34849.97777777778,34814.311111111114,34785.75555555556,34732.311111111114,34687.75555555556,34653.75555555556,34615.07777777778,34577.188888888886,34530.96666666667,34491.85555555556,34448.96666666667,34397.3,34363.74444444444,34327.52222222222,34261.96666666667,34177.85555555556,34097.96666666667,34034.07777777778,33970.96666666667,33899.41111111111,33822.85555555556,33738.3,33644.07777777778,33548.63333333333,33457.85555555556,33376.74444444444,33286.3,33185.41111111111,33085.41111111111,32988.3,32899.188888888886,32813.41111111111,32722.633333333335,32635.18888888889,32577.18888888889,32496.088888888888,32398.2,32298.533333333333,32190.866666666665,32089.533333333333,31964.31111111111,31806.533333333333,31642.422222222223,31484.866666666665,31338.533333333333,31193.977777777778,31061.644444444446,30920.644444444446,30777.755555555555,30633.2,30491.866666666665,30343.644444444446,30200.2,30052.533333333333,29897.31111111111,29752.31111111111,29602.866666666665,29429.31111111111,29258.31111111111,29075.31111111111,28917.31111111111,28749.2,28581.977777777778,28430.088888888888,28297.2,28155.755555555555,28010.533333333333,27864.644444444446,27709.755555555555,27553.533333333333,27397.977777777778,27257.755555555555,27122.533333333333,26996.2,26872.977777777778,26746.31111111111,26625.866666666665,26514.422222222223,26394.533333333333,26268.977777777778,26147.422222222223,26016.755555555555,25898.088888888888,25777.866666666665,25666.977777777778,25550.755555555555,25432.644444444446,25323.755555555555,25226.2,25127.088888888888,25024.98888888889,24915.98888888889,24803.766666666666,24716.655555555557,24635.766666666666,24539.98888888889,24433.11111111111,24325.666666666668,24236.88888888889,24147.777777777777,24059.555555555555,23986.88888888889,23903.444444444445,23817.222222222223,23747.222222222223,23700.88888888889,23650.11111111111,23584.444444444445,23515.444444444445,23445.666666666668,23378.0,23311.222222222223,23258.333333333332,23204.222222222223,23129.333333333332,23040.666666666668,22955.88888888889,22864.11111111111,22770.777777777777,22695.88888888889,22609.444444444445,22537.222222222223,22474.666666666668,22414.11111111111,22343.777777777777,22270.666666666668,22207.666666666668,22154.0,22094.555555555555,22016.11111111111,21948.333333333332,21896.11111111111,21858.333333333332,21806.11111111111,21737.777777777777,21662.222222222223,21578.333333333332,21497.222222222223,21407.222222222223,21311.666666666668,21208.88888888889,21108.88888888889,21000.0,20898.333333333332,20792.222222222223,20681.666666666668,20585.0,20495.555555555555,20415.555555555555,20335.0,20241.666666666668,20143.88888888889,20057.222222222223,19978.88888888889,19908.333333333332,19855.0,19816.11111111111,19777.777777777777,19757.777777777777,19742.222222222223,19710.0,19659.444444444445,19614.444444444445,19563.88888888889,19507.777777777777,19460.0,19411.11111111111,19358.333333333332,19320.555555555555,19282.777777777777,19227.777777777777,19171.11111111111,19108.333333333332,19042.222222222223,18963.88888888889,18893.333333333332,18836.666666666668,18776.11111111111,18715.0,18650.0,18602.777777777777,18562.777777777777,18526.666666666668,18486.666666666668,18438.88888888889,18397.222222222223,18366.11111111111,18332.222222222223,18289.444444444445,18250.0,18227.222222222223,18205.0,18177.777777777777,18161.11111111111,18151.11111111111,18141.11111111111,18121.11111111111,18102.222222222223,18084.444444444445,18070.555555555555,18041.11111111111,18030.555555555555,18018.88888888889,18011.11111111111,18016.11111111111,18035.555555555555,18053.333333333332,18090.0,18127.777777777777,18167.222222222223,18212.777777777777,18240.555555555555,18262.777777777777,18277.777777777777,18287.222222222223,18300.0,18327.777777777777,18355.555555555555,18393.88888888889,18438.333333333332,18482.777777777777,18530.555555555555,18572.777777777777,18622.777777777777,18683.333333333332,18742.222222222223,18808.333333333332,18871.11111111111,18935.0,19005.0,19086.11111111111,19168.333333333332,19260.0,19350.0,19445.555555555555,19536.666666666668,19618.88888888889,19691.666666666668,19755.0,19821.666666666668,19890.555555555555,19976.11111111111,20056.11111111111,20121.666666666668,20170.0,20207.777777777777,20233.333333333332,20258.333333333332,20271.666666666668,20281.11111111111,20307.222222222223,20336.11111111111,20358.333333333332,20375.555555555555,20398.333333333332,20421.666666666668,20451.11111111111,20477.222222222223,20490.0,20506.11111111111,20533.88888888889,20563.88888888889,20596.666666666668,20634.444444444445,20686.666666666668,20741.11111111111,20784.444444444445,20827.222222222223,20870.555555555555,20915.0,20943.333333333332,20971.666666666668,20992.777777777777,21013.88888888889,21031.666666666668,21046.11111111111,21060.0,21074.444444444445,21088.333333333332,21101.11111111111,21100.555555555555,21100.0,21106.666666666668,21118.88888888889,21130.555555555555,21139.444444444445,21160.0,21183.333333333332,21205.555555555555,21227.777777777777,21268.88888888889,21296.666666666668,21330.555555555555,21376.11111111111,21427.777777777777,21481.11111111111,21530.0,21580.0,21642.222222222223,21685.555555555555,21736.11111111111,21791.666666666668,21844.444444444445,21912.777777777777,21989.444444444445,22072.222222222223,22147.777777777777,22222.222222222223,22296.11111111111,22370.0,22441.11111111111,22508.88888888889,22575.555555555555,22643.333333333332,22722.222222222223,22812.222222222223,22889.444444444445,22971.666666666668,23060.555555555555,23153.88888888889,23241.11111111111,23327.777777777777,23407.222222222223,23486.11111111111,23553.333333333332,23627.222222222223,23702.777777777777,23773.88888888889,23851.666666666668,23922.777777777777,23997.222222222223,24071.11111111111,24142.222222222223,24217.222222222223,24299.444444444445,24362.777777777777,24423.88888888889,24487.222222222223,24542.777777777777,24603.333333333332,24658.88888888889,24725.555555555555,24793.333333333332,24865.0,24942.222222222223,25016.666666666668,25096.11111111111,25173.333333333332,25253.333333333332,25326.11111111111,25406.666666666668,25482.222222222223,25548.333333333332,25613.333333333332,25677.777777777777,25742.777777777777,25812.222222222223,25882.777777777777,25942.777777777777,25987.222222222223,26036.11111111111,26086.666666666668,26141.11111111111,26196.666666666668,26252.222222222223,26293.333333333332,26335.555555555555,26375.0,26416.666666666668,26462.222222222223,26511.11111111111,26561.666666666668,26606.666666666668,26641.666666666668,26666.11111111111,26687.222222222223,26698.88888888889,26702.222222222223,26716.11111111111,26725.555555555555,26731.666666666668,26739.444444444445,26730.0,26716.11111111111,26695.555555555555,26668.88888888889,26655.0,26648.88888888889,26632.222222222223,26631.666666666668,26627.777777777777,26636.11111111111,26641.11111111111,26636.11111111111,26638.333333333332,26633.333333333332,26625.555555555555,26624.444444444445,26618.88888888889,26614.444444444445,26609.444444444445,26608.333333333332,26593.333333333332,26582.222222222223,26561.11111111111,26542.222222222223,26528.333333333332,26509.444444444445,26492.777777777777,26482.777777777777,26471.11111111111,26464.444444444445,26465.555555555555,26467.777777777777,26475.0,26481.666666666668,26479.444444444445,26477.777777777777,26466.666666666668,26458.333333333332,26452.777777777777,26442.222222222223,26433.88888888889,26423.88888888889,26416.666666666668,26431.11111111111,26448.333333333332,26468.333333333332,26493.88888888889,26506.666666666668,26527.222222222223,26537.222222222223,26546.11111111111,26553.333333333332,26554.444444444445,26549.444444444445,26532.777777777777,26516.11111111111,26497.777777777777,26495.555555555555,26483.333333333332,26475.0,26475.0,26482.777777777777,26491.11111111111,26492.222222222223,26490.555555555555,26490.0,26497.777777777777,26520.0,26537.222222222223,26552.222222222223,26566.666666666668,26585.555555555555,26606.11111111111,26643.333333333332,26681.666666666668,26722.777777777777,26770.0,26811.11111111111,26842.222222222223,26868.333333333332,26897.222222222223,26931.11111111111,26990.555555555555,27055.0,27132.777777777777,27212.222222222223,27283.88888888889,27363.333333333332,27438.88888888889,27516.11111111111,27599.444444444445,27672.222222222223,27752.222222222223,27838.88888888889,27910.0,27963.88888888889,28013.88888888889,28058.88888888889,28105.555555555555,28142.222222222223,28185.0,28226.11111111111,28263.333333333332,28303.333333333332,28342.777777777777,28376.666666666668,28416.666666666668,28458.333333333332,28490.555555555555,28517.222222222223,28557.222222222223,28592.777777777777,28632.777777777777,28665.555555555555,28697.777777777777,28735.555555555555,28753.333333333332,28762.777777777777,28771.11111111111,28773.333333333332,28777.777777777777,28776.666666666668,28791.11111111111,28797.777777777777,28809.444444444445,28823.88888888889,28844.444444444445],\"type\":\"scatter\"},{\"name\":\"Volume\",\"x\":[\"2021-01-04T00:00:00\",\"2021-01-05T00:00:00\",\"2021-01-06T00:00:00\",\"2021-01-07T00:00:00\",\"2021-01-08T00:00:00\",\"2021-01-11T00:00:00\",\"2021-01-12T00:00:00\",\"2021-01-13T00:00:00\",\"2021-01-14T00:00:00\",\"2021-01-15T00:00:00\",\"2021-01-18T00:00:00\",\"2021-01-19T00:00:00\",\"2021-01-20T00:00:00\",\"2021-01-21T00:00:00\",\"2021-01-22T00:00:00\",\"2021-01-25T00:00:00\",\"2021-01-26T00:00:00\",\"2021-01-27T00:00:00\",\"2021-01-28T00:00:00\",\"2021-01-29T00:00:00\",\"2021-02-01T00:00:00\",\"2021-02-02T00:00:00\",\"2021-02-03T00:00:00\",\"2021-02-04T00:00:00\",\"2021-02-05T00:00:00\",\"2021-02-08T00:00:00\",\"2021-02-09T00:00:00\",\"2021-02-17T00:00:00\",\"2021-02-18T00:00:00\",\"2021-02-19T00:00:00\",\"2021-02-22T00:00:00\",\"2021-02-23T00:00:00\",\"2021-02-24T00:00:00\",\"2021-02-25T00:00:00\",\"2021-02-26T00:00:00\",\"2021-03-01T00:00:00\",\"2021-03-02T00:00:00\",\"2021-03-03T00:00:00\",\"2021-03-04T00:00:00\",\"2021-03-05T00:00:00\",\"2021-03-08T00:00:00\",\"2021-03-09T00:00:00\",\"2021-03-10T00:00:00\",\"2021-03-11T00:00:00\",\"2021-03-12T00:00:00\",\"2021-03-15T00:00:00\",\"2021-03-16T00:00:00\",\"2021-03-17T00:00:00\",\"2021-03-18T00:00:00\",\"2021-03-19T00:00:00\",\"2021-03-22T00:00:00\",\"2021-03-23T00:00:00\",\"2021-03-24T00:00:00\",\"2021-03-25T00:00:00\",\"2021-03-26T00:00:00\",\"2021-03-29T00:00:00\",\"2021-03-30T00:00:00\",\"2021-03-31T00:00:00\",\"2021-04-01T00:00:00\",\"2021-04-02T00:00:00\",\"2021-04-05T00:00:00\",\"2021-04-06T00:00:00\",\"2021-04-07T00:00:00\",\"2021-04-08T00:00:00\",\"2021-04-09T00:00:00\",\"2021-04-12T00:00:00\",\"2021-04-13T00:00:00\",\"2021-04-14T00:00:00\",\"2021-04-15T00:00:00\",\"2021-04-16T00:00:00\",\"2021-04-19T00:00:00\",\"2021-04-20T00:00:00\",\"2021-04-22T00:00:00\",\"2021-04-23T00:00:00\",\"2021-04-26T00:00:00\",\"2021-04-27T00:00:00\",\"2021-04-28T00:00:00\",\"2021-04-29T00:00:00\",\"2021-05-04T00:00:00\",\"2021-05-05T00:00:00\",\"2021-05-06T00:00:00\",\"2021-05-07T00:00:00\",\"2021-05-10T00:00:00\",\"2021-05-11T00:00:00\",\"2021-05-12T00:00:00\",\"2021-05-13T00:00:00\",\"2021-05-14T00:00:00\",\"2021-05-17T00:00:00\",\"2021-05-18T00:00:00\",\"2021-05-19T00:00:00\",\"2021-05-20T00:00:00\",\"2021-05-21T00:00:00\",\"2021-05-24T00:00:00\",\"2021-05-25T00:00:00\",\"2021-05-26T00:00:00\",\"2021-05-27T00:00:00\",\"2021-05-28T00:00:00\",\"2021-05-31T00:00:00\",\"2021-06-01T00:00:00\",\"2021-06-02T00:00:00\",\"2021-06-03T00:00:00\",\"2021-06-04T00:00:00\",\"2021-06-07T00:00:00\",\"2021-06-08T00:00:00\",\"2021-06-09T00:00:00\",\"2021-06-10T00:00:00\",\"2021-06-11T00:00:00\",\"2021-06-14T00:00:00\",\"2021-06-15T00:00:00\",\"2021-06-16T00:00:00\",\"2021-06-17T00:00:00\",\"2021-06-18T00:00:00\",\"2021-06-21T00:00:00\",\"2021-06-22T00:00:00\",\"2021-06-23T00:00:00\",\"2021-06-24T00:00:00\",\"2021-06-25T00:00:00\",\"2021-06-28T00:00:00\",\"2021-06-29T00:00:00\",\"2021-06-30T00:00:00\",\"2021-07-01T00:00:00\",\"2021-07-02T00:00:00\",\"2021-07-05T00:00:00\",\"2021-07-06T00:00:00\",\"2021-07-07T00:00:00\",\"2021-07-08T00:00:00\",\"2021-07-09T00:00:00\",\"2021-07-12T00:00:00\",\"2021-07-13T00:00:00\",\"2021-07-14T00:00:00\",\"2021-07-15T00:00:00\",\"2021-07-16T00:00:00\",\"2021-07-19T00:00:00\",\"2021-07-20T00:00:00\",\"2021-07-21T00:00:00\",\"2021-07-22T00:00:00\",\"2021-07-23T00:00:00\",\"2021-07-26T00:00:00\",\"2021-07-27T00:00:00\",\"2021-07-28T00:00:00\",\"2021-07-29T00:00:00\",\"2021-07-30T00:00:00\",\"2021-08-02T00:00:00\",\"2021-08-03T00:00:00\",\"2021-08-04T00:00:00\",\"2021-08-05T00:00:00\",\"2021-08-06T00:00:00\",\"2021-08-09T00:00:00\",\"2021-08-10T00:00:00\",\"2021-08-11T00:00:00\",\"2021-08-12T00:00:00\",\"2021-08-13T00:00:00\",\"2021-08-16T00:00:00\",\"2021-08-17T00:00:00\",\"2021-08-18T00:00:00\",\"2021-08-19T00:00:00\",\"2021-08-20T00:00:00\",\"2021-08-23T00:00:00\",\"2021-08-24T00:00:00\",\"2021-08-25T00:00:00\",\"2021-08-26T00:00:00\",\"2021-08-27T00:00:00\",\"2021-08-30T00:00:00\",\"2021-08-31T00:00:00\",\"2021-09-01T00:00:00\",\"2021-09-06T00:00:00\",\"2021-09-07T00:00:00\",\"2021-09-08T00:00:00\",\"2021-09-09T00:00:00\",\"2021-09-10T00:00:00\",\"2021-09-13T00:00:00\",\"2021-09-14T00:00:00\",\"2021-09-15T00:00:00\",\"2021-09-16T00:00:00\",\"2021-09-17T00:00:00\",\"2021-09-20T00:00:00\",\"2021-09-21T00:00:00\",\"2021-09-22T00:00:00\",\"2021-09-23T00:00:00\",\"2021-09-24T00:00:00\",\"2021-09-27T00:00:00\",\"2021-09-28T00:00:00\",\"2021-09-29T00:00:00\",\"2021-09-30T00:00:00\",\"2021-10-01T00:00:00\",\"2021-10-04T00:00:00\",\"2021-10-05T00:00:00\",\"2021-10-06T00:00:00\",\"2021-10-07T00:00:00\",\"2021-10-08T00:00:00\",\"2021-10-11T00:00:00\",\"2021-10-12T00:00:00\",\"2021-10-13T00:00:00\",\"2021-10-14T00:00:00\",\"2021-10-15T00:00:00\",\"2021-10-18T00:00:00\",\"2021-10-19T00:00:00\",\"2021-10-20T00:00:00\",\"2021-10-21T00:00:00\",\"2021-10-22T00:00:00\",\"2021-10-25T00:00:00\",\"2021-10-26T00:00:00\",\"2021-10-27T00:00:00\",\"2021-10-28T00:00:00\",\"2021-10-29T00:00:00\",\"2021-11-01T00:00:00\",\"2021-11-02T00:00:00\",\"2021-11-03T00:00:00\",\"2021-11-04T00:00:00\",\"2021-11-05T00:00:00\",\"2021-11-08T00:00:00\",\"2021-11-09T00:00:00\",\"2021-11-10T00:00:00\",\"2021-11-11T00:00:00\",\"2021-11-12T00:00:00\",\"2021-11-15T00:00:00\",\"2021-11-16T00:00:00\",\"2021-11-17T00:00:00\",\"2021-11-18T00:00:00\",\"2021-11-19T00:00:00\",\"2021-11-22T00:00:00\",\"2021-11-23T00:00:00\",\"2021-11-24T00:00:00\",\"2021-11-25T00:00:00\",\"2021-11-26T00:00:00\",\"2021-11-29T00:00:00\",\"2021-11-30T00:00:00\",\"2021-12-01T00:00:00\",\"2021-12-02T00:00:00\",\"2021-12-03T00:00:00\",\"2021-12-06T00:00:00\",\"2021-12-07T00:00:00\",\"2021-12-08T00:00:00\",\"2021-12-09T00:00:00\",\"2021-12-10T00:00:00\",\"2021-12-13T00:00:00\",\"2021-12-14T00:00:00\",\"2021-12-15T00:00:00\",\"2021-12-16T00:00:00\",\"2021-12-17T00:00:00\",\"2021-12-20T00:00:00\",\"2021-12-21T00:00:00\",\"2021-12-22T00:00:00\",\"2021-12-23T00:00:00\",\"2021-12-24T00:00:00\",\"2021-12-27T00:00:00\",\"2021-12-28T00:00:00\",\"2021-12-29T00:00:00\",\"2021-12-30T00:00:00\",\"2021-12-31T00:00:00\",\"2022-01-04T00:00:00\",\"2022-01-05T00:00:00\",\"2022-01-06T00:00:00\",\"2022-01-07T00:00:00\",\"2022-01-10T00:00:00\",\"2022-01-11T00:00:00\",\"2022-01-12T00:00:00\",\"2022-01-13T00:00:00\",\"2022-01-14T00:00:00\",\"2022-01-17T00:00:00\",\"2022-01-18T00:00:00\",\"2022-01-19T00:00:00\",\"2022-01-20T00:00:00\",\"2022-01-21T00:00:00\",\"2022-01-24T00:00:00\",\"2022-01-25T00:00:00\",\"2022-01-26T00:00:00\",\"2022-01-27T00:00:00\",\"2022-01-28T00:00:00\",\"2022-02-07T00:00:00\",\"2022-02-08T00:00:00\",\"2022-02-09T00:00:00\",\"2022-02-10T00:00:00\",\"2022-02-11T00:00:00\",\"2022-02-14T00:00:00\",\"2022-02-15T00:00:00\",\"2022-02-16T00:00:00\",\"2022-02-17T00:00:00\",\"2022-02-18T00:00:00\",\"2022-02-21T00:00:00\",\"2022-02-22T00:00:00\",\"2022-02-23T00:00:00\",\"2022-02-24T00:00:00\",\"2022-02-25T00:00:00\",\"2022-02-28T00:00:00\",\"2022-03-01T00:00:00\",\"2022-03-02T00:00:00\",\"2022-03-03T00:00:00\",\"2022-03-04T00:00:00\",\"2022-03-07T00:00:00\",\"2022-03-08T00:00:00\",\"2022-03-09T00:00:00\",\"2022-03-10T00:00:00\",\"2022-03-11T00:00:00\",\"2022-03-14T00:00:00\",\"2022-03-15T00:00:00\",\"2022-03-16T00:00:00\",\"2022-03-17T00:00:00\",\"2022-03-18T00:00:00\",\"2022-03-21T00:00:00\",\"2022-03-22T00:00:00\",\"2022-03-23T00:00:00\",\"2022-03-24T00:00:00\",\"2022-03-25T00:00:00\",\"2022-03-28T00:00:00\",\"2022-03-29T00:00:00\",\"2022-03-30T00:00:00\",\"2022-03-31T00:00:00\",\"2022-04-01T00:00:00\",\"2022-04-04T00:00:00\",\"2022-04-05T00:00:00\",\"2022-04-06T00:00:00\",\"2022-04-07T00:00:00\",\"2022-04-08T00:00:00\",\"2022-04-12T00:00:00\",\"2022-04-13T00:00:00\",\"2022-04-14T00:00:00\",\"2022-04-15T00:00:00\",\"2022-04-18T00:00:00\",\"2022-04-19T00:00:00\",\"2022-04-20T00:00:00\",\"2022-04-21T00:00:00\",\"2022-04-22T00:00:00\",\"2022-04-25T00:00:00\",\"2022-04-26T00:00:00\",\"2022-04-27T00:00:00\",\"2022-04-28T00:00:00\",\"2022-04-29T00:00:00\",\"2022-05-04T00:00:00\",\"2022-05-05T00:00:00\",\"2022-05-06T00:00:00\",\"2022-05-09T00:00:00\",\"2022-05-10T00:00:00\",\"2022-05-11T00:00:00\",\"2022-05-12T00:00:00\",\"2022-05-13T00:00:00\",\"2022-05-16T00:00:00\",\"2022-05-17T00:00:00\",\"2022-05-18T00:00:00\",\"2022-05-19T00:00:00\",\"2022-05-20T00:00:00\",\"2022-05-23T00:00:00\",\"2022-05-24T00:00:00\",\"2022-05-25T00:00:00\",\"2022-05-26T00:00:00\",\"2022-05-27T00:00:00\",\"2022-05-30T00:00:00\",\"2022-05-31T00:00:00\",\"2022-06-01T00:00:00\",\"2022-06-02T00:00:00\",\"2022-06-03T00:00:00\",\"2022-06-06T00:00:00\",\"2022-06-07T00:00:00\",\"2022-06-08T00:00:00\",\"2022-06-09T00:00:00\",\"2022-06-10T00:00:00\",\"2022-06-13T00:00:00\",\"2022-06-14T00:00:00\",\"2022-06-15T00:00:00\",\"2022-06-16T00:00:00\",\"2022-06-17T00:00:00\",\"2022-06-20T00:00:00\",\"2022-06-21T00:00:00\",\"2022-06-22T00:00:00\",\"2022-06-23T00:00:00\",\"2022-06-24T00:00:00\",\"2022-06-27T00:00:00\",\"2022-06-28T00:00:00\",\"2022-06-29T00:00:00\",\"2022-06-30T00:00:00\",\"2022-07-01T00:00:00\",\"2022-07-04T00:00:00\",\"2022-07-05T00:00:00\",\"2022-07-06T00:00:00\",\"2022-07-07T00:00:00\",\"2022-07-08T00:00:00\",\"2022-07-11T00:00:00\",\"2022-07-12T00:00:00\",\"2022-07-13T00:00:00\",\"2022-07-14T00:00:00\",\"2022-07-15T00:00:00\",\"2022-07-18T00:00:00\",\"2022-07-19T00:00:00\",\"2022-07-20T00:00:00\",\"2022-07-21T00:00:00\",\"2022-07-22T00:00:00\",\"2022-07-25T00:00:00\",\"2022-07-26T00:00:00\",\"2022-07-27T00:00:00\",\"2022-07-28T00:00:00\",\"2022-07-29T00:00:00\",\"2022-08-01T00:00:00\",\"2022-08-02T00:00:00\",\"2022-08-03T00:00:00\",\"2022-08-04T00:00:00\",\"2022-08-05T00:00:00\",\"2022-08-08T00:00:00\",\"2022-08-09T00:00:00\",\"2022-08-10T00:00:00\",\"2022-08-11T00:00:00\",\"2022-08-12T00:00:00\",\"2022-08-15T00:00:00\",\"2022-08-16T00:00:00\",\"2022-08-17T00:00:00\",\"2022-08-18T00:00:00\",\"2022-08-19T00:00:00\",\"2022-08-22T00:00:00\",\"2022-08-23T00:00:00\",\"2022-08-24T00:00:00\",\"2022-08-25T00:00:00\",\"2022-08-26T00:00:00\",\"2022-08-29T00:00:00\",\"2022-08-30T00:00:00\",\"2022-08-31T00:00:00\",\"2022-09-05T00:00:00\",\"2022-09-06T00:00:00\",\"2022-09-07T00:00:00\",\"2022-09-08T00:00:00\",\"2022-09-09T00:00:00\",\"2022-09-12T00:00:00\",\"2022-09-13T00:00:00\",\"2022-09-14T00:00:00\",\"2022-09-15T00:00:00\",\"2022-09-16T00:00:00\",\"2022-09-19T00:00:00\",\"2022-09-20T00:00:00\",\"2022-09-21T00:00:00\",\"2022-09-22T00:00:00\",\"2022-09-23T00:00:00\",\"2022-09-26T00:00:00\",\"2022-09-27T00:00:00\",\"2022-09-28T00:00:00\",\"2022-09-29T00:00:00\",\"2022-09-30T00:00:00\",\"2022-10-03T00:00:00\",\"2022-10-04T00:00:00\",\"2022-10-05T00:00:00\",\"2022-10-06T00:00:00\",\"2022-10-07T00:00:00\",\"2022-10-10T00:00:00\",\"2022-10-11T00:00:00\",\"2022-10-12T00:00:00\",\"2022-10-13T00:00:00\",\"2022-10-14T00:00:00\",\"2022-10-17T00:00:00\",\"2022-10-18T00:00:00\",\"2022-10-19T00:00:00\",\"2022-10-20T00:00:00\",\"2022-10-21T00:00:00\",\"2022-10-24T00:00:00\",\"2022-10-25T00:00:00\",\"2022-10-26T00:00:00\",\"2022-10-27T00:00:00\",\"2022-10-28T00:00:00\",\"2022-10-31T00:00:00\",\"2022-11-01T00:00:00\",\"2022-11-02T00:00:00\",\"2022-11-03T00:00:00\",\"2022-11-04T00:00:00\",\"2022-11-07T00:00:00\",\"2022-11-08T00:00:00\",\"2022-11-09T00:00:00\",\"2022-11-10T00:00:00\",\"2022-11-11T00:00:00\",\"2022-11-14T00:00:00\",\"2022-11-15T00:00:00\",\"2022-11-16T00:00:00\",\"2022-11-17T00:00:00\",\"2022-11-18T00:00:00\",\"2022-11-21T00:00:00\",\"2022-11-22T00:00:00\",\"2022-11-23T00:00:00\",\"2022-11-24T00:00:00\",\"2022-11-25T00:00:00\",\"2022-11-28T00:00:00\",\"2022-11-29T00:00:00\",\"2022-11-30T00:00:00\",\"2022-12-01T00:00:00\",\"2022-12-02T00:00:00\",\"2022-12-05T00:00:00\",\"2022-12-06T00:00:00\",\"2022-12-07T00:00:00\",\"2022-12-08T00:00:00\",\"2022-12-09T00:00:00\",\"2022-12-12T00:00:00\",\"2022-12-13T00:00:00\",\"2022-12-14T00:00:00\",\"2022-12-15T00:00:00\",\"2022-12-16T00:00:00\",\"2022-12-19T00:00:00\",\"2022-12-20T00:00:00\",\"2022-12-21T00:00:00\",\"2022-12-22T00:00:00\",\"2022-12-23T00:00:00\",\"2022-12-26T00:00:00\",\"2022-12-27T00:00:00\",\"2022-12-27T00:00:00\",\"2022-12-28T00:00:00\",\"2022-12-29T00:00:00\",\"2022-12-30T00:00:00\",\"2023-01-03T00:00:00\",\"2023-01-04T00:00:00\",\"2023-01-05T00:00:00\",\"2023-01-06T00:00:00\",\"2023-01-09T00:00:00\",\"2023-01-10T00:00:00\",\"2023-01-11T00:00:00\",\"2023-01-12T00:00:00\",\"2023-01-13T00:00:00\",\"2023-01-16T00:00:00\",\"2023-01-17T00:00:00\",\"2023-01-18T00:00:00\",\"2023-01-19T00:00:00\",\"2023-01-27T00:00:00\",\"2023-01-30T00:00:00\",\"2023-01-31T00:00:00\",\"2023-02-01T00:00:00\",\"2023-02-02T00:00:00\",\"2023-02-03T00:00:00\",\"2023-02-06T00:00:00\",\"2023-02-07T00:00:00\",\"2023-02-08T00:00:00\",\"2023-02-09T00:00:00\",\"2023-02-10T00:00:00\",\"2023-02-13T00:00:00\",\"2023-02-14T00:00:00\",\"2023-02-15T00:00:00\",\"2023-02-16T00:00:00\",\"2023-02-17T00:00:00\",\"2023-02-20T00:00:00\",\"2023-02-21T00:00:00\",\"2023-02-22T00:00:00\",\"2023-02-23T00:00:00\",\"2023-02-24T00:00:00\",\"2023-02-27T00:00:00\",\"2023-02-28T00:00:00\",\"2023-03-01T00:00:00\",\"2023-03-02T00:00:00\",\"2023-03-03T00:00:00\",\"2023-03-06T00:00:00\",\"2023-03-07T00:00:00\",\"2023-03-08T00:00:00\",\"2023-03-09T00:00:00\",\"2023-03-10T00:00:00\",\"2023-03-13T00:00:00\",\"2023-03-14T00:00:00\",\"2023-03-15T00:00:00\",\"2023-03-16T00:00:00\",\"2023-03-17T00:00:00\",\"2023-03-20T00:00:00\",\"2023-03-21T00:00:00\",\"2023-03-22T00:00:00\",\"2023-03-23T00:00:00\",\"2023-03-24T00:00:00\",\"2023-03-27T00:00:00\",\"2023-03-28T00:00:00\",\"2023-03-29T00:00:00\",\"2023-03-30T00:00:00\",\"2023-03-31T00:00:00\",\"2023-04-03T00:00:00\",\"2023-04-04T00:00:00\",\"2023-04-05T00:00:00\",\"2023-04-06T00:00:00\",\"2023-04-07T00:00:00\",\"2023-04-10T00:00:00\",\"2023-04-11T00:00:00\",\"2023-04-12T00:00:00\",\"2023-04-13T00:00:00\",\"2023-04-14T00:00:00\",\"2023-04-17T00:00:00\",\"2023-04-18T00:00:00\",\"2023-04-19T00:00:00\",\"2023-04-20T00:00:00\",\"2023-04-21T00:00:00\",\"2023-04-24T00:00:00\",\"2023-04-25T00:00:00\",\"2023-04-26T00:00:00\",\"2023-04-27T00:00:00\",\"2023-04-28T00:00:00\",\"2023-05-04T00:00:00\",\"2023-05-05T00:00:00\",\"2023-05-08T00:00:00\",\"2023-05-09T00:00:00\",\"2023-05-10T00:00:00\",\"2023-05-11T00:00:00\",\"2023-05-12T00:00:00\",\"2023-05-15T00:00:00\",\"2023-05-16T00:00:00\",\"2023-05-17T00:00:00\",\"2023-05-18T00:00:00\",\"2023-05-19T00:00:00\",\"2023-05-22T00:00:00\",\"2023-05-23T00:00:00\",\"2023-05-24T00:00:00\",\"2023-05-25T00:00:00\",\"2023-05-26T00:00:00\",\"2023-05-29T00:00:00\",\"2023-05-30T00:00:00\",\"2023-05-31T00:00:00\",\"2023-06-01T00:00:00\",\"2023-06-02T00:00:00\",\"2023-06-05T00:00:00\",\"2023-06-06T00:00:00\",\"2023-06-07T00:00:00\",\"2023-06-08T00:00:00\",\"2023-06-09T00:00:00\",\"2023-06-12T00:00:00\",\"2023-06-13T00:00:00\",\"2023-06-14T00:00:00\",\"2023-06-15T00:00:00\",\"2023-06-16T00:00:00\",\"2023-06-19T00:00:00\",\"2023-06-20T00:00:00\",\"2023-06-21T00:00:00\",\"2023-06-22T00:00:00\",\"2023-06-23T00:00:00\",\"2023-06-26T00:00:00\",\"2023-06-27T00:00:00\",\"2023-06-28T00:00:00\",\"2023-06-29T00:00:00\",\"2023-06-30T00:00:00\",\"2023-07-03T00:00:00\",\"2023-07-04T00:00:00\",\"2023-07-05T00:00:00\",\"2023-07-06T00:00:00\",\"2023-07-07T00:00:00\",\"2023-07-10T00:00:00\",\"2023-07-11T00:00:00\",\"2023-07-12T00:00:00\",\"2023-07-13T00:00:00\",\"2023-07-14T00:00:00\",\"2023-07-17T00:00:00\",\"2023-07-18T00:00:00\",\"2023-07-19T00:00:00\",\"2023-07-20T00:00:00\",\"2023-07-21T00:00:00\",\"2023-07-24T00:00:00\",\"2023-07-25T00:00:00\",\"2023-07-26T00:00:00\",\"2023-07-27T00:00:00\",\"2023-07-28T00:00:00\",\"2023-07-31T00:00:00\",\"2023-08-01T00:00:00\",\"2023-08-02T00:00:00\",\"2023-08-03T00:00:00\",\"2023-08-04T00:00:00\",\"2023-08-07T00:00:00\",\"2023-08-08T00:00:00\",\"2023-08-09T00:00:00\",\"2023-08-10T00:00:00\",\"2023-08-11T00:00:00\",\"2023-08-14T00:00:00\",\"2023-08-15T00:00:00\",\"2023-08-16T00:00:00\",\"2023-08-17T00:00:00\",\"2023-08-18T00:00:00\",\"2023-08-21T00:00:00\",\"2023-08-22T00:00:00\",\"2023-08-23T00:00:00\",\"2023-08-24T00:00:00\",\"2023-08-25T00:00:00\",\"2023-08-28T00:00:00\",\"2023-08-29T00:00:00\",\"2023-08-30T00:00:00\",\"2023-08-31T00:00:00\",\"2023-09-05T00:00:00\",\"2023-09-06T00:00:00\",\"2023-09-07T00:00:00\",\"2023-09-08T00:00:00\",\"2023-09-11T00:00:00\",\"2023-09-12T00:00:00\",\"2023-09-13T00:00:00\",\"2023-09-14T00:00:00\",\"2023-09-15T00:00:00\",\"2023-09-18T00:00:00\",\"2023-09-19T00:00:00\",\"2023-09-20T00:00:00\",\"2023-09-21T00:00:00\",\"2023-09-22T00:00:00\",\"2023-09-25T00:00:00\",\"2023-09-26T00:00:00\",\"2023-09-27T00:00:00\",\"2023-09-28T00:00:00\",\"2023-09-29T00:00:00\",\"2023-10-02T00:00:00\",\"2023-10-03T00:00:00\",\"2023-10-04T00:00:00\",\"2023-10-05T00:00:00\",\"2023-10-06T00:00:00\",\"2023-10-09T00:00:00\",\"2023-10-10T00:00:00\",\"2023-10-11T00:00:00\",\"2023-10-12T00:00:00\",\"2023-10-13T00:00:00\",\"2023-10-16T00:00:00\",\"2023-10-17T00:00:00\",\"2023-10-18T00:00:00\",\"2023-10-19T00:00:00\",\"2023-10-20T00:00:00\",\"2023-10-23T00:00:00\",\"2023-10-24T00:00:00\",\"2023-10-25T00:00:00\",\"2023-10-26T00:00:00\",\"2023-10-27T00:00:00\",\"2023-10-30T00:00:00\",\"2023-10-31T00:00:00\",\"2023-11-01T00:00:00\",\"2023-11-02T00:00:00\",\"2023-11-03T00:00:00\",\"2023-11-06T00:00:00\",\"2023-11-07T00:00:00\",\"2023-11-08T00:00:00\",\"2023-11-09T00:00:00\",\"2023-11-10T00:00:00\",\"2023-11-13T00:00:00\",\"2023-11-14T00:00:00\",\"2023-11-15T00:00:00\",\"2023-11-16T00:00:00\",\"2023-11-17T00:00:00\",\"2023-11-20T00:00:00\",\"2023-11-21T00:00:00\",\"2023-11-22T00:00:00\",\"2023-11-23T00:00:00\",\"2023-11-24T00:00:00\",\"2023-11-27T00:00:00\",\"2023-11-28T00:00:00\",\"2023-11-29T00:00:00\",\"2023-11-30T00:00:00\",\"2023-12-01T00:00:00\",\"2023-12-04T00:00:00\",\"2023-12-05T00:00:00\",\"2023-12-06T00:00:00\",\"2023-12-07T00:00:00\",\"2023-12-08T00:00:00\",\"2023-12-11T00:00:00\",\"2023-12-12T00:00:00\",\"2023-12-13T00:00:00\",\"2023-12-14T00:00:00\",\"2023-12-15T00:00:00\",\"2023-12-18T00:00:00\",\"2023-12-19T00:00:00\",\"2023-12-20T00:00:00\",\"2023-12-21T00:00:00\",\"2023-12-22T00:00:00\",\"2023-12-25T00:00:00\",\"2023-12-26T00:00:00\",\"2023-12-27T00:00:00\",\"2023-12-28T00:00:00\",\"2023-12-29T00:00:00\",\"2024-01-02T00:00:00\",\"2024-01-03T00:00:00\",\"2024-01-04T00:00:00\",\"2024-01-05T00:00:00\",\"2024-01-08T00:00:00\",\"2024-01-09T00:00:00\",\"2024-01-10T00:00:00\",\"2024-01-11T00:00:00\",\"2024-01-12T00:00:00\",\"2024-01-15T00:00:00\",\"2024-01-16T00:00:00\",\"2024-01-17T00:00:00\",\"2024-01-18T00:00:00\",\"2024-01-19T00:00:00\",\"2024-01-22T00:00:00\",\"2024-01-23T00:00:00\",\"2024-01-24T00:00:00\",\"2024-01-25T00:00:00\",\"2024-01-26T00:00:00\",\"2024-01-29T00:00:00\",\"2024-01-30T00:00:00\",\"2024-01-31T00:00:00\",\"2024-02-01T00:00:00\",\"2024-02-02T00:00:00\",\"2024-02-05T00:00:00\",\"2024-02-06T00:00:00\",\"2024-02-07T00:00:00\",\"2024-02-15T00:00:00\",\"2024-02-16T00:00:00\",\"2024-02-19T00:00:00\",\"2024-02-20T00:00:00\",\"2024-02-21T00:00:00\",\"2024-02-22T00:00:00\",\"2024-02-23T00:00:00\",\"2024-02-26T00:00:00\",\"2024-02-27T00:00:00\",\"2024-02-28T00:00:00\",\"2024-02-29T00:00:00\",\"2024-03-01T00:00:00\",\"2024-03-04T00:00:00\",\"2024-03-05T00:00:00\",\"2024-03-06T00:00:00\",\"2024-03-07T00:00:00\",\"2024-03-08T00:00:00\",\"2024-03-11T00:00:00\",\"2024-03-12T00:00:00\",\"2024-03-13T00:00:00\",\"2024-03-14T00:00:00\",\"2024-03-15T00:00:00\",\"2024-03-18T00:00:00\",\"2024-03-19T00:00:00\",\"2024-03-20T00:00:00\",\"2024-03-21T00:00:00\",\"2024-03-22T00:00:00\",\"2024-03-25T00:00:00\",\"2024-03-26T00:00:00\",\"2024-03-27T00:00:00\",\"2024-03-28T00:00:00\",\"2024-03-29T00:00:00\",\"2024-04-01T00:00:00\",\"2024-04-02T00:00:00\",\"2024-04-03T00:00:00\",\"2024-04-04T00:00:00\",\"2024-04-05T00:00:00\",\"2024-04-08T00:00:00\",\"2024-04-09T00:00:00\",\"2024-04-10T00:00:00\",\"2024-04-11T00:00:00\",\"2024-04-12T00:00:00\",\"2024-04-15T00:00:00\",\"2024-04-16T00:00:00\",\"2024-04-17T00:00:00\",\"2024-04-19T00:00:00\",\"2024-04-22T00:00:00\",\"2024-04-23T00:00:00\",\"2024-04-24T00:00:00\",\"2024-04-25T00:00:00\",\"2024-04-26T00:00:00\",\"2024-05-02T00:00:00\",\"2024-05-03T00:00:00\"],\"y\":[15832600,18634100,17948600,21780700,19978500,16645100,22738800,16131800,17527000,14788300,18112900,25778200,37915600,20829700,14798600,33091200,24099500,28056100,49934800,40248000,21323900,28541100,34839600,22252900,23371200,32918400,26164800,24253200,21343800,17007500,21362500,17921700,27282600,21931700,40928500,21998200,23670800,22262900,27962100,21396800,17777700,16289800,15772500,15569400,12153700,11905100,14097300,12191800,11166600,18392100,11047900,12487200,23653500,19929000,28109800,13251900,13333800,16323700,27681900,16678500,15377800,14033300,14407800,11970000,15623400,27010400,26956900,28753300,32078100,28433700,34808100,37829300,33049800,28493500,25156400,21294400,15619100,27877700,32996000,24468200,21609700,29552700,28160100,29565200,29316300,24654400,31815400,34004200,39146300,28407500,21552100,22951900,23592200,22689000,15485000,19165200,30138100,60309100,33413400,40000100,36969900,31679400,34653300,38486300,40956800,29312900,29030300,28587500,21707700,28929200,20215900,28992700,22610800,18459100,18559200,19985600,26191200,39158500,19830300,18899100,39670000,30058700,37065500,39626500,40552700,30632700,46892600,75500300,25498600,27431000,28546500,22253700,39399300,40965600,21315700,21494600,28755100,23484400,18206300,21215200,32783300,23016300,24064800,28297300,24329100,29704100,20101800,30419600,23318400,21895900,21547600,25809500,22222700,45483400,20163600,27506300,49333500,32825800,21929400,16395500,13857800,24491000,17004600,25872600,15066500,48098800,31246800,33040000,36718200,17217900,27227400,22432900,25908900,17982000,24548600,32328300,28847000,13143800,17773400,15884400,28469400,35611100,34898800,23148500,30478300,45357500,26571500,26766100,26772300,21693600,25548600,18107600,15582700,19279700,18520000,20737100,23720900,34660900,39192300,19849100,41605900,27910500,28937500,21923800,23878000,45218500,25669500,29867100,14849100,19377600,21255400,24717300,43376600,54292800,20846900,30647000,39777000,30002700,58592300,48471400,22630400,15649600,27126800,21763400,26729700,21801500,22176200,13823900,12832300,21682500,34633900,21935200,11108800,10320400,19427400,14305900,35676800,9045500,11030000,22015600,9986400,17094400,24665900,26674000,19168600,10675000,12356700,15118200,10285000,13781200,20100700,18760700,17171200,16335300,15946500,12758500,14686700,24990100,7902000,21661200,21441900,17705400,14665400,16277300,29425200,17887600,15205400,14700800,14941600,16609600,26528800,40297200,23598200,17343300,18246700,15564400,9350300,11353300,21375700,12177300,17669600,12981100,22445800,12775700,35200100,23374000,19896100,76236800,33378900,38200000,40509400,34775200,26828300,44340200,33845300,20864200,11418800,14957700,17727600,19313200,22965400,17291200,14927500,13444600,19505200,12684700,15726700,18892300,19701900,12156300,12124200,29707400,14512900,13738800,18233500,12712600,12038800,18378500,23186000,19054800,13236800,17812100,12663500,29055100,23280100,18780400,13611800,12347800,14901300,13817300,15010600,26283600,19440000,9559800,25252600,42997700,29389700,23415100,16073200,16040000,13929400,10178900,42201300,39418000,16225800,17591900,15054500,18840200,21644600,25380600,14709900,17769400,19376400,24841800,26979900,15182300,21236000,28438400,28702400,33385900,30237200,37272900,39935100,21442500,6926200,12828800,20739600,17838300,20190300,19950600,15200000,12443200,15093400,18233600,10828000,19504900,12476400,12146500,17855700,12520300,47697200,19929000,16276900,16893100,23043400,16642200,20722100,26378200,28601000,23510500,20587600,38143900,22699000,58846000,30031900,42516600,30365700,48222600,30124400,34352700,33797300,31513400,65490300,27443900,23215100,31457200,23798700,16687400,12125400,18259100,16469800,32468000,15309700,14977400,26282100,15332900,25025500,20365500,26048100,26167100,14681300,27029100,13683900,27510700,27479100,11511000,9916300,11594200,14593100,25875600,9010600,14067800,10331300,23369500,33572400,30510400,25316500,37464800,36474800,25059200,26448700,28996700,24198100,22588500,17053000,24387600,20235600,26033000,45155900,27973100,31109500,11243700,21366800,31204100,66298200,81552304,40121700,20629700,43889600,38263100,46273800,32786100,79749504,60716100,60270100,40416800,34902600,21514200,99658800,31604900,43246700,30303500,31115600,26533900,58844900,64305500,57721500,66587500,45683100,46513800,62775400,34619700,29943600,34549800,35832500,24343000,34285300,20983100,55383800,48039600,45551300,27702200,18965200,24810700,31370000,8344700,23655000,14311200,17422800,14452800,27990600,20230000,21502200,19630100,16185000,26852100,25709300,20172900,19174700,22319700,41584700,25850200,43940400,26524400,42341300,28105900,51905400,25388600,20956300,22269800,43379400,33812500,16343900,15828700,18741800,17294600,20076200,23914900,12287900,24741700,20643100,32634400,33590000,14597600,31316100,15217600,18619900,8867400,13608400,11366800,29323900,16159600,23274800,22458300,20930300,30865700,26779400,30247400,33958600,22988900,19060600,11963600,9895200,12147800,19611100,11175800,16925100,20118100,22399300,20755000,19205400,25522700,25803200,18438600,25901800,13700300,10267000,14227900,12664700,8797600,11053400,10025600,6219900,10486000,10035700,17900400,23706800,17137300,13649700,15659300,10104100,9981000,21730600,8078300,13229200,44317800,17087600,17266000,25245200,17894000,11079200,14330900,12972700,20272100,13258500,16088200,11091800,13457900,13085700,10836200,18866500,20044300,11799900,55512600,42521400,23873600,22219200,36944400,23475800,17473300,33010000,13180900,14608300,35605900,23036300,29157300,20399200,19943100,30313300,36803700,23068600,17057100,19728200,31804000,27611200,22614600,24267700,24014300,27758200,14006900,17078400,12534900,12402500,15378300,30865300,18455900,17164400,20225200,22868600,21315900,22702200,45529400,28011400,18524000,58029600,22170700,23091900,25568400,42662800,17064700,23382000,44946400,17938500,14994500,46604700,46358400,31441300,35171700,21774300,16596900,21847700,22819800,17969600,20143600,25934100,24501600,52574600,33671800,33793700,47697500,22615400,49193400,34684000,24750600,20891200,21032900,26600700,42921200,50583500,36873300,30838600,20325300,16562600,15019100,11412300,40638000,21095200,10424100,15250000,11432000,20004600,13502200,22054300,19572000,16205000,14705500,30930100,20808100,16369100,11948700,9713100,12062100,31030600,15016200,16173500,20792000,19143800,26641800,20498300,20380200,19861700,34851200,31361600,28030400,44000700,23257200,34617300,16261000,38532000,18250000,26703200,17015100,21684500,26228500,16724600,18863600,22503000,21208100,15400100,42341900,22511100,18648100,49430900,52783700,17845400,31681800,33347700,31777500,34686700,14875800,20496200,17661600,14307400,17429100,20407300,33743700,19852100,31308200,20467100,22187200,18575400,38538700,17333400,31243900,28623900,32642500,15264900,28626500,12497100,19767200,23410200,12639000,14859900,66067900,21678300,16136900,15227000,14372300,21575000,17529200,24456900,10636100,14162200,16231200,14660300,13808300,36985800,16718800,42276100,21391700,31579600,22413300,27300800,19221700,86841504,35201800,33580500,26958700,28579500,29917200,28059400,32262200,47322200,30415100,30135400,29367000,30774000,35823700,50100700,26973500,12971200,19972600,37384100,21350200,11976300,24329500,19113700,14821800,20759400,26298400,21489800,26371300,24018800,16708800,9838000,11134400,19246200,13916900,31107300,33424200,15575000,26138500,12390900,18359900,23052000,11236400,18304000,7322100,16714800],\"type\":\"bar\",\"xaxis\":\"x\",\"yaxis\":\"y2\"}],                        {\"template\":{\"data\":{\"histogram2dcontour\":[{\"type\":\"histogram2dcontour\",\"colorbar\":{\"outlinewidth\":0,\"ticks\":\"\"},\"colorscale\":[[0.0,\"#0d0887\"],[0.1111111111111111,\"#46039f\"],[0.2222222222222222,\"#7201a8\"],[0.3333333333333333,\"#9c179e\"],[0.4444444444444444,\"#bd3786\"],[0.5555555555555556,\"#d8576b\"],[0.6666666666666666,\"#ed7953\"],[0.7777777777777778,\"#fb9f3a\"],[0.8888888888888888,\"#fdca26\"],[1.0,\"#f0f921\"]]}],\"choropleth\":[{\"type\":\"choropleth\",\"colorbar\":{\"outlinewidth\":0,\"ticks\":\"\"}}],\"histogram2d\":[{\"type\":\"histogram2d\",\"colorbar\":{\"outlinewidth\":0,\"ticks\":\"\"},\"colorscale\":[[0.0,\"#0d0887\"],[0.1111111111111111,\"#46039f\"],[0.2222222222222222,\"#7201a8\"],[0.3333333333333333,\"#9c179e\"],[0.4444444444444444,\"#bd3786\"],[0.5555555555555556,\"#d8576b\"],[0.6666666666666666,\"#ed7953\"],[0.7777777777777778,\"#fb9f3a\"],[0.8888888888888888,\"#fdca26\"],[1.0,\"#f0f921\"]]}],\"heatmap\":[{\"type\":\"heatmap\",\"colorbar\":{\"outlinewidth\":0,\"ticks\":\"\"},\"colorscale\":[[0.0,\"#0d0887\"],[0.1111111111111111,\"#46039f\"],[0.2222222222222222,\"#7201a8\"],[0.3333333333333333,\"#9c179e\"],[0.4444444444444444,\"#bd3786\"],[0.5555555555555556,\"#d8576b\"],[0.6666666666666666,\"#ed7953\"],[0.7777777777777778,\"#fb9f3a\"],[0.8888888888888888,\"#fdca26\"],[1.0,\"#f0f921\"]]}],\"heatmapgl\":[{\"type\":\"heatmapgl\",\"colorbar\":{\"outlinewidth\":0,\"ticks\":\"\"},\"colorscale\":[[0.0,\"#0d0887\"],[0.1111111111111111,\"#46039f\"],[0.2222222222222222,\"#7201a8\"],[0.3333333333333333,\"#9c179e\"],[0.4444444444444444,\"#bd3786\"],[0.5555555555555556,\"#d8576b\"],[0.6666666666666666,\"#ed7953\"],[0.7777777777777778,\"#fb9f3a\"],[0.8888888888888888,\"#fdca26\"],[1.0,\"#f0f921\"]]}],\"contourcarpet\":[{\"type\":\"contourcarpet\",\"colorbar\":{\"outlinewidth\":0,\"ticks\":\"\"}}],\"contour\":[{\"type\":\"contour\",\"colorbar\":{\"outlinewidth\":0,\"ticks\":\"\"},\"colorscale\":[[0.0,\"#0d0887\"],[0.1111111111111111,\"#46039f\"],[0.2222222222222222,\"#7201a8\"],[0.3333333333333333,\"#9c179e\"],[0.4444444444444444,\"#bd3786\"],[0.5555555555555556,\"#d8576b\"],[0.6666666666666666,\"#ed7953\"],[0.7777777777777778,\"#fb9f3a\"],[0.8888888888888888,\"#fdca26\"],[1.0,\"#f0f921\"]]}],\"surface\":[{\"type\":\"surface\",\"colorbar\":{\"outlinewidth\":0,\"ticks\":\"\"},\"colorscale\":[[0.0,\"#0d0887\"],[0.1111111111111111,\"#46039f\"],[0.2222222222222222,\"#7201a8\"],[0.3333333333333333,\"#9c179e\"],[0.4444444444444444,\"#bd3786\"],[0.5555555555555556,\"#d8576b\"],[0.6666666666666666,\"#ed7953\"],[0.7777777777777778,\"#fb9f3a\"],[0.8888888888888888,\"#fdca26\"],[1.0,\"#f0f921\"]]}],\"mesh3d\":[{\"type\":\"mesh3d\",\"colorbar\":{\"outlinewidth\":0,\"ticks\":\"\"}}],\"scatter\":[{\"fillpattern\":{\"fillmode\":\"overlay\",\"size\":10,\"solidity\":0.2},\"type\":\"scatter\"}],\"parcoords\":[{\"type\":\"parcoords\",\"line\":{\"colorbar\":{\"outlinewidth\":0,\"ticks\":\"\"}}}],\"scatterpolargl\":[{\"type\":\"scatterpolargl\",\"marker\":{\"colorbar\":{\"outlinewidth\":0,\"ticks\":\"\"}}}],\"bar\":[{\"error_x\":{\"color\":\"#2a3f5f\"},\"error_y\":{\"color\":\"#2a3f5f\"},\"marker\":{\"line\":{\"color\":\"#E5ECF6\",\"width\":0.5},\"pattern\":{\"fillmode\":\"overlay\",\"size\":10,\"solidity\":0.2}},\"type\":\"bar\"}],\"scattergeo\":[{\"type\":\"scattergeo\",\"marker\":{\"colorbar\":{\"outlinewidth\":0,\"ticks\":\"\"}}}],\"scatterpolar\":[{\"type\":\"scatterpolar\",\"marker\":{\"colorbar\":{\"outlinewidth\":0,\"ticks\":\"\"}}}],\"histogram\":[{\"marker\":{\"pattern\":{\"fillmode\":\"overlay\",\"size\":10,\"solidity\":0.2}},\"type\":\"histogram\"}],\"scattergl\":[{\"type\":\"scattergl\",\"marker\":{\"colorbar\":{\"outlinewidth\":0,\"ticks\":\"\"}}}],\"scatter3d\":[{\"type\":\"scatter3d\",\"line\":{\"colorbar\":{\"outlinewidth\":0,\"ticks\":\"\"}},\"marker\":{\"colorbar\":{\"outlinewidth\":0,\"ticks\":\"\"}}}],\"scattermapbox\":[{\"type\":\"scattermapbox\",\"marker\":{\"colorbar\":{\"outlinewidth\":0,\"ticks\":\"\"}}}],\"scatterternary\":[{\"type\":\"scatterternary\",\"marker\":{\"colorbar\":{\"outlinewidth\":0,\"ticks\":\"\"}}}],\"scattercarpet\":[{\"type\":\"scattercarpet\",\"marker\":{\"colorbar\":{\"outlinewidth\":0,\"ticks\":\"\"}}}],\"carpet\":[{\"aaxis\":{\"endlinecolor\":\"#2a3f5f\",\"gridcolor\":\"white\",\"linecolor\":\"white\",\"minorgridcolor\":\"white\",\"startlinecolor\":\"#2a3f5f\"},\"baxis\":{\"endlinecolor\":\"#2a3f5f\",\"gridcolor\":\"white\",\"linecolor\":\"white\",\"minorgridcolor\":\"white\",\"startlinecolor\":\"#2a3f5f\"},\"type\":\"carpet\"}],\"table\":[{\"cells\":{\"fill\":{\"color\":\"#EBF0F8\"},\"line\":{\"color\":\"white\"}},\"header\":{\"fill\":{\"color\":\"#C8D4E3\"},\"line\":{\"color\":\"white\"}},\"type\":\"table\"}],\"barpolar\":[{\"marker\":{\"line\":{\"color\":\"#E5ECF6\",\"width\":0.5},\"pattern\":{\"fillmode\":\"overlay\",\"size\":10,\"solidity\":0.2}},\"type\":\"barpolar\"}],\"pie\":[{\"automargin\":true,\"type\":\"pie\"}]},\"layout\":{\"autotypenumbers\":\"strict\",\"colorway\":[\"#636efa\",\"#EF553B\",\"#00cc96\",\"#ab63fa\",\"#FFA15A\",\"#19d3f3\",\"#FF6692\",\"#B6E880\",\"#FF97FF\",\"#FECB52\"],\"font\":{\"color\":\"#2a3f5f\"},\"hovermode\":\"closest\",\"hoverlabel\":{\"align\":\"left\"},\"paper_bgcolor\":\"white\",\"plot_bgcolor\":\"#E5ECF6\",\"polar\":{\"bgcolor\":\"#E5ECF6\",\"angularaxis\":{\"gridcolor\":\"white\",\"linecolor\":\"white\",\"ticks\":\"\"},\"radialaxis\":{\"gridcolor\":\"white\",\"linecolor\":\"white\",\"ticks\":\"\"}},\"ternary\":{\"bgcolor\":\"#E5ECF6\",\"aaxis\":{\"gridcolor\":\"white\",\"linecolor\":\"white\",\"ticks\":\"\"},\"baxis\":{\"gridcolor\":\"white\",\"linecolor\":\"white\",\"ticks\":\"\"},\"caxis\":{\"gridcolor\":\"white\",\"linecolor\":\"white\",\"ticks\":\"\"}},\"coloraxis\":{\"colorbar\":{\"outlinewidth\":0,\"ticks\":\"\"}},\"colorscale\":{\"sequential\":[[0.0,\"#0d0887\"],[0.1111111111111111,\"#46039f\"],[0.2222222222222222,\"#7201a8\"],[0.3333333333333333,\"#9c179e\"],[0.4444444444444444,\"#bd3786\"],[0.5555555555555556,\"#d8576b\"],[0.6666666666666666,\"#ed7953\"],[0.7777777777777778,\"#fb9f3a\"],[0.8888888888888888,\"#fdca26\"],[1.0,\"#f0f921\"]],\"sequentialminus\":[[0.0,\"#0d0887\"],[0.1111111111111111,\"#46039f\"],[0.2222222222222222,\"#7201a8\"],[0.3333333333333333,\"#9c179e\"],[0.4444444444444444,\"#bd3786\"],[0.5555555555555556,\"#d8576b\"],[0.6666666666666666,\"#ed7953\"],[0.7777777777777778,\"#fb9f3a\"],[0.8888888888888888,\"#fdca26\"],[1.0,\"#f0f921\"]],\"diverging\":[[0,\"#8e0152\"],[0.1,\"#c51b7d\"],[0.2,\"#de77ae\"],[0.3,\"#f1b6da\"],[0.4,\"#fde0ef\"],[0.5,\"#f7f7f7\"],[0.6,\"#e6f5d0\"],[0.7,\"#b8e186\"],[0.8,\"#7fbc41\"],[0.9,\"#4d9221\"],[1,\"#276419\"]]},\"xaxis\":{\"gridcolor\":\"white\",\"linecolor\":\"white\",\"ticks\":\"\",\"title\":{\"standoff\":15},\"zerolinecolor\":\"white\",\"automargin\":true,\"zerolinewidth\":2},\"yaxis\":{\"gridcolor\":\"white\",\"linecolor\":\"white\",\"ticks\":\"\",\"title\":{\"standoff\":15},\"zerolinecolor\":\"white\",\"automargin\":true,\"zerolinewidth\":2},\"scene\":{\"xaxis\":{\"backgroundcolor\":\"#E5ECF6\",\"gridcolor\":\"white\",\"linecolor\":\"white\",\"showbackground\":true,\"ticks\":\"\",\"zerolinecolor\":\"white\",\"gridwidth\":2},\"yaxis\":{\"backgroundcolor\":\"#E5ECF6\",\"gridcolor\":\"white\",\"linecolor\":\"white\",\"showbackground\":true,\"ticks\":\"\",\"zerolinecolor\":\"white\",\"gridwidth\":2},\"zaxis\":{\"backgroundcolor\":\"#E5ECF6\",\"gridcolor\":\"white\",\"linecolor\":\"white\",\"showbackground\":true,\"ticks\":\"\",\"zerolinecolor\":\"white\",\"gridwidth\":2}},\"shapedefaults\":{\"line\":{\"color\":\"#2a3f5f\"}},\"annotationdefaults\":{\"arrowcolor\":\"#2a3f5f\",\"arrowhead\":0,\"arrowwidth\":1},\"geo\":{\"bgcolor\":\"white\",\"landcolor\":\"#E5ECF6\",\"subunitcolor\":\"white\",\"showland\":true,\"showlakes\":true,\"lakecolor\":\"white\"},\"title\":{\"x\":0.05},\"mapbox\":{\"style\":\"light\"}}},\"xaxis\":{\"anchor\":\"y\",\"domain\":[0.0,0.94],\"rangeslider\":{\"visible\":false}},\"yaxis\":{\"anchor\":\"x\",\"domain\":[0.0,1.0]},\"yaxis2\":{\"anchor\":\"x\",\"overlaying\":\"y\",\"side\":\"right\",\"range\":[0,100000000],\"visible\":false},\"shapes\":[{\"line\":{\"color\":\"red\",\"dash\":\"dash\",\"width\":2},\"name\":\"3y avg\",\"type\":\"line\",\"x0\":\"2021-01-04T00:00:00\",\"x1\":\"2024-05-03T00:00:00\",\"y0\":28076.896260554884,\"y1\":28076.896260554884}],\"title\":{\"text\":\"Fluctuations of HPG stock price\",\"x\":0.5}},                        {\"responsive\": true}                    ).then(function(){\n",
              "                            \n",
              "var gd = document.getElementById('2f2121a2-a1e4-4c76-9bc3-672782f30fe5');\n",
              "var x = new MutationObserver(function (mutations, observer) {{\n",
              "        var display = window.getComputedStyle(gd).display;\n",
              "        if (!display || display === 'none') {{\n",
              "            console.log([gd, 'removed!']);\n",
              "            Plotly.purge(gd);\n",
              "            observer.disconnect();\n",
              "        }}\n",
              "}});\n",
              "\n",
              "// Listen for the removal of the full notebook cells\n",
              "var notebookContainer = gd.closest('#notebook-container');\n",
              "if (notebookContainer) {{\n",
              "    x.observe(notebookContainer, {childList: true});\n",
              "}}\n",
              "\n",
              "// Listen for the clearing of the current output cell\n",
              "var outputEl = gd.closest('.output');\n",
              "if (outputEl) {{\n",
              "    x.observe(outputEl, {childList: true});\n",
              "}}\n",
              "\n",
              "                        })                };                            </script>        </div>\n",
              "</body>\n",
              "</html>"
            ]
          },
          "metadata": {}
        }
      ],
      "source": [
        "# Tính giá trị trung bình của giá đóng cửa (close)\n",
        "average_close = df_hpg['close'].mean()\n",
        "# Tạo bố cục cho biểu đồ và vẽ biểu đồ\n",
        "fig = msplt(specs=[[{\"secondary_y\":True}]])\n",
        "fig.add_trace(go.Scatter(x=df_hpg.index, y=df_hpg['close'], name='Price'), secondary_y=False)\n",
        "fig.add_trace(go.Scatter(x=df_hpg.index, y=df_hpg['close'].rolling(window=90).mean(), marker_color='orange', name='90 Day MvA'))\n",
        "fig.add_trace(go.Bar(x=df_hpg.index, y=df_hpg['volume'], name='Volume'), secondary_y=True)\n",
        "# Vẽ đường trung bình 3 năm\n",
        "fig.add_shape(\n",
        "    type=\"line\",\n",
        "    x0=df_hpg.index.min(),\n",
        "    y0=average_close,\n",
        "    x1=df_hpg.index.max(),\n",
        "    y1=average_close,\n",
        "    line=dict(\n",
        "        color=\"red\",\n",
        "        width=2,\n",
        "        dash=\"dash\"),\n",
        "        name='3y avg'\n",
        ")\n",
        "# Cấu hình cho biểu đồ\n",
        "fig.update_layout(title={'text': 'Fluctuations of HPG stock price', 'x': 0.5})\n",
        "fig.update_yaxes(range=[0, 100000000], secondary_y=True, visible=False)\n",
        "fig.update_layout(xaxis_rangeslider_visible=False)\n",
        "# Hiển thị biểu đồ\n",
        "fig.show()\n"
      ]
    },
    {
      "cell_type": "markdown",
      "metadata": {
        "id": "xWIh_F3CoFaf"
      },
      "source": [
        "### Phân tích biểu đồ giá cổ phiếu HPG\n",
        "\n",
        "Bên trên là biểu đồ giá cổ phiếu HPG của Tập đoàn Hòa Phát trong khoảng thời gian từ tháng 1 năm 2021 đến tháng 4 năm 2024. Biểu đồ hiển thị giá cổ phiếu, khối lượng giao dịch và đường trung bình động 90 ngày (90 Day MvA).\n",
        "\n",
        "**Xu hướng chung:**\n",
        "\n",
        "* **Giá cổ phiếu HPG** có xu hướng **giảm dần** trong khoảng thời gian hiển thị.\n",
        "* **Mức cao nhất** là **43.900 VND** vào tháng 10 năm 2021.\n",
        "* **Mức thấp nhất** là **12.100 VND** vào tháng 11 năm 2022.\n",
        "* **Giá hiện tại** (22 tháng 4 năm 2024) là **28.000 VND**.\n",
        "\n",
        "**Biến động:**\n",
        "\n",
        "* Biểu đồ cho thấy **sự biến động mạnh** của giá cổ phiếu HPG trong suốt thời gian hiển thị.\n",
        "* Có nhiều **đợt tăng và giảm giá** đột biến.\n",
        "* **Khối lượng giao dịch** cũng **biến động mạnh**, với những **đỉnh cao** vào các giai đoạn giá tăng và giảm mạnh.\n",
        "\n",
        "**Đường trung bình động 90 ngày:**\n",
        "\n",
        "* Đường trung bình động 90 ngày (90 Day MvA) **xuống dốc**, cho thấy **xu hướng giảm giá chung** của cổ phiếu HPG.\n",
        "* Giá cổ phiếu HPG **hiện đang nằm dưới đường 90 Day MvA**, cho thấy **cổ phiếu đang bị định giá thấp** so với mức trung bình trong 90 ngày qua.\n",
        "\n",
        "**Kết luận:**\n",
        "\n",
        "Biểu đồ cho thấy **xu hướng giảm giá chung** của cổ phiếu HPG trong khoảng thời gian hiển thị. Tuy nhiên, **cổ phiếu cũng có những đợt biến động mạnh** và **không thể dự đoán trước được**. Do đó, sử dụng **mô hình dự đoán giá chứng khoán** giúp nhà đầu tư phần nào có thể **cân nhắc kỹ lưỡng** trước khi quyết định đầu tư vào cổ phiếu HPG.\n",
        "\n",
        "**Ngoài ra, chúng ta có thể tham khảo thêm các thông tin sau:**\n",
        "\n",
        "* Giá Cổ Phiếu HPG Hôm Nay + Biểu Đồ & Lịch Trả Cổ Tức - Simplize: [https://simplize.vn/co-phieu/HPG](https://simplize.vn/co-phieu/HPG)\n",
        "* HPG: CTCP Tập đoàn Hòa Phát - Hoa Phat Group - So sánh cổ phiếu cùng ngành | VietstockFinance: [https://finance.vietstock.vn/hpg/so-sanh-gia-co-phieu-cung-nganh.htm](https://finance.vietstock.vn/hpg/so-sanh-gia-co-phieu-cung-nganh.htm)\n",
        "* Công ty cổ phần Tập đoàn Hòa Phát (HOSE:HPG) | s.cafef.vn: [https://s.cafef.vn/hose/HPG-cong-ty-co-phan-tap-doan-hoa-phat.chn](https://s.cafef.vn/hose/HPG-cong-ty-co-phan-tap-doan-hoa-phat.chn)\n",
        "* [https://vn.investing.com/equities/hoa-phat-group-jsc-historical-data](https://vn.investing.com/equities/hoa-phat-group-jsc-historical-data)\n",
        "\n",
        "> **Đoạn code về trực quan giá cổ phiếu trên được tham khảo từ [kaggle](https://www.kaggle.com/code/hoangheat/vnstock)**\n",
        "\n",
        "\n",
        "\n",
        "\n"
      ]
    },
    {
      "cell_type": "markdown",
      "source": [
        "#**Phần 2: Phân tích dữ liệu và xây dựng mô hình ARIMA**"
      ],
      "metadata": {
        "id": "Yhz46hwv06Js"
      }
    },
    {
      "cell_type": "markdown",
      "metadata": {
        "id": "g9eEVA7Ugm6j"
      },
      "source": [
        "## **Chia dữ liệu thành tập train và test**"
      ]
    },
    {
      "cell_type": "code",
      "execution_count": null,
      "metadata": {
        "id": "pkIUhjHs5mhB"
      },
      "outputs": [],
      "source": [
        "# Chia tập dữ liệu thành tập train và tập test với tỷ lệ 70:30\n",
        "train_data, test_data = train_test_split(df_hpg, test_size=0.3, random_state=42, shuffle=False)"
      ]
    },
    {
      "cell_type": "markdown",
      "metadata": {
        "id": "Iecp1fqGlG0X"
      },
      "source": [
        "## **Lựa chọn và huấn luyện mô hình dự đoán**"
      ]
    },
    {
      "cell_type": "markdown",
      "metadata": {
        "id": "cafVshGclTik"
      },
      "source": [
        "### Dùng auto_arima để tìm mô hình arima nào phù hợp để dự đoán"
      ]
    },
    {
      "cell_type": "code",
      "source": [
        "model = auto_arima(train_data['close'],\n",
        "                   seasonal=True, # Mô hình có yếu tố mùa vụ\n",
        "                   m=12, # Chu kỳ mùa vụ là 12 tháng\n",
        "                   trace=True, # In ra các thông tin về quá trình tìm kiếm mô hình\n",
        "                   error_action='ignore', # Bỏ qua lỗi xảy ra trong quá trình huấn luyện mô hình\n",
        "                   suppress_warnings=True, # Làm giảm số lượng cảnh báo xuất hiện trong quá trình huấn luyện\n",
        "                   with_intercept=False, # Loại bỏ hệ số chặn trong mô hình ARIMA\n",
        "                   d=0) # Không có mức độ sai phân (differencing) trong mô hình ARIMA\n",
        "fitted = model.fit(train_data['close'])\n",
        "print(fitted)"
      ],
      "metadata": {
        "colab": {
          "base_uri": "https://localhost:8080/"
        },
        "outputId": "08ace8f6-b835-485f-e4e4-e20273d1b662",
        "id": "Wf3NFWIVLLmT"
      },
      "execution_count": null,
      "outputs": [
        {
          "output_type": "stream",
          "name": "stdout",
          "text": [
            "Performing stepwise search to minimize aic\n",
            " ARIMA(2,0,2)(1,0,1)[12]             : AIC=inf, Time=4.86 sec\n",
            " ARIMA(0,0,0)(0,0,0)[12]             : AIC=13595.509, Time=0.03 sec\n",
            " ARIMA(1,0,0)(1,0,0)[12]             : AIC=inf, Time=0.36 sec\n",
            " ARIMA(0,0,1)(0,0,1)[12]             : AIC=inf, Time=0.90 sec\n",
            " ARIMA(0,0,0)(1,0,0)[12]             : AIC=inf, Time=0.09 sec\n",
            " ARIMA(0,0,0)(0,0,1)[12]             : AIC=inf, Time=0.60 sec\n",
            " ARIMA(0,0,0)(1,0,1)[12]             : AIC=10722.179, Time=0.64 sec\n",
            " ARIMA(0,0,0)(2,0,1)[12]             : AIC=10716.163, Time=1.00 sec\n",
            " ARIMA(0,0,0)(2,0,0)[12]             : AIC=inf, Time=0.74 sec\n",
            " ARIMA(0,0,0)(2,0,2)[12]             : AIC=10712.516, Time=0.90 sec\n",
            " ARIMA(0,0,0)(1,0,2)[12]             : AIC=10712.869, Time=0.93 sec\n",
            " ARIMA(1,0,0)(2,0,2)[12]             : AIC=inf, Time=2.09 sec\n",
            " ARIMA(0,0,1)(2,0,2)[12]             : AIC=inf, Time=nan sec\n",
            " ARIMA(1,0,1)(2,0,2)[12]             : AIC=inf, Time=2.99 sec\n",
            " ARIMA(0,0,0)(2,0,2)[12] intercept   : AIC=11622.375, Time=7.66 sec\n",
            "\n",
            "Best model:  ARIMA(0,0,0)(2,0,2)[12]          \n",
            "Total fit time: 29.786 seconds\n",
            " ARIMA(0,0,0)(2,0,2)[12]          \n"
          ]
        }
      ]
    },
    {
      "cell_type": "markdown",
      "source": [
        "Các kết quả được in ra sau khi mô hình ARIMA được xây dựng và đào tạo trên dữ liệu giá cổ phiếu. Sau đây là một số giải thích:\n",
        "\n",
        "1. **Performing stepwise search to minimize aic**: Quá trình tìm kiếm mô hình ARIMA được thực hiện bằng cách lựa chọn các tham số (p, d, q) và (P, D, Q, s) tối ưu nhất để giảm giá trị AIC (Akaike Information Criterion).\n",
        "\n",
        "2. **Best model**: Mô hình tốt nhất được chọn là ARIMA(0,0,0)(2,0,2)[12]. Điều này có nghĩa là mô hình không sử dụng các bước sai phân (d=0) và không có thành phần tự hồi quy (p=0, q=0). Thay vào đó, nó sử dụng yếu tố mùa vụ với chu kỳ là 12 tháng (s=12) và có thành phần tự hồi quy mùa vụ (P=2, D=0, Q=2).\n",
        "\n",
        "3. **Total fit time**: Thời gian tổng cộng mà quá trình tìm kiếm mô hình và đào tạo mô hình đã mất.\n",
        "\n",
        "Mô hình được chọn được xác định dựa trên giá trị AIC, một đánh giá về mức độ phù hợp của mô hình với dữ liệu. Mô hình tốt nhất là mô hình có giá trị AIC thấp nhất. Trong trường hợp này, ARIMA(0,0,0)(2,0,2)[12] là mô hình tốt nhất được lựa chọn."
      ],
      "metadata": {
        "id": "NKZ-QQhdOsnF"
      }
    },
    {
      "cell_type": "markdown",
      "metadata": {
        "id": "pmnH8GQ8lRqT"
      },
      "source": [
        "### Huấn luyện mô hình"
      ]
    },
    {
      "cell_type": "code",
      "source": [
        "# Tạo và huấn luyện mô hình ARIMA với dữ liệu giá cổ phiếu\n",
        "model = ARIMA(train_data['close'], order=(0, 0, 0), seasonal_order=(2, 0, 2, 12))\n",
        "fitted_model = model.fit()\n",
        "\n",
        "# Tạo index\n",
        "index_range = test_data.index\n",
        "\n",
        "# Dự đoán giá cổ phiếu\n",
        "forecast_arima = fitted_model.forecast(steps=len(test_data))\n",
        "forecast_arima.index = index_range"
      ],
      "metadata": {
        "id": "yRKytCjLHvtO"
      },
      "execution_count": null,
      "outputs": []
    },
    {
      "cell_type": "code",
      "execution_count": null,
      "metadata": {
        "colab": {
          "base_uri": "https://localhost:8080/"
        },
        "id": "HpPHK12LaPAn",
        "outputId": "1d2876a1-4c47-4ea7-9298-9adebd9f15f2"
      },
      "outputs": [
        {
          "output_type": "stream",
          "name": "stdout",
          "text": [
            "time\n",
            "2023-05-05    21089.327879\n",
            "2023-05-08    21491.801642\n",
            "2023-05-09    21426.599911\n",
            "2023-05-10    21376.852861\n",
            "2023-05-11    21497.490955\n",
            "                  ...     \n",
            "2024-04-24    27934.983334\n",
            "2024-04-25    27902.721533\n",
            "2024-04-26    27874.623714\n",
            "2024-05-02    27957.847065\n",
            "2024-05-03    28090.484118\n",
            "Name: predicted_mean, Length: 249, dtype: float64\n"
          ]
        }
      ],
      "source": [
        "print(forecast_arima)"
      ]
    },
    {
      "cell_type": "markdown",
      "source": [
        "## **So sánh dữ liệu giá trị dự đoán với dữ liệu giá trị thật**"
      ],
      "metadata": {
        "id": "f_dt-fMUW0PU"
      }
    },
    {
      "cell_type": "code",
      "source": [
        "# Tạo DataFrame mới từ dữ liệu dự đoán\n",
        "compare = pd.DataFrame(forecast_arima, columns=['predicted_mean'])\n",
        "\n",
        "# Thêm cột test_data vào DataFrame mới\n",
        "compare['test_data'] = test_data['close']\n",
        "\n",
        "# In ra DataFrame sau khi thêm cột\n",
        "print(compare)"
      ],
      "metadata": {
        "colab": {
          "base_uri": "https://localhost:8080/"
        },
        "id": "VFpeozz2VOz_",
        "outputId": "28670ed5-1271-4d47-9068-30144e48c669"
      },
      "execution_count": null,
      "outputs": [
        {
          "output_type": "stream",
          "name": "stdout",
          "text": [
            "            predicted_mean  test_data\n",
            "time                                 \n",
            "2023-05-05    21089.327879      21500\n",
            "2023-05-08    21491.801642      21600\n",
            "2023-05-09    21426.599911      21850\n",
            "2023-05-10    21376.852861      21750\n",
            "2023-05-11    21497.490955      21800\n",
            "...                    ...        ...\n",
            "2024-04-24    27934.983334      28800\n",
            "2024-04-25    27902.721533      28550\n",
            "2024-04-26    27874.623714      28400\n",
            "2024-05-02    27957.847065      28350\n",
            "2024-05-03    28090.484118      28650\n",
            "\n",
            "[249 rows x 2 columns]\n"
          ]
        }
      ]
    },
    {
      "cell_type": "markdown",
      "metadata": {
        "id": "9R-GXTP46x8y"
      },
      "source": [
        "# **Phần 3: Đánh giá và triển khai mô hình**"
      ]
    },
    {
      "cell_type": "markdown",
      "source": [
        "## **Vẽ biểu đồ so sánh giá trị dự đoán với giá trị thực**"
      ],
      "metadata": {
        "id": "mpOEgNzB24-s"
      }
    },
    {
      "cell_type": "code",
      "source": [
        "# Chia biểu đồ thành 2 phần\n",
        "fig, (ax1, ax2) = plt.subplots(1, 2, figsize=(15, 6))\n",
        "\n",
        "# Biểu đồ 1 gồm giá trị train_data, test_data và forecast_arima\n",
        "ax1.grid(True)\n",
        "ax1.set_xlabel('Dates')\n",
        "ax1.set_ylabel('Closing Prices')\n",
        "ax1.plot(train_data['close'], 'green', label='Train data')\n",
        "ax1.plot(test_data['close'], 'blue', label='Test data')\n",
        "ax1.plot(test_data.index, forecast_arima, 'red', label='Forecast')\n",
        "ax1.set_title('Hoa Phat Group Stock Price Prediction')\n",
        "ax1.legend()\n",
        "\n",
        "# Biểu đồ 2 gồm giá trị test_data và forecast\n",
        "ax2.set_xlabel('Dates')\n",
        "ax2.set_ylabel('Closing Prices')\n",
        "ax2.plot(test_data['close'], 'blue', label='Test data')\n",
        "ax2.plot(test_data.index, forecast_arima, 'red', label='Forecast')\n",
        "ax2.set_title('Comparison of Predicted vs True Data')\n",
        "ax2.legend()\n",
        "ax2.grid(True)\n",
        "\n",
        "# Điều chỉnh bố cục\n",
        "plt.tight_layout()\n",
        "\n",
        "plt.show()"
      ],
      "metadata": {
        "colab": {
          "base_uri": "https://localhost:8080/",
          "height": 420
        },
        "id": "q0xDlA2kIM0i",
        "outputId": "c17e51ee-3a99-4a00-8f42-9b6f5e167bda"
      },
      "execution_count": null,
      "outputs": [
        {
          "output_type": "display_data",
          "data": {
            "text/plain": [
              "<Figure size 1500x600 with 2 Axes>"
            ],
            "image/png": "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\n"
          },
          "metadata": {}
        }
      ]
    },
    {
      "cell_type": "markdown",
      "source": [
        "## Phân tích biểu đồ trực quan về dự đoán giá cổ phiếu Tập đoàn Hòa Phát\n",
        "\n",
        "* **Biểu đồ:** Biểu đồ so sánh giá đóng cửa thực tế và giá đóng cửa dự đoán của cổ phiếu Tập đoàn Hòa Phát trong khoảng thời gian từ tháng 4 năm 2023 đến hiện tại.\n",
        "* **Dữ liệu:**\n",
        "    * Giá đóng cửa thực tế (Closing Prices): Giá đóng cửa thực tế của cổ phiếu Hòa Phát trong khoảng thời gian từ tháng 4 năm 2023 đến nay.\n",
        "    * Giá đóng cửa dự đoán (Forecast): Giá đóng cửa dự đoán bởi mô hình trong khoảng thời gian tương ứng.\n",
        "* **Nhận xét:**\n",
        "    * Có thể thấy rằng mô hình dự đoán giá cổ phiếu tương đối chính xác trong giai đoạn từ tháng 4 năm 2023 đến nay. Tuy nhiên, vẫn có một số điểm sai lệch giữa giá dự đoán và giá thực tế.\n",
        "\n",
        "**Kết luận:**\n",
        "\n",
        "Hai biểu đồ cho thấy mô hình dự đoán giá cổ phiếu Hòa Phát có độ chính xác tương đối cao. Tuy nhiên, vẫn có một số điểm sai lệch giữa giá dự đoán và giá thực tế. Do đó, nhà đầu tư cần lưu ý điều này khi sử dụng mô hình để dự đoán giá cổ phiếu trong tương lai.\n",
        "\n",
        "**Lưu ý:**\n",
        "\n",
        "* Mô hình dự đoán giá cổ phiếu chỉ là công cụ tham khảo, không phải là lời khuyên đầu tư.\n",
        "* Nhà đầu tư cần cân nhắc nhiều yếu tố khác trước khi đưa ra quyết định đầu tư.\n"
      ],
      "metadata": {
        "id": "I6swmhgXRbQh"
      }
    },
    {
      "cell_type": "markdown",
      "metadata": {
        "id": "z57WsE0Xm-93"
      },
      "source": [
        "## **Đánh giá mô hình bằng Mean Squared Error (MSE) và Root Mean Squared Error (RMSE)**"
      ]
    },
    {
      "cell_type": "code",
      "execution_count": null,
      "metadata": {
        "id": "ECIaZamTbakj"
      },
      "outputs": [],
      "source": [
        "forecast_arima = pd.DataFrame(forecast_arima)"
      ]
    },
    {
      "cell_type": "code",
      "execution_count": null,
      "metadata": {
        "colab": {
          "base_uri": "https://localhost:8080/"
        },
        "id": "A3rHdOxp7anZ",
        "outputId": "6aa08710-c5db-4237-fcf2-9f0a114cd721"
      },
      "outputs": [
        {
          "output_type": "stream",
          "name": "stdout",
          "text": [
            "MSE: 3587032.6114199297\n"
          ]
        }
      ],
      "source": [
        "# MSE\n",
        "MSE = mean_squared_error(test_data['close'], forecast_arima['predicted_mean'])\n",
        "print('MSE:',MSE)"
      ]
    },
    {
      "cell_type": "code",
      "source": [
        "# RMSE\n",
        "RMSE = np.sqrt(MSE)\n",
        "print('RMSE: ',RMSE)"
      ],
      "metadata": {
        "colab": {
          "base_uri": "https://localhost:8080/"
        },
        "id": "9zSEGzQWuYVf",
        "outputId": "625b1ac4-caa0-4f7b-873e-9454a3bd458a"
      },
      "execution_count": null,
      "outputs": [
        {
          "output_type": "stream",
          "name": "stdout",
          "text": [
            "RMSE:  1893.946306371944\n"
          ]
        }
      ]
    },
    {
      "cell_type": "markdown",
      "source": [
        "**Nhận xét**\n",
        "\n",
        "* Chỉ số RMSE (Root Mean Squared Error) đạt 1764.2223659378633. Đây là căn bậc hai của Mean Squared Error (MSE), đại diện cho mức độ sai lệch trung bình giữa giá trị dự đoán và giá trị thực tế.\n",
        "\n",
        "* Chỉ số RMSE cho thấy sai số trung bình cho mỗi dự đoán là 1764.22 VND, tương đương với mức sai lệch trung bình giữa giá trị dự đoán và giá trị thực tế.\n",
        "\n",
        "* Giá trị RMSE càng nhỏ, mô hình dự đoán càng chính xác. Đối với mô hình dự đoán giá cổ phiếu với đơn vị VND, RMSE 1764.22 VND được đánh giá là ở mức chấp nhận được.\n",
        "\n"
      ],
      "metadata": {
        "id": "Im0q9HpNu4_3"
      }
    },
    {
      "cell_type": "markdown",
      "metadata": {
        "id": "7XsCOr28LuXJ"
      },
      "source": [
        "## **Triển khai dự đoán giá cổ phiếu trong 30 ngày tiếp theo**"
      ]
    },
    {
      "cell_type": "code",
      "execution_count": null,
      "metadata": {
        "id": "PHu3WMsJLt3h"
      },
      "outputs": [],
      "source": [
        "# Tạo index\n",
        "start_next_index = df_hpg.index[-1] + timedelta(days=1)\n",
        "end_next_index = start_next_index + + timedelta(days=30)\n",
        "index_next_range = pd.date_range(start=start_next_index, end=end_next_index)\n",
        "\n",
        "# Dự đoán 30 ngày tiếp theo\n",
        "start_next = len(test_data) + len(train_data)\n",
        "end_next = len(test_data) + len(train_data) + 30\n",
        "forecast = fitted_model.predict(start=start_next, end=end_next)\n",
        "forecast.index = index_next_range"
      ]
    },
    {
      "cell_type": "code",
      "execution_count": null,
      "metadata": {
        "colab": {
          "base_uri": "https://localhost:8080/"
        },
        "id": "PCt6cC6eV1Tb",
        "outputId": "2c11f731-9121-47d9-8715-420fea37b3c1"
      },
      "outputs": [
        {
          "output_type": "execute_result",
          "data": {
            "text/plain": [
              "2024-05-04    28067.122414\n",
              "2024-05-05    28038.258338\n",
              "2024-05-06    28035.215518\n",
              "2024-05-07    27974.290204\n",
              "2024-05-08    28016.750781\n",
              "2024-05-09    28004.127282\n",
              "2024-05-10    27994.919407\n",
              "2024-05-11    28011.382253\n",
              "2024-05-12    27982.777503\n",
              "2024-05-13    27957.864723\n",
              "2024-05-14    28031.654256\n",
              "2024-05-15    28149.256179\n",
              "2024-05-16    28128.542651\n",
              "2024-05-17    28102.950475\n",
              "2024-05-18    28100.252575\n",
              "2024-05-19    28046.233476\n",
              "2024-05-20    28083.880916\n",
              "2024-05-21    28072.688360\n",
              "2024-05-22    28064.524247\n",
              "2024-05-23    28079.120940\n",
              "2024-05-24    28053.758693\n",
              "2024-05-25    28031.669913\n",
              "2024-05-26    28097.095001\n",
              "2024-05-27    28201.366109\n",
              "2024-05-28    28183.000572\n",
              "2024-05-29    28160.309408\n",
              "2024-05-30    28157.917329\n",
              "2024-05-31    28110.021588\n",
              "2024-06-01    28143.401487\n",
              "2024-06-02    28133.477667\n",
              "2024-06-03    28126.239001\n",
              "Freq: D, Name: predicted_mean, dtype: float64"
            ]
          },
          "metadata": {},
          "execution_count": 21
        }
      ],
      "source": [
        "forecast"
      ]
    },
    {
      "cell_type": "markdown",
      "source": [
        "# **Phần 4: Kết luận**\n",
        "\n",
        "Đề tài này đã xây dựng mô hình dự đoán giá cổ phiếu Hoà Phát Group (HPG) trên Sàn Giao dịch Chứng khoán Việt Nam (HOSE) bằng Python, sử dụng thư viện vnstock và ARIMA.\n",
        "\n",
        "Mô hình đã được đánh giá trên tập dữ liệu lịch sử giá cổ phiếu HPG và cho thấy hiệu quả dự đoán tương đối chấp nhận với chỉ số RMSE (Root Mean Squared Error) là 1764.22 VND.\n",
        "\n",
        "Kết quả này cho thấy mô hình có tiềm năng ứng dụng để hỗ trợ nhà đầu tư trong việc đưa ra quyết định đầu tư sáng suốt hơn.\n",
        "\n",
        "Tuy nhiên, cần lưu ý rằng đây chỉ là một nghiên cứu ban đầu và mô hình dự đoán vẫn còn một số hạn chế:\n",
        "\n",
        "* Dữ liệu lịch sử có thể không phản ánh đầy đủ các yếu tố ảnh hưởng đến giá cổ phiếu trong tương lai.\n",
        "* Mô hình ARIMA có thể không phù hợp với tất cả các trường hợp và cần được điều chỉnh cho phù hợp với từng trường hợp cụ thể.\n",
        "\n",
        "Do đó, cần tiếp tục nghiên cứu để cải thiện độ chính xác của mô hình và mở rộng ứng dụng sang dự đoán giá cổ phiếu của các công ty khác trên thị trường chứng khoán Việt Nam.\n",
        "\n",
        "**Dưới đây là một số đề xuất cho nghiên cứu tiếp theo:**\n",
        "\n",
        "* Sử dụng các mô hình học máy tiên tiến hơn như mạng nơ-ron nhân tạo (ANN) hoặc học sâu (Deep Learning) để dự đoán giá cổ phiếu.\n",
        "* Kết hợp nhiều nguồn dữ liệu khác nhau như tin tức, phân tích thị trường và dữ liệu kinh tế để nâng cao hiệu quả dự đoán.\n",
        "* Đánh giá mô hình trên nhiều tập dữ liệu khác nhau để khẳng định tính ổn định và hiệu quả của mô hình."
      ],
      "metadata": {
        "id": "o0PIwK3C2Hhm"
      }
    }
  ],
  "metadata": {
    "colab": {
      "provenance": [],
      "toc_visible": true
    },
    "kernelspec": {
      "display_name": "Python 3",
      "name": "python3"
    },
    "language_info": {
      "codemirror_mode": {
        "name": "ipython",
        "version": 3
      },
      "file_extension": ".py",
      "mimetype": "text/x-python",
      "name": "python",
      "nbconvert_exporter": "python",
      "pygments_lexer": "ipython3",
      "version": "3.11.3"
    }
  },
  "nbformat": 4,
  "nbformat_minor": 0
}
